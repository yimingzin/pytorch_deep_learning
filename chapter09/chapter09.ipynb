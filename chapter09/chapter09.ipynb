{
 "cells": [
  {
   "metadata": {},
   "cell_type": "markdown",
   "source": "## 0. Getting setup",
   "id": "cb8b9cd32718b5f4"
  },
  {
   "metadata": {
    "ExecuteTime": {
     "end_time": "2024-12-03T11:33:51.090638Z",
     "start_time": "2024-12-03T11:33:49.162231Z"
    }
   },
   "cell_type": "code",
   "source": [
    "import torch\n",
    "\n",
    "pt_version = torch.__version__\n",
    "print(f\"[INFO] Current PyTorch version: {pt_version} (should be 2.x+)\")"
   ],
   "id": "initial_id",
   "outputs": [
    {
     "name": "stdout",
     "output_type": "stream",
     "text": [
      "[INFO] Current PyTorch version: 2.5.1 (should be 2.x+)\n"
     ]
    }
   ],
   "execution_count": 1
  },
  {
   "metadata": {},
   "cell_type": "markdown",
   "source": "## 1. Get GPU info",
   "id": "91f91e63a33ebdd2"
  },
  {
   "metadata": {
    "ExecuteTime": {
     "end_time": "2024-12-03T11:33:54.019247Z",
     "start_time": "2024-12-03T11:33:53.748250Z"
    }
   },
   "cell_type": "code",
   "source": [
    "# Make sure we're using a NVIDIA GPU\n",
    "if torch.cuda.is_available():\n",
    "  gpu_info = !nvidia-smi\n",
    "  gpu_info = '\\n'.join(gpu_info)\n",
    "  if gpu_info.find(\"failed\") >= 0:\n",
    "    print(\"Not connected to a GPU, to leverage the best of PyTorch 2.0, you should connect to a GPU.\")\n",
    "\n",
    "  # Get GPU name\n",
    "  gpu_name = !nvidia-smi --query-gpu=gpu_name --format=csv\n",
    "  gpu_name = gpu_name[1]\n",
    "  GPU_NAME = gpu_name.replace(\" \", \"_\") # remove underscores for easier saving\n",
    "  print(f'GPU name: {GPU_NAME}')\n",
    "\n",
    "  # Get GPU capability score\n",
    "  GPU_SCORE = torch.cuda.get_device_capability()\n",
    "  print(f\"GPU capability score: {GPU_SCORE}\")\n",
    "  if GPU_SCORE >= (8, 0):\n",
    "    print(f\"GPU score higher than or equal to (8, 0), PyTorch 2.x speedup features available.\")\n",
    "  else:\n",
    "    print(f\"GPU score lower than (8, 0), PyTorch 2.x speedup features will be limited (PyTorch 2.x speedups happen most on newer GPUs).\")\n",
    "  \n",
    "  # Print GPU info\n",
    "  print(f\"GPU information:\\n{gpu_info}\")\n",
    "\n",
    "else:\n",
    "  print(\"PyTorch couldn't find a GPU, to leverage the best of PyTorch 2.0, you should connect to a GPU.\")"
   ],
   "id": "2ebbb804a91b3ea2",
   "outputs": [
    {
     "name": "stdout",
     "output_type": "stream",
     "text": [
      "GPU name: NVIDIA_GeForce_RTX_4060_Laptop_GPU\n",
      "GPU capability score: (8, 9)\n",
      "GPU score higher than or equal to (8, 0), PyTorch 2.x speedup features available.\n",
      "GPU information:\n",
      "Tue Dec  3 19:33:53 2024       \n",
      "+-----------------------------------------------------------------------------------------+\n",
      "| NVIDIA-SMI 565.90                 Driver Version: 565.90         CUDA Version: 12.7     |\n",
      "|-----------------------------------------+------------------------+----------------------+\n",
      "| GPU  Name                  Driver-Model | Bus-Id          Disp.A | Volatile Uncorr. ECC |\n",
      "| Fan  Temp   Perf          Pwr:Usage/Cap |           Memory-Usage | GPU-Util  Compute M. |\n",
      "|                                         |                        |               MIG M. |\n",
      "|=========================================+========================+======================|\n",
      "|   0  NVIDIA GeForce RTX 4060 ...  WDDM  |   00000000:01:00.0  On |                  N/A |\n",
      "| N/A   48C    P8              5W /  120W |    1203MiB /   8188MiB |      7%      Default |\n",
      "|                                         |                        |                  N/A |\n",
      "+-----------------------------------------+------------------------+----------------------+\n",
      "                                                                                         \n",
      "+-----------------------------------------------------------------------------------------+\n",
      "| Processes:                                                                              |\n",
      "|  GPU   GI   CI        PID   Type   Process name                              GPU Memory |\n",
      "|        ID   ID                                                               Usage      |\n",
      "|=========================================================================================|\n",
      "|    0   N/A  N/A      4196    C+G   ...5n1h2txyewy\\ShellExperienceHost.exe      N/A      |\n",
      "|    0   N/A  N/A      6636    C+G   ...2txyewy\\StartMenuExperienceHost.exe      N/A      |\n",
      "|    0   N/A  N/A      6720    C+G   ...nt.CBS_cw5n1h2txyewy\\SearchHost.exe      N/A      |\n",
      "|    0   N/A  N/A      9488    C+G   ...0_x64__nzyj5cx40ttqa\\AppleMusic.exe      N/A      |\n",
      "|    0   N/A  N/A     10624    C+G   ...ekyb3d8bbwe\\PhoneExperienceHost.exe      N/A      |\n",
      "|    0   N/A  N/A     10668    C+G   ...__nzyj5cx40ttqa\\AMPLibraryAgent.exe      N/A      |\n",
      "|    0   N/A  N/A     11656    C+G   C:\\Windows\\explorer.exe                     N/A      |\n",
      "|    0   N/A  N/A     12624    C+G   ...CBS_cw5n1h2txyewy\\TextInputHost.exe      N/A      |\n",
      "|    0   N/A  N/A     12972    C+G   C:\\Windows\\System32\\NahimicSvc64.exe        N/A      |\n",
      "|    0   N/A  N/A     16132    C+G   ...oogle\\Chrome\\Application\\chrome.exe      N/A      |\n",
      "|    0   N/A  N/A     16200    C+G   ...siveControlPanel\\SystemSettings.exe      N/A      |\n",
      "|    0   N/A  N/A     18332    C+G   ...t.LockApp_cw5n1h2txyewy\\LockApp.exe      N/A      |\n",
      "|    0   N/A  N/A     19300    C+G   ...GeForce Experience\\NVIDIA Share.exe      N/A      |\n",
      "|    0   N/A  N/A     20440    C+G   ...1.0_x64__w2gh52qy24etm\\Nahimic3.exe      N/A      |\n",
      "|    0   N/A  N/A     21900    C+G   ...crosoft\\Edge\\Application\\msedge.exe      N/A      |\n",
      "|    0   N/A  N/A     22144    C+G   C:\\Windows\\explorer.exe                     N/A      |\n",
      "|    0   N/A  N/A     22628    C+G   ...on\\131.0.2903.70\\msedgewebview2.exe      N/A      |\n",
      "|    0   N/A  N/A     25492    C+G   ...oogle\\Chrome\\Application\\chrome.exe      N/A      |\n",
      "|    0   N/A  N/A     25624    C+G   ...5\\extracted\\runtime\\WeChatAppEx.exe      N/A      |\n",
      "|    0   N/A  N/A     32776    C+G   ...wekyb3d8bbwe\\XboxGameBarWidgets.exe      N/A      |\n",
      "|    0   N/A  N/A     35144    C+G   ...BrowserEngine\\BaiduNetdiskUnite.exe      N/A      |\n",
      "|    0   N/A  N/A     39340    C+G   D:\\PyCharm\\bin\\pycharm64.exe                N/A      |\n",
      "+-----------------------------------------------------------------------------------------+\n"
     ]
    }
   ],
   "execution_count": 2
  },
  {
   "metadata": {},
   "cell_type": "markdown",
   "source": "### 1.1 Globally set devices",
   "id": "da8b1b2befb63fd7"
  },
  {
   "metadata": {
    "ExecuteTime": {
     "end_time": "2024-12-03T11:33:57.250687Z",
     "start_time": "2024-12-03T11:33:57.103887Z"
    }
   },
   "cell_type": "code",
   "source": [
    "import torch\n",
    "\n",
    "# Set the device\n",
    "device = \"cuda\" if torch.cuda.is_available() else \"cpu\"\n",
    "\n",
    "# Set the device with context manager (requires PyTorch 2.x+)\n",
    "with torch.device(device):\n",
    "    # All tensors created in this block will be on device\n",
    "    layer = torch.nn.Linear(20, 30)\n",
    "    print(f\"Layer weights are on device: {layer.weight.device}\")\n",
    "    print(f\"Layer creating data on device: {layer(torch.randn(128, 20)).device}\")"
   ],
   "id": "66399b13af612166",
   "outputs": [
    {
     "name": "stdout",
     "output_type": "stream",
     "text": [
      "Layer weights are on device: cuda:0\n",
      "Layer creating data on device: cuda:0\n"
     ]
    }
   ],
   "execution_count": 3
  },
  {
   "metadata": {
    "ExecuteTime": {
     "end_time": "2024-12-03T11:34:07.813473Z",
     "start_time": "2024-12-03T11:34:07.809682Z"
    }
   },
   "cell_type": "code",
   "source": [
    "import torch\n",
    "\n",
    "# Set the device\n",
    "device = \"cuda\" if torch.cuda.is_available() else \"cpu\"\n",
    "\n",
    "# Set the device globally\n",
    "torch.set_default_device(device)\n",
    "\n",
    "# All tensors created will be on the global device by default\n",
    "layer = torch.nn.Linear(20, 30)\n",
    "print(f\"Layer weights are on device: {layer.weight.device}\")\n",
    "print(f\"Layer creating data on device: {layer(torch.randn(128, 20)).device}\")"
   ],
   "id": "fd29c4f7bb9e62a",
   "outputs": [
    {
     "name": "stdout",
     "output_type": "stream",
     "text": [
      "Layer weights are on device: cuda:0\n",
      "Layer creating data on device: cuda:0\n"
     ]
    }
   ],
   "execution_count": 4
  },
  {
   "metadata": {},
   "cell_type": "markdown",
   "source": "## 2. Setting up the experiments",
   "id": "e731f9ba2b5fbfc4"
  },
  {
   "metadata": {
    "ExecuteTime": {
     "end_time": "2024-12-03T11:34:15.835475Z",
     "start_time": "2024-12-03T11:34:14.425470Z"
    }
   },
   "cell_type": "code",
   "source": [
    "import torch\n",
    "import torchvision\n",
    "\n",
    "print(f\"PyTorch version: {torch.__version__}\")\n",
    "print(f\"TorchVision version: {torchvision.__version__}\")\n",
    "\n",
    "# Set the target device\n",
    "device = \"cuda\" if torch.cuda.is_available() else \"cpu\"\n",
    "\n",
    "print(f\"Using device: {device}\")"
   ],
   "id": "f3e9cb0fe7bff77c",
   "outputs": [
    {
     "name": "stdout",
     "output_type": "stream",
     "text": [
      "PyTorch version: 2.5.1\n",
      "TorchVision version: 0.20.1\n",
      "Using device: cuda\n"
     ]
    }
   ],
   "execution_count": 5
  },
  {
   "metadata": {},
   "cell_type": "markdown",
   "source": "### 2.1 Create model and transforms",
   "id": "4d3c074f0b92335f"
  },
  {
   "metadata": {
    "ExecuteTime": {
     "end_time": "2024-12-03T11:34:21.811618Z",
     "start_time": "2024-12-03T11:34:21.492797Z"
    }
   },
   "cell_type": "code",
   "source": [
    "# Create model weights and transforms\n",
    "model_weights = torchvision.models.ResNet50_Weights.IMAGENET1K_V2 # <- use the latest weights (could also use .DEFAULT)\n",
    "transforms = model_weights.transforms()\n",
    "\n",
    "# Setup model\n",
    "model = torchvision.models.resnet50(weights=model_weights)\n",
    "\n",
    "# Count the number of parameters in the model \n",
    "total_params = sum(\n",
    "    param.numel() for param in model.parameters() # <- all params\n",
    "\t# param.numel() for param in model.parameters() if param.requires_grad # <- only trainable params\n",
    ")\n",
    "\n",
    "print(f\"Total parameters of model: {total_params} (the more parameters, the more GPU memory the model will use, the more *relative* of a speedup you'll get)\")\n",
    "print(f\"Model transforms:\\n{transforms}\")"
   ],
   "id": "3313c90ae946864",
   "outputs": [
    {
     "name": "stdout",
     "output_type": "stream",
     "text": [
      "Total parameters of model: 25557032 (the more parameters, the more GPU memory the model will use, the more *relative* of a speedup you'll get)\n",
      "Model transforms:\n",
      "ImageClassification(\n",
      "    crop_size=[224]\n",
      "    resize_size=[232]\n",
      "    mean=[0.485, 0.456, 0.406]\n",
      "    std=[0.229, 0.224, 0.225]\n",
      "    interpolation=InterpolationMode.BILINEAR\n",
      ")\n"
     ]
    }
   ],
   "execution_count": 6
  },
  {
   "metadata": {
    "ExecuteTime": {
     "end_time": "2024-12-03T11:34:29.869379Z",
     "start_time": "2024-12-03T11:34:29.596787Z"
    }
   },
   "cell_type": "code",
   "source": [
    "def create_model(num_classes=10):\n",
    "  \"\"\"\n",
    "  Creates a ResNet50 model with the latest weights and transforms via torchvision.\n",
    "  \"\"\"\n",
    "  model_weights = torchvision.models.ResNet50_Weights.IMAGENET1K_V2\n",
    "  transforms = model_weights.transforms()\n",
    "  model = torchvision.models.resnet50(weights=model_weights)\n",
    "  \n",
    "  # Adjust the number of output features in model to match the number of classes in the dataset\n",
    "  model.fc = torch.nn.Linear(in_features=2048, \n",
    "                             out_features=num_classes)\n",
    "  return model, transforms\n",
    "\n",
    "model, transforms = create_model()"
   ],
   "id": "a1c0928be459a452",
   "outputs": [],
   "execution_count": 7
  },
  {
   "metadata": {},
   "cell_type": "markdown",
   "source": "### 2.2 Speedups are most noticeable when a large portion of the GPU is being used",
   "id": "a4ab13de8a991c1a"
  },
  {
   "metadata": {},
   "cell_type": "markdown",
   "source": "### 2.3 Checking the memory limits of our GPU",
   "id": "17d6d19fb9231bed"
  },
  {
   "metadata": {
    "ExecuteTime": {
     "end_time": "2024-12-03T11:34:35.447337Z",
     "start_time": "2024-12-03T11:34:35.443813Z"
    }
   },
   "cell_type": "code",
   "source": [
    "# Check available GPU memory and total GPU memory \n",
    "total_free_gpu_memory, total_gpu_memory = torch.cuda.mem_get_info()\n",
    "print(f\"Total free GPU memory: {round(total_free_gpu_memory * 1e-9, 3)} GB\")\n",
    "print(f\"Total GPU memory: {round(total_gpu_memory * 1e-9, 3)} GB\")"
   ],
   "id": "6df3c4b5c3139b8a",
   "outputs": [
    {
     "name": "stdout",
     "output_type": "stream",
     "text": [
      "Total free GPU memory: 7.173 GB\n",
      "Total GPU memory: 8.585 GB\n"
     ]
    }
   ],
   "execution_count": 8
  },
  {
   "metadata": {
    "ExecuteTime": {
     "end_time": "2024-12-03T11:34:37.739894Z",
     "start_time": "2024-12-03T11:34:37.736260Z"
    }
   },
   "cell_type": "code",
   "source": [
    "# Set batch size depending on amount of GPU memory\n",
    "total_free_gpu_memory_gb = round(total_free_gpu_memory * 1e-9, 3)\n",
    "if total_free_gpu_memory_gb >= 16:\n",
    "  BATCH_SIZE = 128 # Note: you could experiment with higher values here if you like.\n",
    "  IMAGE_SIZE = 224\n",
    "  print(f\"GPU memory available is {total_free_gpu_memory_gb} GB, using batch size of {BATCH_SIZE} and image size {IMAGE_SIZE}\")\n",
    "else:\n",
    "  BATCH_SIZE = 32\n",
    "  IMAGE_SIZE = 128\n",
    "  print(f\"GPU memory available is {total_free_gpu_memory_gb} GB, using batch size of {BATCH_SIZE} and image size {IMAGE_SIZE}\")"
   ],
   "id": "40b6cb1fa432504d",
   "outputs": [
    {
     "name": "stdout",
     "output_type": "stream",
     "text": [
      "GPU memory available is 7.173 GB, using batch size of 32 and image size 128\n"
     ]
    }
   ],
   "execution_count": 9
  },
  {
   "metadata": {
    "ExecuteTime": {
     "end_time": "2024-12-03T11:34:39.308059Z",
     "start_time": "2024-12-03T11:34:39.305148Z"
    }
   },
   "cell_type": "code",
   "source": [
    "transforms.crop_size = IMAGE_SIZE\n",
    "transforms.resize_size = IMAGE_SIZE \n",
    "print(f\"Updated data transforms:\\n{transforms}\")"
   ],
   "id": "fcff69243d6039c1",
   "outputs": [
    {
     "name": "stdout",
     "output_type": "stream",
     "text": [
      "Updated data transforms:\n",
      "ImageClassification(\n",
      "    crop_size=128\n",
      "    resize_size=128\n",
      "    mean=[0.485, 0.456, 0.406]\n",
      "    std=[0.229, 0.224, 0.225]\n",
      "    interpolation=InterpolationMode.BILINEAR\n",
      ")\n"
     ]
    }
   ],
   "execution_count": 10
  },
  {
   "metadata": {},
   "cell_type": "markdown",
   "source": "### 2.4 More potential speedups with TF32",
   "id": "42fa70916fd4eb8"
  },
  {
   "metadata": {
    "ExecuteTime": {
     "end_time": "2024-12-03T11:34:41.132265Z",
     "start_time": "2024-12-03T11:34:41.128818Z"
    }
   },
   "cell_type": "code",
   "source": [
    "if GPU_SCORE >= (8, 0):\n",
    "  print(f\"[INFO] Using GPU with score: {GPU_SCORE}, enabling TensorFloat32 (TF32) computing (faster on new GPUs)\")\n",
    "  torch.backends.cuda.matmul.allow_tf32 = True\n",
    "else:\n",
    "  print(f\"[INFO] Using GPU with score: {GPU_SCORE}, TensorFloat32 (TF32) not available, to use it you need a GPU with score >= (8, 0)\")\n",
    "  torch.backends.cuda.matmul.allow_tf32 = False"
   ],
   "id": "ff8c5fe3ce43b003",
   "outputs": [
    {
     "name": "stdout",
     "output_type": "stream",
     "text": [
      "[INFO] Using GPU with score: (8, 9), enabling TensorFloat32 (TF32) computing (faster on new GPUs)\n"
     ]
    }
   ],
   "execution_count": 11
  },
  {
   "metadata": {},
   "cell_type": "markdown",
   "source": "### 2.5 Preparing datasets",
   "id": "6041256ebbc0232e"
  },
  {
   "metadata": {
    "ExecuteTime": {
     "end_time": "2024-12-03T11:34:47.422053Z",
     "start_time": "2024-12-03T11:34:46.452130Z"
    }
   },
   "cell_type": "code",
   "source": [
    "# Create train and test datasets\n",
    "train_dataset = torchvision.datasets.CIFAR10(root='.', \n",
    "                                             train=True, \n",
    "                                             download=True, \n",
    "                                             transform=transforms)\n",
    "\n",
    "test_dataset = torchvision.datasets.CIFAR10(root='.', \n",
    "                                            train=False, # want the test split\n",
    "                                            download=True, \n",
    "                                            transform=transforms)\n",
    "\n",
    "# Get the lengths of the datasets\n",
    "train_len = len(train_dataset)\n",
    "test_len = len(test_dataset)\n",
    "\n",
    "print(f\"[INFO] Train dataset length: {train_len}\")\n",
    "print(f\"[INFO] Test dataset length: {test_len}\")"
   ],
   "id": "8dd8a517087078f3",
   "outputs": [
    {
     "name": "stdout",
     "output_type": "stream",
     "text": [
      "Files already downloaded and verified\n",
      "Files already downloaded and verified\n",
      "[INFO] Train dataset length: 50000\n",
      "[INFO] Test dataset length: 10000\n"
     ]
    }
   ],
   "execution_count": 12
  },
  {
   "metadata": {},
   "cell_type": "markdown",
   "source": "### 2.6 Create DataLoaders",
   "id": "1c0a23cf9dcd8a57"
  },
  {
   "metadata": {
    "ExecuteTime": {
     "end_time": "2024-12-03T11:38:05.205618Z",
     "start_time": "2024-12-03T11:38:05.201113Z"
    }
   },
   "cell_type": "code",
   "source": [
    "from torch.utils.data import DataLoader\n",
    "\n",
    "# Create DataLoaders\n",
    "import os\n",
    "NUM_WORKERS = 0 # <- use all available CPU cores (this number can be tweaked through experimentation but generally more workers means faster dataloading from CPU to GPU)\n",
    "\n",
    "generator = torch.Generator(device=device)\n",
    "\n",
    "train_dataloader = DataLoader(dataset=train_dataset,\n",
    "                              batch_size=BATCH_SIZE,\n",
    "                              shuffle=True,\n",
    "                              num_workers=NUM_WORKERS,\n",
    "                              generator=generator)\n",
    "\n",
    "test_dataloader = DataLoader(dataset=test_dataset,\n",
    "                              batch_size=BATCH_SIZE,\n",
    "                              shuffle=False,\n",
    "                              num_workers=NUM_WORKERS,\n",
    "                              generator=generator)\n",
    "\n",
    "\n",
    "# Print details\n",
    "print(f\"Train dataloader length: {len(train_dataloader)} batches of size {BATCH_SIZE}\")\n",
    "print(f\"Test dataloader length: {len(test_dataloader)} batches of size {BATCH_SIZE}\")\n",
    "print(f\"Using number of workers: {NUM_WORKERS} (generally more workers means faster dataloading from CPU to GPU)\")"
   ],
   "id": "905ac533147bc045",
   "outputs": [
    {
     "name": "stdout",
     "output_type": "stream",
     "text": [
      "Train dataloader length: 1563 batches of size 32\n",
      "Test dataloader length: 313 batches of size 32\n",
      "Using number of workers: 0 (generally more workers means faster dataloading from CPU to GPU)\n"
     ]
    }
   ],
   "execution_count": 17
  },
  {
   "metadata": {},
   "cell_type": "markdown",
   "source": "### 2.7 Create training and testing loops",
   "id": "d8cb13f1c23a174a"
  },
  {
   "metadata": {
    "ExecuteTime": {
     "end_time": "2024-12-03T11:38:08.474121Z",
     "start_time": "2024-12-03T11:38:08.464202Z"
    }
   },
   "cell_type": "code",
   "source": [
    "import time\n",
    "from tqdm.auto import tqdm\n",
    "from typing import Dict, List, Tuple\n",
    "\n",
    "def train_step(epoch: int,\n",
    "               model: torch.nn.Module, \n",
    "               dataloader: torch.utils.data.DataLoader, \n",
    "               loss_fn: torch.nn.Module, \n",
    "               optimizer: torch.optim.Optimizer,\n",
    "               device: torch.device,\n",
    "               disable_progress_bar: bool = False) -> Tuple[float, float]:\n",
    "  \"\"\"Trains a PyTorch model for a single epoch.\n",
    "\n",
    "  Turns a target PyTorch model to training mode and then\n",
    "  runs through all of the required training steps (forward\n",
    "  pass, loss calculation, optimizer step).\n",
    "\n",
    "  Args:\n",
    "    model: A PyTorch model to be trained.\n",
    "    dataloader: A DataLoader instance for the model to be trained on.\n",
    "    loss_fn: A PyTorch loss function to minimize.\n",
    "    optimizer: A PyTorch optimizer to help minimize the loss function.\n",
    "    device: A target device to compute on (e.g. \"cuda\" or \"cpu\").\n",
    "\n",
    "  Returns:\n",
    "    A tuple of training loss and training accuracy metrics.\n",
    "    In the form (train_loss, train_accuracy). For example:\n",
    "\n",
    "    (0.1112, 0.8743)\n",
    "  \"\"\"\n",
    "  # Put model in train mode\n",
    "  model.train()\n",
    "\n",
    "  # Setup train loss and train accuracy values\n",
    "  train_loss, train_acc = 0, 0\n",
    "\n",
    "  # Loop through data loader data batches\n",
    "  progress_bar = tqdm(\n",
    "        enumerate(dataloader), \n",
    "        desc=f\"Training Epoch {epoch}\", \n",
    "        total=len(dataloader),\n",
    "        disable=disable_progress_bar\n",
    "    )\n",
    "\n",
    "  for batch, (X, y) in progress_bar:\n",
    "      # Send data to target device\n",
    "      X, y = X.to(device), y.to(device)\n",
    "\n",
    "      # 1. Forward pass\n",
    "      y_pred = model(X)\n",
    "\n",
    "      # 2. Calculate  and accumulate loss\n",
    "      loss = loss_fn(y_pred, y)\n",
    "      train_loss += loss.item() \n",
    "\n",
    "      # 3. Optimizer zero grad\n",
    "      optimizer.zero_grad()\n",
    "\n",
    "      # 4. Loss backward\n",
    "      loss.backward()\n",
    "\n",
    "      # 5. Optimizer step\n",
    "      optimizer.step()\n",
    "\n",
    "      # Calculate and accumulate accuracy metrics across all batches\n",
    "      y_pred_class = torch.argmax(torch.softmax(y_pred, dim=1), dim=1)\n",
    "      train_acc += (y_pred_class == y).sum().item()/len(y_pred)\n",
    "\n",
    "      # Update progress bar\n",
    "      progress_bar.set_postfix(\n",
    "            {\n",
    "                \"train_loss\": train_loss / (batch + 1),\n",
    "                \"train_acc\": train_acc / (batch + 1),\n",
    "            }\n",
    "        )\n",
    "\n",
    "\n",
    "  # Adjust metrics to get average loss and accuracy per batch \n",
    "  train_loss = train_loss / len(dataloader)\n",
    "  train_acc = train_acc / len(dataloader)\n",
    "  return train_loss, train_acc\n",
    "\n",
    "def test_step(epoch: int,\n",
    "              model: torch.nn.Module, \n",
    "              dataloader: torch.utils.data.DataLoader, \n",
    "              loss_fn: torch.nn.Module,\n",
    "              device: torch.device,\n",
    "              disable_progress_bar: bool = False) -> Tuple[float, float]:\n",
    "  \"\"\"Tests a PyTorch model for a single epoch.\n",
    "\n",
    "  Turns a target PyTorch model to \"eval\" mode and then performs\n",
    "  a forward pass on a testing dataset.\n",
    "\n",
    "  Args:\n",
    "    model: A PyTorch model to be tested.\n",
    "    dataloader: A DataLoader instance for the model to be tested on.\n",
    "    loss_fn: A PyTorch loss function to calculate loss on the test data.\n",
    "    device: A target device to compute on (e.g. \"cuda\" or \"cpu\").\n",
    "\n",
    "  Returns:\n",
    "    A tuple of testing loss and testing accuracy metrics.\n",
    "    In the form (test_loss, test_accuracy). For example:\n",
    "\n",
    "    (0.0223, 0.8985)\n",
    "  \"\"\"\n",
    "  # Put model in eval mode\n",
    "  model.eval() \n",
    "\n",
    "  # Setup test loss and test accuracy values\n",
    "  test_loss, test_acc = 0, 0\n",
    "\n",
    "  # Loop through data loader data batches\n",
    "  progress_bar = tqdm(\n",
    "      enumerate(dataloader), \n",
    "      desc=f\"Testing Epoch {epoch}\", \n",
    "      total=len(dataloader),\n",
    "      disable=disable_progress_bar\n",
    "  )\n",
    "\n",
    "  # Turn on inference context manager\n",
    "  with torch.no_grad(): # no_grad() required for PyTorch 2.0, I found some errors with `torch.inference_mode()`, please let me know if this is not the case\n",
    "      # Loop through DataLoader batches\n",
    "      for batch, (X, y) in progress_bar:\n",
    "          # Send data to target device\n",
    "          X, y = X.to(device), y.to(device)\n",
    "\n",
    "          # 1. Forward pass\n",
    "          test_pred_logits = model(X)\n",
    "\n",
    "          # 2. Calculate and accumulate loss\n",
    "          loss = loss_fn(test_pred_logits, y)\n",
    "          test_loss += loss.item()\n",
    "\n",
    "          # Calculate and accumulate accuracy\n",
    "          test_pred_labels = test_pred_logits.argmax(dim=1)\n",
    "          test_acc += ((test_pred_labels == y).sum().item()/len(test_pred_labels))\n",
    "\n",
    "          # Update progress bar\n",
    "          progress_bar.set_postfix(\n",
    "              {\n",
    "                  \"test_loss\": test_loss / (batch + 1),\n",
    "                  \"test_acc\": test_acc / (batch + 1),\n",
    "              }\n",
    "          )\n",
    "\n",
    "  # Adjust metrics to get average loss and accuracy per batch \n",
    "  test_loss = test_loss / len(dataloader)\n",
    "  test_acc = test_acc / len(dataloader)\n",
    "  return test_loss, test_acc\n",
    "\n",
    "def train(model: torch.nn.Module, \n",
    "          train_dataloader: torch.utils.data.DataLoader, \n",
    "          test_dataloader: torch.utils.data.DataLoader, \n",
    "          optimizer: torch.optim.Optimizer,\n",
    "          loss_fn: torch.nn.Module,\n",
    "          epochs: int,\n",
    "          device: torch.device,\n",
    "          disable_progress_bar: bool = False) -> Dict[str, List]:\n",
    "  \"\"\"Trains and tests a PyTorch model.\n",
    "\n",
    "  Passes a target PyTorch models through train_step() and test_step()\n",
    "  functions for a number of epochs, training and testing the model\n",
    "  in the same epoch loop.\n",
    "\n",
    "  Calculates, prints and stores evaluation metrics throughout.\n",
    "\n",
    "  Args:\n",
    "    model: A PyTorch model to be trained and tested.\n",
    "    train_dataloader: A DataLoader instance for the model to be trained on.\n",
    "    test_dataloader: A DataLoader instance for the model to be tested on.\n",
    "    optimizer: A PyTorch optimizer to help minimize the loss function.\n",
    "    loss_fn: A PyTorch loss function to calculate loss on both datasets.\n",
    "    epochs: An integer indicating how many epochs to train for.\n",
    "    device: A target device to compute on (e.g. \"cuda\" or \"cpu\").\n",
    "\n",
    "  Returns:\n",
    "    A dictionary of training and testing loss as well as training and\n",
    "    testing accuracy metrics. Each metric has a value in a list for \n",
    "    each epoch.\n",
    "    In the form: {train_loss: [...],\n",
    "                  train_acc: [...],\n",
    "                  test_loss: [...],\n",
    "                  test_acc: [...]} \n",
    "    For example if training for epochs=2: \n",
    "                 {train_loss: [2.0616, 1.0537],\n",
    "                  train_acc: [0.3945, 0.3945],\n",
    "                  test_loss: [1.2641, 1.5706],\n",
    "                  test_acc: [0.3400, 0.2973]} \n",
    "  \"\"\"\n",
    "  # Create empty results dictionary\n",
    "  results = {\"train_loss\": [],\n",
    "      \"train_acc\": [],\n",
    "      \"test_loss\": [],\n",
    "      \"test_acc\": [],\n",
    "      \"train_epoch_time\": [],\n",
    "      \"test_epoch_time\": []\n",
    "  }\n",
    "\n",
    "  # Loop through training and testing steps for a number of epochs\n",
    "  for epoch in tqdm(range(epochs), disable=disable_progress_bar):\n",
    "\n",
    "      # Perform training step and time it\n",
    "      train_epoch_start_time = time.time()\n",
    "      train_loss, train_acc = train_step(epoch=epoch, \n",
    "                                        model=model,\n",
    "                                        dataloader=train_dataloader,\n",
    "                                        loss_fn=loss_fn,\n",
    "                                        optimizer=optimizer,\n",
    "                                        device=device,\n",
    "                                        disable_progress_bar=disable_progress_bar)\n",
    "      train_epoch_end_time = time.time()\n",
    "      train_epoch_time = train_epoch_end_time - train_epoch_start_time\n",
    "      \n",
    "      # Perform testing step and time it\n",
    "      test_epoch_start_time = time.time()\n",
    "      test_loss, test_acc = test_step(epoch=epoch,\n",
    "                                      model=model,\n",
    "                                      dataloader=test_dataloader,\n",
    "                                      loss_fn=loss_fn,\n",
    "                                      device=device,\n",
    "                                      disable_progress_bar=disable_progress_bar)\n",
    "      test_epoch_end_time = time.time()\n",
    "      test_epoch_time = test_epoch_end_time - test_epoch_start_time\n",
    "\n",
    "      # Print out what's happening\n",
    "      print(\n",
    "          f\"Epoch: {epoch+1} | \"\n",
    "          f\"train_loss: {train_loss:.4f} | \"\n",
    "          f\"train_acc: {train_acc:.4f} | \"\n",
    "          f\"test_loss: {test_loss:.4f} | \"\n",
    "          f\"test_acc: {test_acc:.4f} | \"\n",
    "          f\"train_epoch_time: {train_epoch_time:.4f} | \"\n",
    "          f\"test_epoch_time: {test_epoch_time:.4f}\"\n",
    "      )\n",
    "\n",
    "      # Update results dictionary\n",
    "      results[\"train_loss\"].append(train_loss)\n",
    "      results[\"train_acc\"].append(train_acc)\n",
    "      results[\"test_loss\"].append(test_loss)\n",
    "      results[\"test_acc\"].append(test_acc)\n",
    "      results[\"train_epoch_time\"].append(train_epoch_time)\n",
    "      results[\"test_epoch_time\"].append(test_epoch_time)\n",
    "\n",
    "  # Return the filled results at the end of the epochs\n",
    "  return results"
   ],
   "id": "62e22f01e2848eb5",
   "outputs": [],
   "execution_count": 18
  },
  {
   "metadata": {},
   "cell_type": "markdown",
   "source": "## 3. Time models across single run",
   "id": "83a66c6386476101"
  },
  {
   "metadata": {},
   "cell_type": "markdown",
   "source": "### 3.1 Experiment 1 - Single run, no compile",
   "id": "e87c6dcf9f8aa3b0"
  },
  {
   "metadata": {
    "ExecuteTime": {
     "end_time": "2024-12-03T11:38:17.127035Z",
     "start_time": "2024-12-03T11:38:17.124252Z"
    }
   },
   "cell_type": "code",
   "source": [
    "# Set the number of epochs as a constant\n",
    "NUM_EPOCHS = 5\n",
    "\n",
    "# Set the learning rate as a constant (this can be changed to get better results but for now we're just focused on time)\n",
    "LEARNING_RATE = 0.003"
   ],
   "id": "57a258d949ed7bd9",
   "outputs": [],
   "execution_count": 19
  },
  {
   "metadata": {
    "ExecuteTime": {
     "end_time": "2024-12-03T11:50:22.261735Z",
     "start_time": "2024-12-03T11:38:18.612278Z"
    }
   },
   "cell_type": "code",
   "source": [
    "# Set the device\n",
    "device = \"cuda\" if torch.cuda.is_available() else \"cpu\"\n",
    "\n",
    "# Create model\n",
    "model, transforms = create_model()\n",
    "model.to(device)\n",
    "\n",
    "# Create loss function and optimizer\n",
    "loss_fn = torch.nn.CrossEntropyLoss()\n",
    "optimizer = torch.optim.Adam(model.parameters(),\n",
    "                             lr=LEARNING_RATE)\n",
    "\n",
    "# Train model and track results\n",
    "single_run_no_compile_results = train(model=model,\n",
    "                                      train_dataloader=train_dataloader,\n",
    "                                      test_dataloader=test_dataloader,\n",
    "                                      loss_fn=loss_fn,\n",
    "                                      optimizer=optimizer,\n",
    "                                      epochs=NUM_EPOCHS,\n",
    "                                      device=device)"
   ],
   "id": "89cc4cfed0c3aaa1",
   "outputs": [
    {
     "data": {
      "text/plain": [
       "  0%|          | 0/5 [00:00<?, ?it/s]"
      ],
      "application/vnd.jupyter.widget-view+json": {
       "version_major": 2,
       "version_minor": 0,
       "model_id": "9386bc8e95e84f7a83e6780088ca2c71"
      }
     },
     "metadata": {},
     "output_type": "display_data"
    },
    {
     "data": {
      "text/plain": [
       "Training Epoch 0:   0%|          | 0/1563 [00:00<?, ?it/s]"
      ],
      "application/vnd.jupyter.widget-view+json": {
       "version_major": 2,
       "version_minor": 0,
       "model_id": "21bf4b66acf14b47ab650fca65afab0b"
      }
     },
     "metadata": {},
     "output_type": "display_data"
    },
    {
     "data": {
      "text/plain": [
       "Testing Epoch 0:   0%|          | 0/313 [00:00<?, ?it/s]"
      ],
      "application/vnd.jupyter.widget-view+json": {
       "version_major": 2,
       "version_minor": 0,
       "model_id": "d812fda17e8c4e18ba813f95bc9bf1b5"
      }
     },
     "metadata": {},
     "output_type": "display_data"
    },
    {
     "name": "stdout",
     "output_type": "stream",
     "text": [
      "Epoch: 1 | train_loss: 1.1626 | train_acc: 0.5832 | test_loss: 0.8101 | test_acc: 0.7178 | train_epoch_time: 135.7698 | test_epoch_time: 10.4071\n"
     ]
    },
    {
     "data": {
      "text/plain": [
       "Training Epoch 1:   0%|          | 0/1563 [00:00<?, ?it/s]"
      ],
      "application/vnd.jupyter.widget-view+json": {
       "version_major": 2,
       "version_minor": 0,
       "model_id": "dd29bee7c3a541f7b44663e247284939"
      }
     },
     "metadata": {},
     "output_type": "display_data"
    },
    {
     "data": {
      "text/plain": [
       "Testing Epoch 1:   0%|          | 0/313 [00:00<?, ?it/s]"
      ],
      "application/vnd.jupyter.widget-view+json": {
       "version_major": 2,
       "version_minor": 0,
       "model_id": "0a45c2cae6ca4069ae345890a81ea731"
      }
     },
     "metadata": {},
     "output_type": "display_data"
    },
    {
     "name": "stdout",
     "output_type": "stream",
     "text": [
      "Epoch: 2 | train_loss: 0.7172 | train_acc: 0.7534 | test_loss: 0.6538 | test_acc: 0.7749 | train_epoch_time: 134.9806 | test_epoch_time: 10.7085\n"
     ]
    },
    {
     "data": {
      "text/plain": [
       "Training Epoch 2:   0%|          | 0/1563 [00:00<?, ?it/s]"
      ],
      "application/vnd.jupyter.widget-view+json": {
       "version_major": 2,
       "version_minor": 0,
       "model_id": "7cac913394a04987906fb14a4ef6c7d8"
      }
     },
     "metadata": {},
     "output_type": "display_data"
    },
    {
     "data": {
      "text/plain": [
       "Testing Epoch 2:   0%|          | 0/313 [00:00<?, ?it/s]"
      ],
      "application/vnd.jupyter.widget-view+json": {
       "version_major": 2,
       "version_minor": 0,
       "model_id": "1efa49622e984f01bf611bb0a80d931d"
      }
     },
     "metadata": {},
     "output_type": "display_data"
    },
    {
     "name": "stdout",
     "output_type": "stream",
     "text": [
      "Epoch: 3 | train_loss: 0.5362 | train_acc: 0.8165 | test_loss: 0.5896 | test_acc: 0.8006 | train_epoch_time: 133.4900 | test_epoch_time: 10.4826\n"
     ]
    },
    {
     "data": {
      "text/plain": [
       "Training Epoch 3:   0%|          | 0/1563 [00:00<?, ?it/s]"
      ],
      "application/vnd.jupyter.widget-view+json": {
       "version_major": 2,
       "version_minor": 0,
       "model_id": "791e78e65a584fd1a479c214376b902b"
      }
     },
     "metadata": {},
     "output_type": "display_data"
    },
    {
     "data": {
      "text/plain": [
       "Testing Epoch 3:   0%|          | 0/313 [00:00<?, ?it/s]"
      ],
      "application/vnd.jupyter.widget-view+json": {
       "version_major": 2,
       "version_minor": 0,
       "model_id": "eee68d360e874300878eaa7f08896e71"
      }
     },
     "metadata": {},
     "output_type": "display_data"
    },
    {
     "name": "stdout",
     "output_type": "stream",
     "text": [
      "Epoch: 4 | train_loss: 0.4285 | train_acc: 0.8518 | test_loss: 0.4867 | test_acc: 0.8361 | train_epoch_time: 132.4281 | test_epoch_time: 10.5326\n"
     ]
    },
    {
     "data": {
      "text/plain": [
       "Training Epoch 4:   0%|          | 0/1563 [00:00<?, ?it/s]"
      ],
      "application/vnd.jupyter.widget-view+json": {
       "version_major": 2,
       "version_minor": 0,
       "model_id": "ff9e7ac94faf4ab593ac2ac28e05f0ce"
      }
     },
     "metadata": {},
     "output_type": "display_data"
    },
    {
     "data": {
      "text/plain": [
       "Testing Epoch 4:   0%|          | 0/313 [00:00<?, ?it/s]"
      ],
      "application/vnd.jupyter.widget-view+json": {
       "version_major": 2,
       "version_minor": 0,
       "model_id": "5629807025284ffc97e37b81cb658b22"
      }
     },
     "metadata": {},
     "output_type": "display_data"
    },
    {
     "name": "stdout",
     "output_type": "stream",
     "text": [
      "Epoch: 5 | train_loss: 0.3356 | train_acc: 0.8830 | test_loss: 0.4788 | test_acc: 0.8431 | train_epoch_time: 133.9911 | test_epoch_time: 10.6322\n"
     ]
    }
   ],
   "execution_count": 20
  },
  {
   "metadata": {},
   "cell_type": "markdown",
   "source": "### 3.2 Experiment 2 - Single run, with compile",
   "id": "7dee3f9af624b6e4"
  },
  {
   "metadata": {
    "ExecuteTime": {
     "end_time": "2024-12-03T12:00:22.450743Z",
     "start_time": "2024-12-03T12:00:15.611480Z"
    }
   },
   "cell_type": "code",
   "source": [
    "# Create model and transforms\n",
    "model, transforms = create_model()\n",
    "model.to(device)\n",
    "\n",
    "# Create loss function and optimizer\n",
    "loss_fn = torch.nn.CrossEntropyLoss()\n",
    "optimizer = torch.optim.Adam(model.parameters(),\n",
    "                             lr=LEARNING_RATE)\n",
    "\n",
    "# Compile the model and time how long it takes\n",
    "compile_start_time = time.time()\n",
    "\n",
    "### New in PyTorch 2.x ###\n",
    "compiled_model = torch.compile(model)\n",
    "##########################\n",
    "\n",
    "compile_end_time = time.time()\n",
    "compile_time = compile_end_time - compile_start_time\n",
    "print(f\"Time to compile: {compile_time} | Note: The first time you compile your model, the first few epochs will be slower than subsequent runs.\")\n",
    "\n",
    "# Train the compiled model\n",
    "single_run_compile_results = train(model=compiled_model,\n",
    "                                   train_dataloader=train_dataloader,\n",
    "                                   test_dataloader=test_dataloader,\n",
    "                                   loss_fn=loss_fn,\n",
    "                                   optimizer=optimizer,\n",
    "                                   epochs=NUM_EPOCHS,\n",
    "                                   device=device)"
   ],
   "id": "f887088e0df9b85e",
   "outputs": [
    {
     "name": "stdout",
     "output_type": "stream",
     "text": [
      "Time to compile: 0.0010077953338623047 | Note: The first time you compile your model, the first few epochs will be slower than subsequent runs.\n"
     ]
    },
    {
     "data": {
      "text/plain": [
       "  0%|          | 0/5 [00:00<?, ?it/s]"
      ],
      "application/vnd.jupyter.widget-view+json": {
       "version_major": 2,
       "version_minor": 0,
       "model_id": "f70ddcaf258446c9994c3787bd7b2bc5"
      }
     },
     "metadata": {},
     "output_type": "display_data"
    },
    {
     "data": {
      "text/plain": [
       "Training Epoch 0:   0%|          | 0/1563 [00:00<?, ?it/s]"
      ],
      "application/vnd.jupyter.widget-view+json": {
       "version_major": 2,
       "version_minor": 0,
       "model_id": "00473496ee8741cab7e323d4a4536510"
      }
     },
     "metadata": {},
     "output_type": "display_data"
    },
    {
     "ename": "BackendCompilerFailed",
     "evalue": "backend='inductor' raised:\nRuntimeError: Cannot find a working triton installation. Either the package is not installed or it is too old. More information on installing Triton can be found at https://github.com/openai/triton\n\nSet TORCH_LOGS=\"+dynamo\" and TORCHDYNAMO_VERBOSE=1 for more information\n\n\nYou can suppress this exception and fall back to eager by setting:\n    import torch._dynamo\n    torch._dynamo.config.suppress_errors = True\n",
     "output_type": "error",
     "traceback": [
      "\u001B[1;31m---------------------------------------------------------------------------\u001B[0m",
      "\u001B[1;31mRuntimeError\u001B[0m                              Traceback (most recent call last)",
      "File \u001B[1;32mD:\\Anaconda3\\envs\\pytorch\\Lib\\site-packages\\torch\\_dynamo\\output_graph.py:1446\u001B[0m, in \u001B[0;36mOutputGraph._call_user_compiler\u001B[1;34m(self, gm)\u001B[0m\n\u001B[0;32m   1445\u001B[0m     compiler_fn \u001B[38;5;241m=\u001B[39m WrapperBackend(compiler_fn)\n\u001B[1;32m-> 1446\u001B[0m compiled_fn \u001B[38;5;241m=\u001B[39m \u001B[43mcompiler_fn\u001B[49m\u001B[43m(\u001B[49m\u001B[43mgm\u001B[49m\u001B[43m,\u001B[49m\u001B[43m \u001B[49m\u001B[38;5;28;43mself\u001B[39;49m\u001B[38;5;241;43m.\u001B[39;49m\u001B[43mexample_inputs\u001B[49m\u001B[43m(\u001B[49m\u001B[43m)\u001B[49m\u001B[43m)\u001B[49m\n\u001B[0;32m   1447\u001B[0m _step_logger()(logging\u001B[38;5;241m.\u001B[39mINFO, \u001B[38;5;124mf\u001B[39m\u001B[38;5;124m\"\u001B[39m\u001B[38;5;124mdone compiler function \u001B[39m\u001B[38;5;132;01m{\u001B[39;00mname\u001B[38;5;132;01m}\u001B[39;00m\u001B[38;5;124m\"\u001B[39m)\n",
      "File \u001B[1;32mD:\\Anaconda3\\envs\\pytorch\\Lib\\site-packages\\torch\\_dynamo\\repro\\after_dynamo.py:129\u001B[0m, in \u001B[0;36mWrapBackendDebug.__call__\u001B[1;34m(self, gm, example_inputs, **kwargs)\u001B[0m\n\u001B[0;32m    128\u001B[0m \u001B[38;5;28;01melse\u001B[39;00m:\n\u001B[1;32m--> 129\u001B[0m     compiled_gm \u001B[38;5;241m=\u001B[39m \u001B[43mcompiler_fn\u001B[49m\u001B[43m(\u001B[49m\u001B[43mgm\u001B[49m\u001B[43m,\u001B[49m\u001B[43m \u001B[49m\u001B[43mexample_inputs\u001B[49m\u001B[43m)\u001B[49m\n\u001B[0;32m    131\u001B[0m \u001B[38;5;28;01mreturn\u001B[39;00m compiled_gm\n",
      "File \u001B[1;32mD:\\Anaconda3\\envs\\pytorch\\Lib\\site-packages\\torch\\__init__.py:2234\u001B[0m, in \u001B[0;36m_TorchCompileInductorWrapper.__call__\u001B[1;34m(self, model_, inputs_)\u001B[0m\n\u001B[0;32m   2232\u001B[0m \u001B[38;5;28;01mfrom\u001B[39;00m \u001B[38;5;21;01mtorch\u001B[39;00m\u001B[38;5;21;01m.\u001B[39;00m\u001B[38;5;21;01m_inductor\u001B[39;00m\u001B[38;5;21;01m.\u001B[39;00m\u001B[38;5;21;01mcompile_fx\u001B[39;00m \u001B[38;5;28;01mimport\u001B[39;00m compile_fx\n\u001B[1;32m-> 2234\u001B[0m \u001B[38;5;28;01mreturn\u001B[39;00m \u001B[43mcompile_fx\u001B[49m\u001B[43m(\u001B[49m\u001B[43mmodel_\u001B[49m\u001B[43m,\u001B[49m\u001B[43m \u001B[49m\u001B[43minputs_\u001B[49m\u001B[43m,\u001B[49m\u001B[43m \u001B[49m\u001B[43mconfig_patches\u001B[49m\u001B[38;5;241;43m=\u001B[39;49m\u001B[38;5;28;43mself\u001B[39;49m\u001B[38;5;241;43m.\u001B[39;49m\u001B[43mconfig\u001B[49m\u001B[43m)\u001B[49m\n",
      "File \u001B[1;32mD:\\Anaconda3\\envs\\pytorch\\Lib\\site-packages\\torch\\_inductor\\compile_fx.py:1521\u001B[0m, in \u001B[0;36mcompile_fx\u001B[1;34m(model_, example_inputs_, inner_compile, config_patches, decompositions)\u001B[0m\n\u001B[0;32m   1516\u001B[0m \u001B[38;5;28;01mwith\u001B[39;00m V\u001B[38;5;241m.\u001B[39mset_fake_mode(fake_mode), torch\u001B[38;5;241m.\u001B[39m_guards\u001B[38;5;241m.\u001B[39mtracing(\n\u001B[0;32m   1517\u001B[0m     tracing_context\n\u001B[0;32m   1518\u001B[0m ), compiled_autograd\u001B[38;5;241m.\u001B[39mdisable(), functorch_config\u001B[38;5;241m.\u001B[39mpatch(\n\u001B[0;32m   1519\u001B[0m     unlift_effect_tokens\u001B[38;5;241m=\u001B[39m\u001B[38;5;28;01mTrue\u001B[39;00m\n\u001B[0;32m   1520\u001B[0m ):\n\u001B[1;32m-> 1521\u001B[0m     \u001B[38;5;28;01mreturn\u001B[39;00m \u001B[43maot_autograd\u001B[49m\u001B[43m(\u001B[49m\n\u001B[0;32m   1522\u001B[0m \u001B[43m        \u001B[49m\u001B[43mfw_compiler\u001B[49m\u001B[38;5;241;43m=\u001B[39;49m\u001B[43mfw_compiler\u001B[49m\u001B[43m,\u001B[49m\n\u001B[0;32m   1523\u001B[0m \u001B[43m        \u001B[49m\u001B[43mbw_compiler\u001B[49m\u001B[38;5;241;43m=\u001B[39;49m\u001B[43mbw_compiler\u001B[49m\u001B[43m,\u001B[49m\n\u001B[0;32m   1524\u001B[0m \u001B[43m        \u001B[49m\u001B[43minference_compiler\u001B[49m\u001B[38;5;241;43m=\u001B[39;49m\u001B[43minference_compiler\u001B[49m\u001B[43m,\u001B[49m\n\u001B[0;32m   1525\u001B[0m \u001B[43m        \u001B[49m\u001B[43mdecompositions\u001B[49m\u001B[38;5;241;43m=\u001B[39;49m\u001B[43mdecompositions\u001B[49m\u001B[43m,\u001B[49m\n\u001B[0;32m   1526\u001B[0m \u001B[43m        \u001B[49m\u001B[43mpartition_fn\u001B[49m\u001B[38;5;241;43m=\u001B[39;49m\u001B[43mpartition_fn\u001B[49m\u001B[43m,\u001B[49m\n\u001B[0;32m   1527\u001B[0m \u001B[43m        \u001B[49m\u001B[43mkeep_inference_input_mutations\u001B[49m\u001B[38;5;241;43m=\u001B[39;49m\u001B[38;5;28;43;01mTrue\u001B[39;49;00m\u001B[43m,\u001B[49m\n\u001B[0;32m   1528\u001B[0m \u001B[43m        \u001B[49m\u001B[43mcudagraphs\u001B[49m\u001B[38;5;241;43m=\u001B[39;49m\u001B[43mcudagraphs\u001B[49m\u001B[43m,\u001B[49m\n\u001B[0;32m   1529\u001B[0m \u001B[43m    \u001B[49m\u001B[43m)\u001B[49m\u001B[43m(\u001B[49m\u001B[43mmodel_\u001B[49m\u001B[43m,\u001B[49m\u001B[43m \u001B[49m\u001B[43mexample_inputs_\u001B[49m\u001B[43m)\u001B[49m\n",
      "File \u001B[1;32mD:\\Anaconda3\\envs\\pytorch\\Lib\\site-packages\\torch\\_dynamo\\backends\\common.py:72\u001B[0m, in \u001B[0;36mAotAutograd.__call__\u001B[1;34m(self, gm, example_inputs, **kwargs)\u001B[0m\n\u001B[0;32m     71\u001B[0m \u001B[38;5;28;01mwith\u001B[39;00m enable_aot_logging(), patch_config:\n\u001B[1;32m---> 72\u001B[0m     cg \u001B[38;5;241m=\u001B[39m \u001B[43maot_module_simplified\u001B[49m\u001B[43m(\u001B[49m\u001B[43mgm\u001B[49m\u001B[43m,\u001B[49m\u001B[43m \u001B[49m\u001B[43mexample_inputs\u001B[49m\u001B[43m,\u001B[49m\u001B[43m \u001B[49m\u001B[38;5;241;43m*\u001B[39;49m\u001B[38;5;241;43m*\u001B[39;49m\u001B[38;5;28;43mself\u001B[39;49m\u001B[38;5;241;43m.\u001B[39;49m\u001B[43mkwargs\u001B[49m\u001B[43m)\u001B[49m\n\u001B[0;32m     73\u001B[0m     counters[\u001B[38;5;124m\"\u001B[39m\u001B[38;5;124maot_autograd\u001B[39m\u001B[38;5;124m\"\u001B[39m][\u001B[38;5;124m\"\u001B[39m\u001B[38;5;124mok\u001B[39m\u001B[38;5;124m\"\u001B[39m] \u001B[38;5;241m+\u001B[39m\u001B[38;5;241m=\u001B[39m \u001B[38;5;241m1\u001B[39m\n",
      "File \u001B[1;32mD:\\Anaconda3\\envs\\pytorch\\Lib\\site-packages\\torch\\_functorch\\aot_autograd.py:1071\u001B[0m, in \u001B[0;36maot_module_simplified\u001B[1;34m(mod, args, fw_compiler, bw_compiler, partition_fn, decompositions, keep_inference_input_mutations, inference_compiler, cudagraphs)\u001B[0m\n\u001B[0;32m   1070\u001B[0m \u001B[38;5;28;01melse\u001B[39;00m:\n\u001B[1;32m-> 1071\u001B[0m     compiled_fn \u001B[38;5;241m=\u001B[39m \u001B[43mdispatch_and_compile\u001B[49m\u001B[43m(\u001B[49m\u001B[43m)\u001B[49m\n\u001B[0;32m   1073\u001B[0m \u001B[38;5;28;01mif\u001B[39;00m \u001B[38;5;28misinstance\u001B[39m(mod, torch\u001B[38;5;241m.\u001B[39m_dynamo\u001B[38;5;241m.\u001B[39mutils\u001B[38;5;241m.\u001B[39mGmWrapper):\n\u001B[0;32m   1074\u001B[0m     \u001B[38;5;66;03m# This function is called by the flatten_graph_inputs wrapper, which boxes\u001B[39;00m\n\u001B[0;32m   1075\u001B[0m     \u001B[38;5;66;03m# the inputs so that they can be freed before the end of this scope.\u001B[39;00m\n\u001B[0;32m   1076\u001B[0m     \u001B[38;5;66;03m# For overhead reasons, this is not the default wrapper, see comment:\u001B[39;00m\n\u001B[0;32m   1077\u001B[0m     \u001B[38;5;66;03m# https://github.com/pytorch/pytorch/pull/122535/files#r1560096481\u001B[39;00m\n",
      "File \u001B[1;32mD:\\Anaconda3\\envs\\pytorch\\Lib\\site-packages\\torch\\_functorch\\aot_autograd.py:1056\u001B[0m, in \u001B[0;36maot_module_simplified.<locals>.dispatch_and_compile\u001B[1;34m()\u001B[0m\n\u001B[0;32m   1055\u001B[0m \u001B[38;5;28;01mwith\u001B[39;00m compiled_autograd\u001B[38;5;241m.\u001B[39mdisable():\n\u001B[1;32m-> 1056\u001B[0m     compiled_fn, _ \u001B[38;5;241m=\u001B[39m \u001B[43mcreate_aot_dispatcher_function\u001B[49m\u001B[43m(\u001B[49m\n\u001B[0;32m   1057\u001B[0m \u001B[43m        \u001B[49m\u001B[43mfunctional_call\u001B[49m\u001B[43m,\u001B[49m\n\u001B[0;32m   1058\u001B[0m \u001B[43m        \u001B[49m\u001B[43mfake_flat_args\u001B[49m\u001B[43m,\u001B[49m\n\u001B[0;32m   1059\u001B[0m \u001B[43m        \u001B[49m\u001B[43maot_config\u001B[49m\u001B[43m,\u001B[49m\n\u001B[0;32m   1060\u001B[0m \u001B[43m        \u001B[49m\u001B[43mfake_mode\u001B[49m\u001B[43m,\u001B[49m\n\u001B[0;32m   1061\u001B[0m \u001B[43m        \u001B[49m\u001B[43mshape_env\u001B[49m\u001B[43m,\u001B[49m\n\u001B[0;32m   1062\u001B[0m \u001B[43m    \u001B[49m\u001B[43m)\u001B[49m\n\u001B[0;32m   1063\u001B[0m \u001B[38;5;28;01mreturn\u001B[39;00m compiled_fn\n",
      "File \u001B[1;32mD:\\Anaconda3\\envs\\pytorch\\Lib\\site-packages\\torch\\_functorch\\aot_autograd.py:522\u001B[0m, in \u001B[0;36mcreate_aot_dispatcher_function\u001B[1;34m(flat_fn, fake_flat_args, aot_config, fake_mode, shape_env)\u001B[0m\n\u001B[0;32m    521\u001B[0m \u001B[38;5;28;01mwith\u001B[39;00m dynamo_timed(\u001B[38;5;124m\"\u001B[39m\u001B[38;5;124mcreate_aot_dispatcher_function\u001B[39m\u001B[38;5;124m\"\u001B[39m):\n\u001B[1;32m--> 522\u001B[0m     \u001B[38;5;28;01mreturn\u001B[39;00m \u001B[43m_create_aot_dispatcher_function\u001B[49m\u001B[43m(\u001B[49m\n\u001B[0;32m    523\u001B[0m \u001B[43m        \u001B[49m\u001B[43mflat_fn\u001B[49m\u001B[43m,\u001B[49m\u001B[43m \u001B[49m\u001B[43mfake_flat_args\u001B[49m\u001B[43m,\u001B[49m\u001B[43m \u001B[49m\u001B[43maot_config\u001B[49m\u001B[43m,\u001B[49m\u001B[43m \u001B[49m\u001B[43mfake_mode\u001B[49m\u001B[43m,\u001B[49m\u001B[43m \u001B[49m\u001B[43mshape_env\u001B[49m\n\u001B[0;32m    524\u001B[0m \u001B[43m    \u001B[49m\u001B[43m)\u001B[49m\n",
      "File \u001B[1;32mD:\\Anaconda3\\envs\\pytorch\\Lib\\site-packages\\torch\\_functorch\\aot_autograd.py:759\u001B[0m, in \u001B[0;36m_create_aot_dispatcher_function\u001B[1;34m(flat_fn, fake_flat_args, aot_config, fake_mode, shape_env)\u001B[0m\n\u001B[0;32m    757\u001B[0m compiler_fn \u001B[38;5;241m=\u001B[39m choose_dispatcher(needs_autograd, aot_config)\n\u001B[1;32m--> 759\u001B[0m compiled_fn, fw_metadata \u001B[38;5;241m=\u001B[39m \u001B[43mcompiler_fn\u001B[49m\u001B[43m(\u001B[49m\n\u001B[0;32m    760\u001B[0m \u001B[43m    \u001B[49m\u001B[43mflat_fn\u001B[49m\u001B[43m,\u001B[49m\n\u001B[0;32m    761\u001B[0m \u001B[43m    \u001B[49m\u001B[43m_dup_fake_script_obj\u001B[49m\u001B[43m(\u001B[49m\u001B[43mfake_flat_args\u001B[49m\u001B[43m)\u001B[49m\u001B[43m,\u001B[49m\n\u001B[0;32m    762\u001B[0m \u001B[43m    \u001B[49m\u001B[43maot_config\u001B[49m\u001B[43m,\u001B[49m\n\u001B[0;32m    763\u001B[0m \u001B[43m    \u001B[49m\u001B[43mfw_metadata\u001B[49m\u001B[38;5;241;43m=\u001B[39;49m\u001B[43mfw_metadata\u001B[49m\u001B[43m,\u001B[49m\n\u001B[0;32m    764\u001B[0m \u001B[43m\u001B[49m\u001B[43m)\u001B[49m\n\u001B[0;32m    765\u001B[0m \u001B[38;5;28;01mreturn\u001B[39;00m compiled_fn, fw_metadata\n",
      "File \u001B[1;32mD:\\Anaconda3\\envs\\pytorch\\Lib\\site-packages\\torch\\_functorch\\_aot_autograd\\jit_compile_runtime_wrappers.py:588\u001B[0m, in \u001B[0;36maot_dispatch_autograd\u001B[1;34m(flat_fn, flat_args, aot_config, fw_metadata)\u001B[0m\n\u001B[0;32m    587\u001B[0m \u001B[38;5;28;01mwith\u001B[39;00m TracingContext\u001B[38;5;241m.\u001B[39mreport_output_strides() \u001B[38;5;28;01mas\u001B[39;00m fwd_output_strides:\n\u001B[1;32m--> 588\u001B[0m     compiled_fw_func \u001B[38;5;241m=\u001B[39m \u001B[43maot_config\u001B[49m\u001B[38;5;241;43m.\u001B[39;49m\u001B[43mfw_compiler\u001B[49m\u001B[43m(\u001B[49m\u001B[43mfw_module\u001B[49m\u001B[43m,\u001B[49m\u001B[43m \u001B[49m\u001B[43madjusted_flat_args\u001B[49m\u001B[43m)\u001B[49m\n\u001B[0;32m    590\u001B[0m \u001B[38;5;28;01mif\u001B[39;00m \u001B[38;5;129;01mnot\u001B[39;00m \u001B[38;5;28mhasattr\u001B[39m(compiled_fw_func, \u001B[38;5;124m\"\u001B[39m\u001B[38;5;124m_boxed_call\u001B[39m\u001B[38;5;124m\"\u001B[39m):\n",
      "File \u001B[1;32mD:\\Anaconda3\\envs\\pytorch\\Lib\\site-packages\\torch\\_inductor\\compile_fx.py:1350\u001B[0m, in \u001B[0;36mcompile_fx.<locals>.fw_compiler_base\u001B[1;34m(model, example_inputs, is_inference)\u001B[0m\n\u001B[0;32m   1349\u001B[0m \u001B[38;5;28;01mwith\u001B[39;00m dynamo_utils\u001B[38;5;241m.\u001B[39mdynamo_timed(\u001B[38;5;124m\"\u001B[39m\u001B[38;5;124mcompile_fx.<locals>.fw_compiler_base\u001B[39m\u001B[38;5;124m\"\u001B[39m):\n\u001B[1;32m-> 1350\u001B[0m     \u001B[38;5;28;01mreturn\u001B[39;00m \u001B[43m_fw_compiler_base\u001B[49m\u001B[43m(\u001B[49m\u001B[43mmodel\u001B[49m\u001B[43m,\u001B[49m\u001B[43m \u001B[49m\u001B[43mexample_inputs\u001B[49m\u001B[43m,\u001B[49m\u001B[43m \u001B[49m\u001B[43mis_inference\u001B[49m\u001B[43m)\u001B[49m\n",
      "File \u001B[1;32mD:\\Anaconda3\\envs\\pytorch\\Lib\\site-packages\\torch\\_inductor\\compile_fx.py:1421\u001B[0m, in \u001B[0;36mcompile_fx.<locals>._fw_compiler_base\u001B[1;34m(model, example_inputs, is_inference)\u001B[0m\n\u001B[0;32m   1413\u001B[0m     user_visible_outputs \u001B[38;5;241m=\u001B[39m \u001B[38;5;28mdict\u001B[39m\u001B[38;5;241m.\u001B[39mfromkeys(\n\u001B[0;32m   1414\u001B[0m         n\u001B[38;5;241m.\u001B[39mname\n\u001B[0;32m   1415\u001B[0m         \u001B[38;5;28;01mfor\u001B[39;00m n \u001B[38;5;129;01min\u001B[39;00m model_outputs[\n\u001B[1;32m   (...)\u001B[0m\n\u001B[0;32m   1418\u001B[0m         \u001B[38;5;28;01mif\u001B[39;00m \u001B[38;5;28misinstance\u001B[39m(n, torch\u001B[38;5;241m.\u001B[39mfx\u001B[38;5;241m.\u001B[39mNode)\n\u001B[0;32m   1419\u001B[0m     )\n\u001B[1;32m-> 1421\u001B[0m \u001B[38;5;28;01mreturn\u001B[39;00m \u001B[43minner_compile\u001B[49m\u001B[43m(\u001B[49m\n\u001B[0;32m   1422\u001B[0m \u001B[43m    \u001B[49m\u001B[43mmodel\u001B[49m\u001B[43m,\u001B[49m\n\u001B[0;32m   1423\u001B[0m \u001B[43m    \u001B[49m\u001B[43mexample_inputs\u001B[49m\u001B[43m,\u001B[49m\n\u001B[0;32m   1424\u001B[0m \u001B[43m    \u001B[49m\u001B[43mstatic_input_idxs\u001B[49m\u001B[38;5;241;43m=\u001B[39;49m\u001B[43mget_static_input_idxs\u001B[49m\u001B[43m(\u001B[49m\u001B[43mfixed\u001B[49m\u001B[43m)\u001B[49m\u001B[43m,\u001B[49m\n\u001B[0;32m   1425\u001B[0m \u001B[43m    \u001B[49m\u001B[43mcudagraphs\u001B[49m\u001B[38;5;241;43m=\u001B[39;49m\u001B[43mcudagraphs\u001B[49m\u001B[43m,\u001B[49m\n\u001B[0;32m   1426\u001B[0m \u001B[43m    \u001B[49m\u001B[43mgraph_id\u001B[49m\u001B[38;5;241;43m=\u001B[39;49m\u001B[43mgraph_id\u001B[49m\u001B[43m,\u001B[49m\n\u001B[0;32m   1427\u001B[0m \u001B[43m    \u001B[49m\u001B[43mis_inference\u001B[49m\u001B[38;5;241;43m=\u001B[39;49m\u001B[43mis_inference\u001B[49m\u001B[43m,\u001B[49m\n\u001B[0;32m   1428\u001B[0m \u001B[43m    \u001B[49m\u001B[43mboxed_forward_device_index\u001B[49m\u001B[38;5;241;43m=\u001B[39;49m\u001B[43mforward_device\u001B[49m\u001B[43m,\u001B[49m\n\u001B[0;32m   1429\u001B[0m \u001B[43m    \u001B[49m\u001B[43muser_visible_outputs\u001B[49m\u001B[38;5;241;43m=\u001B[39;49m\u001B[43muser_visible_outputs\u001B[49m\u001B[43m,\u001B[49m\n\u001B[0;32m   1430\u001B[0m \u001B[43m\u001B[49m\u001B[43m)\u001B[49m\n",
      "File \u001B[1;32mD:\\Anaconda3\\envs\\pytorch\\Lib\\site-packages\\torch\\_inductor\\compile_fx.py:475\u001B[0m, in \u001B[0;36mcompile_fx_inner\u001B[1;34m(*args, **kwargs)\u001B[0m\n\u001B[0;32m    473\u001B[0m stack\u001B[38;5;241m.\u001B[39menter_context(DebugContext())\n\u001B[1;32m--> 475\u001B[0m \u001B[38;5;28;01mreturn\u001B[39;00m \u001B[43mwrap_compiler_debug\u001B[49m\u001B[43m(\u001B[49m\u001B[43m_compile_fx_inner\u001B[49m\u001B[43m,\u001B[49m\u001B[43m \u001B[49m\u001B[43mcompiler_name\u001B[49m\u001B[38;5;241;43m=\u001B[39;49m\u001B[38;5;124;43m\"\u001B[39;49m\u001B[38;5;124;43minductor\u001B[39;49m\u001B[38;5;124;43m\"\u001B[39;49m\u001B[43m)\u001B[49m\u001B[43m(\u001B[49m\n\u001B[0;32m    476\u001B[0m \u001B[43m    \u001B[49m\u001B[38;5;241;43m*\u001B[39;49m\u001B[43margs\u001B[49m\u001B[43m,\u001B[49m\u001B[43m \u001B[49m\u001B[38;5;241;43m*\u001B[39;49m\u001B[38;5;241;43m*\u001B[39;49m\u001B[43mkwargs\u001B[49m\n\u001B[0;32m    477\u001B[0m \u001B[43m\u001B[49m\u001B[43m)\u001B[49m\n",
      "File \u001B[1;32mD:\\Anaconda3\\envs\\pytorch\\Lib\\site-packages\\torch\\_dynamo\\repro\\after_aot.py:85\u001B[0m, in \u001B[0;36mwrap_compiler_debug.<locals>.debug_wrapper\u001B[1;34m(gm, example_inputs, **kwargs)\u001B[0m\n\u001B[0;32m     82\u001B[0m \u001B[38;5;28;01mtry\u001B[39;00m:\n\u001B[0;32m     83\u001B[0m     \u001B[38;5;66;03m# Call the compiler_fn - which is either aot_autograd or inductor\u001B[39;00m\n\u001B[0;32m     84\u001B[0m     \u001B[38;5;66;03m# with fake inputs\u001B[39;00m\n\u001B[1;32m---> 85\u001B[0m     inner_compiled_fn \u001B[38;5;241m=\u001B[39m \u001B[43mcompiler_fn\u001B[49m\u001B[43m(\u001B[49m\u001B[43mgm\u001B[49m\u001B[43m,\u001B[49m\u001B[43m \u001B[49m\u001B[43mexample_inputs\u001B[49m\u001B[43m)\u001B[49m\n\u001B[0;32m     86\u001B[0m \u001B[38;5;28;01mexcept\u001B[39;00m \u001B[38;5;167;01mException\u001B[39;00m \u001B[38;5;28;01mas\u001B[39;00m e:\n\u001B[0;32m     87\u001B[0m     \u001B[38;5;66;03m# TODO: Failures here are troublesome because no real inputs,\u001B[39;00m\n\u001B[0;32m     88\u001B[0m     \u001B[38;5;66;03m# need a different serialization strategy\u001B[39;00m\n",
      "File \u001B[1;32mD:\\Anaconda3\\envs\\pytorch\\Lib\\site-packages\\torch\\_inductor\\compile_fx.py:661\u001B[0m, in \u001B[0;36m_compile_fx_inner\u001B[1;34m(gm, example_inputs, cudagraphs, static_input_idxs, is_backward, graph_id, cpp_wrapper, aot_mode, is_inference, boxed_forward_device_index, user_visible_outputs, layout_opt, extern_node_serializer)\u001B[0m\n\u001B[0;32m    659\u001B[0m             \u001B[38;5;28minput\u001B[39m\u001B[38;5;241m.\u001B[39m_is_inductor_static \u001B[38;5;241m=\u001B[39m \u001B[38;5;28;01mTrue\u001B[39;00m  \u001B[38;5;66;03m# type: ignore[attr-defined]\u001B[39;00m\n\u001B[1;32m--> 661\u001B[0m     compiled_graph \u001B[38;5;241m=\u001B[39m \u001B[43mFxGraphCache\u001B[49m\u001B[38;5;241;43m.\u001B[39;49m\u001B[43mload\u001B[49m\u001B[43m(\u001B[49m\n\u001B[0;32m    662\u001B[0m \u001B[43m        \u001B[49m\u001B[43mcodegen_and_compile\u001B[49m\u001B[43m,\u001B[49m\n\u001B[0;32m    663\u001B[0m \u001B[43m        \u001B[49m\u001B[43mgm\u001B[49m\u001B[43m,\u001B[49m\n\u001B[0;32m    664\u001B[0m \u001B[43m        \u001B[49m\u001B[43mexample_inputs\u001B[49m\u001B[43m,\u001B[49m\n\u001B[0;32m    665\u001B[0m \u001B[43m        \u001B[49m\u001B[43mgraph_kwargs\u001B[49m\u001B[43m,\u001B[49m\n\u001B[0;32m    666\u001B[0m \u001B[43m        \u001B[49m\u001B[43minputs_to_check\u001B[49m\u001B[43m,\u001B[49m\n\u001B[0;32m    667\u001B[0m \u001B[43m        \u001B[49m\u001B[43mlocal\u001B[49m\u001B[38;5;241;43m=\u001B[39;49m\u001B[43mconfig\u001B[49m\u001B[38;5;241;43m.\u001B[39;49m\u001B[43mfx_graph_cache\u001B[49m\u001B[43m,\u001B[49m\n\u001B[0;32m    668\u001B[0m \u001B[43m        \u001B[49m\u001B[43mremote\u001B[49m\u001B[38;5;241;43m=\u001B[39;49m\u001B[43mfx_graph_remote_cache\u001B[49m\u001B[43m,\u001B[49m\n\u001B[0;32m    669\u001B[0m \u001B[43m    \u001B[49m\u001B[43m)\u001B[49m\n\u001B[0;32m    670\u001B[0m \u001B[38;5;28;01melse\u001B[39;00m:\n",
      "File \u001B[1;32mD:\\Anaconda3\\envs\\pytorch\\Lib\\site-packages\\torch\\_inductor\\codecache.py:1334\u001B[0m, in \u001B[0;36mFxGraphCache.load\u001B[1;34m(compile_fx_fn, gm, example_inputs, fx_kwargs, inputs_to_check, local, remote)\u001B[0m\n\u001B[0;32m   1333\u001B[0m cache_event_time \u001B[38;5;241m=\u001B[39m start_time\n\u001B[1;32m-> 1334\u001B[0m compiled_graph \u001B[38;5;241m=\u001B[39m \u001B[43mcompile_fx_fn\u001B[49m\u001B[43m(\u001B[49m\n\u001B[0;32m   1335\u001B[0m \u001B[43m    \u001B[49m\u001B[43mgm\u001B[49m\u001B[43m,\u001B[49m\u001B[43m \u001B[49m\u001B[43mexample_inputs\u001B[49m\u001B[43m,\u001B[49m\u001B[43m \u001B[49m\u001B[43minputs_to_check\u001B[49m\u001B[43m,\u001B[49m\u001B[43m \u001B[49m\u001B[43mfx_kwargs\u001B[49m\n\u001B[0;32m   1336\u001B[0m \u001B[43m\u001B[49m\u001B[43m)\u001B[49m\n\u001B[0;32m   1337\u001B[0m compiled_graph\u001B[38;5;241m.\u001B[39m_time_taken_ns \u001B[38;5;241m=\u001B[39m time_ns() \u001B[38;5;241m-\u001B[39m start_time\n",
      "File \u001B[1;32mD:\\Anaconda3\\envs\\pytorch\\Lib\\site-packages\\torch\\_inductor\\compile_fx.py:570\u001B[0m, in \u001B[0;36m_compile_fx_inner.<locals>.codegen_and_compile\u001B[1;34m(gm, example_inputs, inputs_to_check, fx_kwargs)\u001B[0m\n\u001B[0;32m    566\u001B[0m \u001B[38;5;250m\u001B[39m\u001B[38;5;124;03m\"\"\"\u001B[39;00m\n\u001B[0;32m    567\u001B[0m \u001B[38;5;124;03mThis function calls fx_codegen_and_compile and also adds some extra metadata to the resulting\u001B[39;00m\n\u001B[0;32m    568\u001B[0m \u001B[38;5;124;03mcompiled fx graph. The metadata is saved to FXGraphCache.\u001B[39;00m\n\u001B[0;32m    569\u001B[0m \u001B[38;5;124;03m\"\"\"\u001B[39;00m\n\u001B[1;32m--> 570\u001B[0m compiled_graph \u001B[38;5;241m=\u001B[39m \u001B[43mfx_codegen_and_compile\u001B[49m\u001B[43m(\u001B[49m\u001B[43mgm\u001B[49m\u001B[43m,\u001B[49m\u001B[43m \u001B[49m\u001B[43mexample_inputs\u001B[49m\u001B[43m,\u001B[49m\u001B[43m \u001B[49m\u001B[38;5;241;43m*\u001B[39;49m\u001B[38;5;241;43m*\u001B[39;49m\u001B[43mfx_kwargs\u001B[49m\u001B[43m)\u001B[49m\n\u001B[0;32m    571\u001B[0m \u001B[38;5;28;01mif\u001B[39;00m \u001B[38;5;28misinstance\u001B[39m(compiled_graph, \u001B[38;5;28mstr\u001B[39m):\n\u001B[0;32m    572\u001B[0m     \u001B[38;5;66;03m# We only return a string in aot mode, in which case we don't\u001B[39;00m\n\u001B[0;32m    573\u001B[0m     \u001B[38;5;66;03m# need to do any post-compilation steps: we just return the string,\u001B[39;00m\n\u001B[0;32m    574\u001B[0m     \u001B[38;5;66;03m# which is the filename of the compiled code.\u001B[39;00m\n",
      "File \u001B[1;32mD:\\Anaconda3\\envs\\pytorch\\Lib\\site-packages\\torch\\_inductor\\compile_fx.py:878\u001B[0m, in \u001B[0;36mfx_codegen_and_compile\u001B[1;34m(gm, example_inputs, cudagraphs, static_input_idxs, is_backward, graph_id, cpp_wrapper, aot_mode, is_inference, user_visible_outputs, layout_opt, extern_node_serializer)\u001B[0m\n\u001B[0;32m    877\u001B[0m _check_triton_bf16_support(graph)\n\u001B[1;32m--> 878\u001B[0m compiled_fn \u001B[38;5;241m=\u001B[39m \u001B[43mgraph\u001B[49m\u001B[38;5;241;43m.\u001B[39;49m\u001B[43mcompile_to_fn\u001B[49m\u001B[43m(\u001B[49m\u001B[43m)\u001B[49m\n\u001B[0;32m    879\u001B[0m num_bytes, nodes_num_elem, node_runtimes \u001B[38;5;241m=\u001B[39m graph\u001B[38;5;241m.\u001B[39mcount_bytes()\n",
      "File \u001B[1;32mD:\\Anaconda3\\envs\\pytorch\\Lib\\site-packages\\torch\\_inductor\\graph.py:1913\u001B[0m, in \u001B[0;36mGraphLowering.compile_to_fn\u001B[1;34m(self)\u001B[0m\n\u001B[0;32m   1912\u001B[0m \u001B[38;5;28;01melse\u001B[39;00m:\n\u001B[1;32m-> 1913\u001B[0m     \u001B[38;5;28;01mreturn\u001B[39;00m \u001B[38;5;28;43mself\u001B[39;49m\u001B[38;5;241;43m.\u001B[39;49m\u001B[43mcompile_to_module\u001B[49m\u001B[43m(\u001B[49m\u001B[43m)\u001B[49m\u001B[38;5;241m.\u001B[39mcall\n",
      "File \u001B[1;32mD:\\Anaconda3\\envs\\pytorch\\Lib\\site-packages\\torch\\_inductor\\graph.py:1839\u001B[0m, in \u001B[0;36mGraphLowering.compile_to_module\u001B[1;34m(self)\u001B[0m\n\u001B[0;32m   1836\u001B[0m \u001B[38;5;28;01mwith\u001B[39;00m dynamo_timed(\n\u001B[0;32m   1837\u001B[0m     \u001B[38;5;124m\"\u001B[39m\u001B[38;5;124mGraphLowering.compile_to_module\u001B[39m\u001B[38;5;124m\"\u001B[39m, phase_name\u001B[38;5;241m=\u001B[39m\u001B[38;5;124m\"\u001B[39m\u001B[38;5;124mcode_gen\u001B[39m\u001B[38;5;124m\"\u001B[39m, fwd_only\u001B[38;5;241m=\u001B[39m\u001B[38;5;28;01mFalse\u001B[39;00m\n\u001B[0;32m   1838\u001B[0m ):\n\u001B[1;32m-> 1839\u001B[0m     \u001B[38;5;28;01mreturn\u001B[39;00m \u001B[38;5;28;43mself\u001B[39;49m\u001B[38;5;241;43m.\u001B[39;49m\u001B[43m_compile_to_module\u001B[49m\u001B[43m(\u001B[49m\u001B[43m)\u001B[49m\n",
      "File \u001B[1;32mD:\\Anaconda3\\envs\\pytorch\\Lib\\site-packages\\torch\\_inductor\\graph.py:1845\u001B[0m, in \u001B[0;36mGraphLowering._compile_to_module\u001B[1;34m(self)\u001B[0m\n\u001B[0;32m   1842\u001B[0m \u001B[38;5;28;01mfrom\u001B[39;00m \u001B[38;5;21;01m.\u001B[39;00m\u001B[38;5;21;01mcodecache\u001B[39;00m \u001B[38;5;28;01mimport\u001B[39;00m PyCodeCache\n\u001B[0;32m   1844\u001B[0m code, linemap \u001B[38;5;241m=\u001B[39m (\n\u001B[1;32m-> 1845\u001B[0m     \u001B[38;5;28mself\u001B[39m\u001B[38;5;241m.\u001B[39mcodegen_with_cpp_wrapper() \u001B[38;5;28;01mif\u001B[39;00m \u001B[38;5;28mself\u001B[39m\u001B[38;5;241m.\u001B[39mcpp_wrapper \u001B[38;5;28;01melse\u001B[39;00m \u001B[38;5;28;43mself\u001B[39;49m\u001B[38;5;241;43m.\u001B[39;49m\u001B[43mcodegen\u001B[49m\u001B[43m(\u001B[49m\u001B[43m)\u001B[49m\n\u001B[0;32m   1846\u001B[0m )\n\u001B[0;32m   1848\u001B[0m GraphLowering\u001B[38;5;241m.\u001B[39msave_output_code(code)\n",
      "File \u001B[1;32mD:\\Anaconda3\\envs\\pytorch\\Lib\\site-packages\\torch\\_inductor\\graph.py:1780\u001B[0m, in \u001B[0;36mGraphLowering.codegen\u001B[1;34m(self)\u001B[0m\n\u001B[0;32m   1778\u001B[0m \u001B[38;5;28mself\u001B[39m\u001B[38;5;241m.\u001B[39minit_wrapper_code()\n\u001B[1;32m-> 1780\u001B[0m \u001B[38;5;28mself\u001B[39m\u001B[38;5;241m.\u001B[39mscheduler \u001B[38;5;241m=\u001B[39m \u001B[43mScheduler\u001B[49m\u001B[43m(\u001B[49m\u001B[38;5;28;43mself\u001B[39;49m\u001B[38;5;241;43m.\u001B[39;49m\u001B[43moperations\u001B[49m\u001B[43m)\u001B[49m\n\u001B[0;32m   1781\u001B[0m V\u001B[38;5;241m.\u001B[39mdebug\u001B[38;5;241m.\u001B[39mdraw_orig_fx_graph(\u001B[38;5;28mself\u001B[39m\u001B[38;5;241m.\u001B[39morig_gm, \u001B[38;5;28mself\u001B[39m\u001B[38;5;241m.\u001B[39mscheduler\u001B[38;5;241m.\u001B[39mnodes)\n",
      "File \u001B[1;32mD:\\Anaconda3\\envs\\pytorch\\Lib\\site-packages\\torch\\_inductor\\scheduler.py:1731\u001B[0m, in \u001B[0;36mScheduler.__init__\u001B[1;34m(self, nodes)\u001B[0m\n\u001B[0;32m   1730\u001B[0m \u001B[38;5;28;01mwith\u001B[39;00m dynamo_timed(\u001B[38;5;124m\"\u001B[39m\u001B[38;5;124mScheduler.__init__\u001B[39m\u001B[38;5;124m\"\u001B[39m):\n\u001B[1;32m-> 1731\u001B[0m     \u001B[38;5;28;43mself\u001B[39;49m\u001B[38;5;241;43m.\u001B[39;49m\u001B[43m_init\u001B[49m\u001B[43m(\u001B[49m\u001B[43mnodes\u001B[49m\u001B[43m)\u001B[49m\n",
      "File \u001B[1;32mD:\\Anaconda3\\envs\\pytorch\\Lib\\site-packages\\torch\\_inductor\\scheduler.py:1749\u001B[0m, in \u001B[0;36mScheduler._init\u001B[1;34m(self, nodes)\u001B[0m\n\u001B[0;32m   1741\u001B[0m \u001B[38;5;28mself\u001B[39m\u001B[38;5;241m.\u001B[39mavailable_buffer_names \u001B[38;5;241m=\u001B[39m OrderedSet(\n\u001B[0;32m   1742\u001B[0m     [\n\u001B[0;32m   1743\u001B[0m         \u001B[38;5;241m*\u001B[39mV\u001B[38;5;241m.\u001B[39mgraph\u001B[38;5;241m.\u001B[39mgraph_inputs\u001B[38;5;241m.\u001B[39mkeys(),\n\u001B[1;32m   (...)\u001B[0m\n\u001B[0;32m   1746\u001B[0m     ]\n\u001B[0;32m   1747\u001B[0m )\n\u001B[1;32m-> 1749\u001B[0m \u001B[38;5;28mself\u001B[39m\u001B[38;5;241m.\u001B[39mnodes \u001B[38;5;241m=\u001B[39m [\u001B[38;5;28;43mself\u001B[39;49m\u001B[38;5;241;43m.\u001B[39;49m\u001B[43mcreate_scheduler_node\u001B[49m\u001B[43m(\u001B[49m\u001B[43mn\u001B[49m\u001B[43m)\u001B[49m \u001B[38;5;28;01mfor\u001B[39;00m n \u001B[38;5;129;01min\u001B[39;00m nodes]\n\u001B[0;32m   1750\u001B[0m \u001B[38;5;28mself\u001B[39m\u001B[38;5;241m.\u001B[39mupdate_zero_dim_cpu_tensor()\n",
      "File \u001B[1;32mD:\\Anaconda3\\envs\\pytorch\\Lib\\site-packages\\torch\\_inductor\\scheduler.py:1856\u001B[0m, in \u001B[0;36mScheduler.create_scheduler_node\u001B[1;34m(self, node)\u001B[0m\n\u001B[0;32m   1855\u001B[0m \u001B[38;5;28;01melif\u001B[39;00m \u001B[38;5;28misinstance\u001B[39m(node, (ir\u001B[38;5;241m.\u001B[39mComputedBuffer, ir\u001B[38;5;241m.\u001B[39mTemplateBuffer)):\n\u001B[1;32m-> 1856\u001B[0m     \u001B[38;5;28;01mreturn\u001B[39;00m \u001B[43mSchedulerNode\u001B[49m\u001B[43m(\u001B[49m\u001B[38;5;28;43mself\u001B[39;49m\u001B[43m,\u001B[49m\u001B[43m \u001B[49m\u001B[43mnode\u001B[49m\u001B[43m)\u001B[49m\n\u001B[0;32m   1857\u001B[0m \u001B[38;5;28;01melif\u001B[39;00m \u001B[38;5;28misinstance\u001B[39m(node, ir\u001B[38;5;241m.\u001B[39mExternKernel):\n",
      "File \u001B[1;32mD:\\Anaconda3\\envs\\pytorch\\Lib\\site-packages\\torch\\_inductor\\scheduler.py:833\u001B[0m, in \u001B[0;36mSchedulerNode.__init__\u001B[1;34m(self, scheduler, node)\u001B[0m\n\u001B[0;32m    832\u001B[0m \u001B[38;5;28mself\u001B[39m\u001B[38;5;241m.\u001B[39m_init_from_node(node)\n\u001B[1;32m--> 833\u001B[0m \u001B[38;5;28;43mself\u001B[39;49m\u001B[38;5;241;43m.\u001B[39;49m\u001B[43m_compute_attrs\u001B[49m\u001B[43m(\u001B[49m\u001B[43m)\u001B[49m\n",
      "File \u001B[1;32mD:\\Anaconda3\\envs\\pytorch\\Lib\\site-packages\\torch\\_inductor\\scheduler.py:846\u001B[0m, in \u001B[0;36mSchedulerNode._compute_attrs\u001B[1;34m(self, extra_indexing_constraints, recompute_sizes_body_func)\u001B[0m\n\u001B[0;32m    841\u001B[0m \u001B[38;5;28mself\u001B[39m\u001B[38;5;241m.\u001B[39m_sizes, \u001B[38;5;28mself\u001B[39m\u001B[38;5;241m.\u001B[39m_body \u001B[38;5;241m=\u001B[39m \u001B[38;5;28mself\u001B[39m\u001B[38;5;241m.\u001B[39mnode\u001B[38;5;241m.\u001B[39msimplify_and_reorder(\n\u001B[0;32m    842\u001B[0m     extra_indexing_constraints\u001B[38;5;241m=\u001B[39mextra_indexing_constraints,\n\u001B[0;32m    843\u001B[0m     recompute_sizes_body_func\u001B[38;5;241m=\u001B[39mrecompute_sizes_body_func,\n\u001B[0;32m    844\u001B[0m )\n\u001B[1;32m--> 846\u001B[0m group_fn \u001B[38;5;241m=\u001B[39m \u001B[38;5;28;43mself\u001B[39;49m\u001B[38;5;241;43m.\u001B[39;49m\u001B[43mscheduler\u001B[49m\u001B[38;5;241;43m.\u001B[39;49m\u001B[43mget_backend\u001B[49m\u001B[43m(\u001B[49m\u001B[38;5;28;43mself\u001B[39;49m\u001B[38;5;241;43m.\u001B[39;49m\u001B[43mnode\u001B[49m\u001B[38;5;241;43m.\u001B[39;49m\u001B[43mget_device\u001B[49m\u001B[43m(\u001B[49m\u001B[43m)\u001B[49m\u001B[43m)\u001B[49m\u001B[38;5;241m.\u001B[39mgroup_fn\n\u001B[0;32m    847\u001B[0m \u001B[38;5;28mself\u001B[39m\u001B[38;5;241m.\u001B[39mgroup \u001B[38;5;241m=\u001B[39m (\u001B[38;5;28mself\u001B[39m\u001B[38;5;241m.\u001B[39mnode\u001B[38;5;241m.\u001B[39mget_device(), group_fn(\u001B[38;5;28mself\u001B[39m\u001B[38;5;241m.\u001B[39m_sizes))\n",
      "File \u001B[1;32mD:\\Anaconda3\\envs\\pytorch\\Lib\\site-packages\\torch\\_inductor\\scheduler.py:3360\u001B[0m, in \u001B[0;36mScheduler.get_backend\u001B[1;34m(self, device)\u001B[0m\n\u001B[0;32m   3359\u001B[0m \u001B[38;5;28;01mif\u001B[39;00m device \u001B[38;5;129;01mnot\u001B[39;00m \u001B[38;5;129;01min\u001B[39;00m \u001B[38;5;28mself\u001B[39m\u001B[38;5;241m.\u001B[39mbackends:\n\u001B[1;32m-> 3360\u001B[0m     \u001B[38;5;28mself\u001B[39m\u001B[38;5;241m.\u001B[39mbackends[device] \u001B[38;5;241m=\u001B[39m \u001B[38;5;28;43mself\u001B[39;49m\u001B[38;5;241;43m.\u001B[39;49m\u001B[43mcreate_backend\u001B[49m\u001B[43m(\u001B[49m\u001B[43mdevice\u001B[49m\u001B[43m)\u001B[49m\n\u001B[0;32m   3361\u001B[0m \u001B[38;5;28;01mreturn\u001B[39;00m \u001B[38;5;28mself\u001B[39m\u001B[38;5;241m.\u001B[39mbackends[device]\n",
      "File \u001B[1;32mD:\\Anaconda3\\envs\\pytorch\\Lib\\site-packages\\torch\\_inductor\\scheduler.py:3352\u001B[0m, in \u001B[0;36mScheduler.create_backend\u001B[1;34m(self, device)\u001B[0m\n\u001B[0;32m   3351\u001B[0m     \u001B[38;5;28;01melif\u001B[39;00m is_gpu(device\u001B[38;5;241m.\u001B[39mtype):\n\u001B[1;32m-> 3352\u001B[0m         \u001B[38;5;28;01mraise\u001B[39;00m \u001B[38;5;167;01mRuntimeError\u001B[39;00m(\n\u001B[0;32m   3353\u001B[0m             \u001B[38;5;124m\"\u001B[39m\u001B[38;5;124mCannot find a working triton installation. Either the package is not installed or it is too old. More information on installing Triton can be found at https://github.com/openai/triton\u001B[39m\u001B[38;5;124m\"\u001B[39m  \u001B[38;5;66;03m# noqa: B950\u001B[39;00m\n\u001B[0;32m   3354\u001B[0m         )\n\u001B[0;32m   3356\u001B[0m \u001B[38;5;28;01mreturn\u001B[39;00m device_scheduling(\u001B[38;5;28mself\u001B[39m)\n",
      "\u001B[1;31mRuntimeError\u001B[0m: Cannot find a working triton installation. Either the package is not installed or it is too old. More information on installing Triton can be found at https://github.com/openai/triton",
      "\nThe above exception was the direct cause of the following exception:\n",
      "\u001B[1;31mBackendCompilerFailed\u001B[0m                     Traceback (most recent call last)",
      "Cell \u001B[1;32mIn[22], line 22\u001B[0m\n\u001B[0;32m     19\u001B[0m \u001B[38;5;28mprint\u001B[39m(\u001B[38;5;124mf\u001B[39m\u001B[38;5;124m\"\u001B[39m\u001B[38;5;124mTime to compile: \u001B[39m\u001B[38;5;132;01m{\u001B[39;00mcompile_time\u001B[38;5;132;01m}\u001B[39;00m\u001B[38;5;124m | Note: The first time you compile your model, the first few epochs will be slower than subsequent runs.\u001B[39m\u001B[38;5;124m\"\u001B[39m)\n\u001B[0;32m     21\u001B[0m \u001B[38;5;66;03m# Train the compiled model\u001B[39;00m\n\u001B[1;32m---> 22\u001B[0m single_run_compile_results \u001B[38;5;241m=\u001B[39m \u001B[43mtrain\u001B[49m\u001B[43m(\u001B[49m\u001B[43mmodel\u001B[49m\u001B[38;5;241;43m=\u001B[39;49m\u001B[43mcompiled_model\u001B[49m\u001B[43m,\u001B[49m\n\u001B[0;32m     23\u001B[0m \u001B[43m                                   \u001B[49m\u001B[43mtrain_dataloader\u001B[49m\u001B[38;5;241;43m=\u001B[39;49m\u001B[43mtrain_dataloader\u001B[49m\u001B[43m,\u001B[49m\n\u001B[0;32m     24\u001B[0m \u001B[43m                                   \u001B[49m\u001B[43mtest_dataloader\u001B[49m\u001B[38;5;241;43m=\u001B[39;49m\u001B[43mtest_dataloader\u001B[49m\u001B[43m,\u001B[49m\n\u001B[0;32m     25\u001B[0m \u001B[43m                                   \u001B[49m\u001B[43mloss_fn\u001B[49m\u001B[38;5;241;43m=\u001B[39;49m\u001B[43mloss_fn\u001B[49m\u001B[43m,\u001B[49m\n\u001B[0;32m     26\u001B[0m \u001B[43m                                   \u001B[49m\u001B[43moptimizer\u001B[49m\u001B[38;5;241;43m=\u001B[39;49m\u001B[43moptimizer\u001B[49m\u001B[43m,\u001B[49m\n\u001B[0;32m     27\u001B[0m \u001B[43m                                   \u001B[49m\u001B[43mepochs\u001B[49m\u001B[38;5;241;43m=\u001B[39;49m\u001B[43mNUM_EPOCHS\u001B[49m\u001B[43m,\u001B[49m\n\u001B[0;32m     28\u001B[0m \u001B[43m                                   \u001B[49m\u001B[43mdevice\u001B[49m\u001B[38;5;241;43m=\u001B[39;49m\u001B[43mdevice\u001B[49m\u001B[43m)\u001B[49m\n",
      "Cell \u001B[1;32mIn[18], line 204\u001B[0m, in \u001B[0;36mtrain\u001B[1;34m(model, train_dataloader, test_dataloader, optimizer, loss_fn, epochs, device, disable_progress_bar)\u001B[0m\n\u001B[0;32m    200\u001B[0m \u001B[38;5;28;01mfor\u001B[39;00m epoch \u001B[38;5;129;01min\u001B[39;00m tqdm(\u001B[38;5;28mrange\u001B[39m(epochs), disable\u001B[38;5;241m=\u001B[39mdisable_progress_bar):\n\u001B[0;32m    201\u001B[0m \n\u001B[0;32m    202\u001B[0m     \u001B[38;5;66;03m# Perform training step and time it\u001B[39;00m\n\u001B[0;32m    203\u001B[0m     train_epoch_start_time \u001B[38;5;241m=\u001B[39m time\u001B[38;5;241m.\u001B[39mtime()\n\u001B[1;32m--> 204\u001B[0m     train_loss, train_acc \u001B[38;5;241m=\u001B[39m \u001B[43mtrain_step\u001B[49m\u001B[43m(\u001B[49m\u001B[43mepoch\u001B[49m\u001B[38;5;241;43m=\u001B[39;49m\u001B[43mepoch\u001B[49m\u001B[43m,\u001B[49m\u001B[43m \u001B[49m\n\u001B[0;32m    205\u001B[0m \u001B[43m                                      \u001B[49m\u001B[43mmodel\u001B[49m\u001B[38;5;241;43m=\u001B[39;49m\u001B[43mmodel\u001B[49m\u001B[43m,\u001B[49m\n\u001B[0;32m    206\u001B[0m \u001B[43m                                      \u001B[49m\u001B[43mdataloader\u001B[49m\u001B[38;5;241;43m=\u001B[39;49m\u001B[43mtrain_dataloader\u001B[49m\u001B[43m,\u001B[49m\n\u001B[0;32m    207\u001B[0m \u001B[43m                                      \u001B[49m\u001B[43mloss_fn\u001B[49m\u001B[38;5;241;43m=\u001B[39;49m\u001B[43mloss_fn\u001B[49m\u001B[43m,\u001B[49m\n\u001B[0;32m    208\u001B[0m \u001B[43m                                      \u001B[49m\u001B[43moptimizer\u001B[49m\u001B[38;5;241;43m=\u001B[39;49m\u001B[43moptimizer\u001B[49m\u001B[43m,\u001B[49m\n\u001B[0;32m    209\u001B[0m \u001B[43m                                      \u001B[49m\u001B[43mdevice\u001B[49m\u001B[38;5;241;43m=\u001B[39;49m\u001B[43mdevice\u001B[49m\u001B[43m,\u001B[49m\n\u001B[0;32m    210\u001B[0m \u001B[43m                                      \u001B[49m\u001B[43mdisable_progress_bar\u001B[49m\u001B[38;5;241;43m=\u001B[39;49m\u001B[43mdisable_progress_bar\u001B[49m\u001B[43m)\u001B[49m\n\u001B[0;32m    211\u001B[0m     train_epoch_end_time \u001B[38;5;241m=\u001B[39m time\u001B[38;5;241m.\u001B[39mtime()\n\u001B[0;32m    212\u001B[0m     train_epoch_time \u001B[38;5;241m=\u001B[39m train_epoch_end_time \u001B[38;5;241m-\u001B[39m train_epoch_start_time\n",
      "Cell \u001B[1;32mIn[18], line 50\u001B[0m, in \u001B[0;36mtrain_step\u001B[1;34m(epoch, model, dataloader, loss_fn, optimizer, device, disable_progress_bar)\u001B[0m\n\u001B[0;32m     47\u001B[0m X, y \u001B[38;5;241m=\u001B[39m X\u001B[38;5;241m.\u001B[39mto(device), y\u001B[38;5;241m.\u001B[39mto(device)\n\u001B[0;32m     49\u001B[0m \u001B[38;5;66;03m# 1. Forward pass\u001B[39;00m\n\u001B[1;32m---> 50\u001B[0m y_pred \u001B[38;5;241m=\u001B[39m \u001B[43mmodel\u001B[49m\u001B[43m(\u001B[49m\u001B[43mX\u001B[49m\u001B[43m)\u001B[49m\n\u001B[0;32m     52\u001B[0m \u001B[38;5;66;03m# 2. Calculate  and accumulate loss\u001B[39;00m\n\u001B[0;32m     53\u001B[0m loss \u001B[38;5;241m=\u001B[39m loss_fn(y_pred, y)\n",
      "File \u001B[1;32mD:\\Anaconda3\\envs\\pytorch\\Lib\\site-packages\\torch\\nn\\modules\\module.py:1736\u001B[0m, in \u001B[0;36mModule._wrapped_call_impl\u001B[1;34m(self, *args, **kwargs)\u001B[0m\n\u001B[0;32m   1734\u001B[0m     \u001B[38;5;28;01mreturn\u001B[39;00m \u001B[38;5;28mself\u001B[39m\u001B[38;5;241m.\u001B[39m_compiled_call_impl(\u001B[38;5;241m*\u001B[39margs, \u001B[38;5;241m*\u001B[39m\u001B[38;5;241m*\u001B[39mkwargs)  \u001B[38;5;66;03m# type: ignore[misc]\u001B[39;00m\n\u001B[0;32m   1735\u001B[0m \u001B[38;5;28;01melse\u001B[39;00m:\n\u001B[1;32m-> 1736\u001B[0m     \u001B[38;5;28;01mreturn\u001B[39;00m \u001B[38;5;28;43mself\u001B[39;49m\u001B[38;5;241;43m.\u001B[39;49m\u001B[43m_call_impl\u001B[49m\u001B[43m(\u001B[49m\u001B[38;5;241;43m*\u001B[39;49m\u001B[43margs\u001B[49m\u001B[43m,\u001B[49m\u001B[43m \u001B[49m\u001B[38;5;241;43m*\u001B[39;49m\u001B[38;5;241;43m*\u001B[39;49m\u001B[43mkwargs\u001B[49m\u001B[43m)\u001B[49m\n",
      "File \u001B[1;32mD:\\Anaconda3\\envs\\pytorch\\Lib\\site-packages\\torch\\nn\\modules\\module.py:1747\u001B[0m, in \u001B[0;36mModule._call_impl\u001B[1;34m(self, *args, **kwargs)\u001B[0m\n\u001B[0;32m   1742\u001B[0m \u001B[38;5;66;03m# If we don't have any hooks, we want to skip the rest of the logic in\u001B[39;00m\n\u001B[0;32m   1743\u001B[0m \u001B[38;5;66;03m# this function, and just call forward.\u001B[39;00m\n\u001B[0;32m   1744\u001B[0m \u001B[38;5;28;01mif\u001B[39;00m \u001B[38;5;129;01mnot\u001B[39;00m (\u001B[38;5;28mself\u001B[39m\u001B[38;5;241m.\u001B[39m_backward_hooks \u001B[38;5;129;01mor\u001B[39;00m \u001B[38;5;28mself\u001B[39m\u001B[38;5;241m.\u001B[39m_backward_pre_hooks \u001B[38;5;129;01mor\u001B[39;00m \u001B[38;5;28mself\u001B[39m\u001B[38;5;241m.\u001B[39m_forward_hooks \u001B[38;5;129;01mor\u001B[39;00m \u001B[38;5;28mself\u001B[39m\u001B[38;5;241m.\u001B[39m_forward_pre_hooks\n\u001B[0;32m   1745\u001B[0m         \u001B[38;5;129;01mor\u001B[39;00m _global_backward_pre_hooks \u001B[38;5;129;01mor\u001B[39;00m _global_backward_hooks\n\u001B[0;32m   1746\u001B[0m         \u001B[38;5;129;01mor\u001B[39;00m _global_forward_hooks \u001B[38;5;129;01mor\u001B[39;00m _global_forward_pre_hooks):\n\u001B[1;32m-> 1747\u001B[0m     \u001B[38;5;28;01mreturn\u001B[39;00m \u001B[43mforward_call\u001B[49m\u001B[43m(\u001B[49m\u001B[38;5;241;43m*\u001B[39;49m\u001B[43margs\u001B[49m\u001B[43m,\u001B[49m\u001B[43m \u001B[49m\u001B[38;5;241;43m*\u001B[39;49m\u001B[38;5;241;43m*\u001B[39;49m\u001B[43mkwargs\u001B[49m\u001B[43m)\u001B[49m\n\u001B[0;32m   1749\u001B[0m result \u001B[38;5;241m=\u001B[39m \u001B[38;5;28;01mNone\u001B[39;00m\n\u001B[0;32m   1750\u001B[0m called_always_called_hooks \u001B[38;5;241m=\u001B[39m \u001B[38;5;28mset\u001B[39m()\n",
      "File \u001B[1;32mD:\\Anaconda3\\envs\\pytorch\\Lib\\site-packages\\torch\\_dynamo\\eval_frame.py:465\u001B[0m, in \u001B[0;36m_TorchDynamoContext.__call__.<locals>._fn\u001B[1;34m(*args, **kwargs)\u001B[0m\n\u001B[0;32m    460\u001B[0m saved_dynamic_layer_stack_depth \u001B[38;5;241m=\u001B[39m (\n\u001B[0;32m    461\u001B[0m     torch\u001B[38;5;241m.\u001B[39m_C\u001B[38;5;241m.\u001B[39m_functorch\u001B[38;5;241m.\u001B[39mget_dynamic_layer_stack_depth()\n\u001B[0;32m    462\u001B[0m )\n\u001B[0;32m    464\u001B[0m \u001B[38;5;28;01mtry\u001B[39;00m:\n\u001B[1;32m--> 465\u001B[0m     \u001B[38;5;28;01mreturn\u001B[39;00m \u001B[43mfn\u001B[49m\u001B[43m(\u001B[49m\u001B[38;5;241;43m*\u001B[39;49m\u001B[43margs\u001B[49m\u001B[43m,\u001B[49m\u001B[43m \u001B[49m\u001B[38;5;241;43m*\u001B[39;49m\u001B[38;5;241;43m*\u001B[39;49m\u001B[43mkwargs\u001B[49m\u001B[43m)\u001B[49m\n\u001B[0;32m    466\u001B[0m \u001B[38;5;28;01mfinally\u001B[39;00m:\n\u001B[0;32m    467\u001B[0m     \u001B[38;5;66;03m# Restore the dynamic layer stack depth if necessary.\u001B[39;00m\n\u001B[0;32m    468\u001B[0m     torch\u001B[38;5;241m.\u001B[39m_C\u001B[38;5;241m.\u001B[39m_functorch\u001B[38;5;241m.\u001B[39mpop_dynamic_layer_stack_and_undo_to_depth(\n\u001B[0;32m    469\u001B[0m         saved_dynamic_layer_stack_depth\n\u001B[0;32m    470\u001B[0m     )\n",
      "File \u001B[1;32mD:\\Anaconda3\\envs\\pytorch\\Lib\\site-packages\\torch\\nn\\modules\\module.py:1736\u001B[0m, in \u001B[0;36mModule._wrapped_call_impl\u001B[1;34m(self, *args, **kwargs)\u001B[0m\n\u001B[0;32m   1734\u001B[0m     \u001B[38;5;28;01mreturn\u001B[39;00m \u001B[38;5;28mself\u001B[39m\u001B[38;5;241m.\u001B[39m_compiled_call_impl(\u001B[38;5;241m*\u001B[39margs, \u001B[38;5;241m*\u001B[39m\u001B[38;5;241m*\u001B[39mkwargs)  \u001B[38;5;66;03m# type: ignore[misc]\u001B[39;00m\n\u001B[0;32m   1735\u001B[0m \u001B[38;5;28;01melse\u001B[39;00m:\n\u001B[1;32m-> 1736\u001B[0m     \u001B[38;5;28;01mreturn\u001B[39;00m \u001B[38;5;28;43mself\u001B[39;49m\u001B[38;5;241;43m.\u001B[39;49m\u001B[43m_call_impl\u001B[49m\u001B[43m(\u001B[49m\u001B[38;5;241;43m*\u001B[39;49m\u001B[43margs\u001B[49m\u001B[43m,\u001B[49m\u001B[43m \u001B[49m\u001B[38;5;241;43m*\u001B[39;49m\u001B[38;5;241;43m*\u001B[39;49m\u001B[43mkwargs\u001B[49m\u001B[43m)\u001B[49m\n",
      "File \u001B[1;32mD:\\Anaconda3\\envs\\pytorch\\Lib\\site-packages\\torch\\nn\\modules\\module.py:1747\u001B[0m, in \u001B[0;36mModule._call_impl\u001B[1;34m(self, *args, **kwargs)\u001B[0m\n\u001B[0;32m   1742\u001B[0m \u001B[38;5;66;03m# If we don't have any hooks, we want to skip the rest of the logic in\u001B[39;00m\n\u001B[0;32m   1743\u001B[0m \u001B[38;5;66;03m# this function, and just call forward.\u001B[39;00m\n\u001B[0;32m   1744\u001B[0m \u001B[38;5;28;01mif\u001B[39;00m \u001B[38;5;129;01mnot\u001B[39;00m (\u001B[38;5;28mself\u001B[39m\u001B[38;5;241m.\u001B[39m_backward_hooks \u001B[38;5;129;01mor\u001B[39;00m \u001B[38;5;28mself\u001B[39m\u001B[38;5;241m.\u001B[39m_backward_pre_hooks \u001B[38;5;129;01mor\u001B[39;00m \u001B[38;5;28mself\u001B[39m\u001B[38;5;241m.\u001B[39m_forward_hooks \u001B[38;5;129;01mor\u001B[39;00m \u001B[38;5;28mself\u001B[39m\u001B[38;5;241m.\u001B[39m_forward_pre_hooks\n\u001B[0;32m   1745\u001B[0m         \u001B[38;5;129;01mor\u001B[39;00m _global_backward_pre_hooks \u001B[38;5;129;01mor\u001B[39;00m _global_backward_hooks\n\u001B[0;32m   1746\u001B[0m         \u001B[38;5;129;01mor\u001B[39;00m _global_forward_hooks \u001B[38;5;129;01mor\u001B[39;00m _global_forward_pre_hooks):\n\u001B[1;32m-> 1747\u001B[0m     \u001B[38;5;28;01mreturn\u001B[39;00m \u001B[43mforward_call\u001B[49m\u001B[43m(\u001B[49m\u001B[38;5;241;43m*\u001B[39;49m\u001B[43margs\u001B[49m\u001B[43m,\u001B[49m\u001B[43m \u001B[49m\u001B[38;5;241;43m*\u001B[39;49m\u001B[38;5;241;43m*\u001B[39;49m\u001B[43mkwargs\u001B[49m\u001B[43m)\u001B[49m\n\u001B[0;32m   1749\u001B[0m result \u001B[38;5;241m=\u001B[39m \u001B[38;5;28;01mNone\u001B[39;00m\n\u001B[0;32m   1750\u001B[0m called_always_called_hooks \u001B[38;5;241m=\u001B[39m \u001B[38;5;28mset\u001B[39m()\n",
      "File \u001B[1;32mD:\\Anaconda3\\envs\\pytorch\\Lib\\site-packages\\torch\\_dynamo\\convert_frame.py:1269\u001B[0m, in \u001B[0;36mCatchErrorsWrapper.__call__\u001B[1;34m(self, frame, cache_entry, frame_state)\u001B[0m\n\u001B[0;32m   1263\u001B[0m             \u001B[38;5;28;01mreturn\u001B[39;00m hijacked_callback(\n\u001B[0;32m   1264\u001B[0m                 frame, cache_entry, \u001B[38;5;28mself\u001B[39m\u001B[38;5;241m.\u001B[39mhooks, frame_state\n\u001B[0;32m   1265\u001B[0m             )\n\u001B[0;32m   1267\u001B[0m \u001B[38;5;28;01mwith\u001B[39;00m compile_lock, _disable_current_modes():\n\u001B[0;32m   1268\u001B[0m     \u001B[38;5;66;03m# skip=1: skip this frame\u001B[39;00m\n\u001B[1;32m-> 1269\u001B[0m     \u001B[38;5;28;01mreturn\u001B[39;00m \u001B[38;5;28;43mself\u001B[39;49m\u001B[38;5;241;43m.\u001B[39;49m\u001B[43m_torchdynamo_orig_callable\u001B[49m\u001B[43m(\u001B[49m\n\u001B[0;32m   1270\u001B[0m \u001B[43m        \u001B[49m\u001B[43mframe\u001B[49m\u001B[43m,\u001B[49m\u001B[43m \u001B[49m\u001B[43mcache_entry\u001B[49m\u001B[43m,\u001B[49m\u001B[43m \u001B[49m\u001B[38;5;28;43mself\u001B[39;49m\u001B[38;5;241;43m.\u001B[39;49m\u001B[43mhooks\u001B[49m\u001B[43m,\u001B[49m\u001B[43m \u001B[49m\u001B[43mframe_state\u001B[49m\u001B[43m,\u001B[49m\u001B[43m \u001B[49m\u001B[43mskip\u001B[49m\u001B[38;5;241;43m=\u001B[39;49m\u001B[38;5;241;43m1\u001B[39;49m\n\u001B[0;32m   1271\u001B[0m \u001B[43m    \u001B[49m\u001B[43m)\u001B[49m\n",
      "File \u001B[1;32mD:\\Anaconda3\\envs\\pytorch\\Lib\\site-packages\\torch\\_dynamo\\convert_frame.py:1064\u001B[0m, in \u001B[0;36mConvertFrame.__call__\u001B[1;34m(self, frame, cache_entry, hooks, frame_state, skip)\u001B[0m\n\u001B[0;32m   1062\u001B[0m counters[\u001B[38;5;124m\"\u001B[39m\u001B[38;5;124mframes\u001B[39m\u001B[38;5;124m\"\u001B[39m][\u001B[38;5;124m\"\u001B[39m\u001B[38;5;124mtotal\u001B[39m\u001B[38;5;124m\"\u001B[39m] \u001B[38;5;241m+\u001B[39m\u001B[38;5;241m=\u001B[39m \u001B[38;5;241m1\u001B[39m\n\u001B[0;32m   1063\u001B[0m \u001B[38;5;28;01mtry\u001B[39;00m:\n\u001B[1;32m-> 1064\u001B[0m     result \u001B[38;5;241m=\u001B[39m \u001B[38;5;28;43mself\u001B[39;49m\u001B[38;5;241;43m.\u001B[39;49m\u001B[43m_inner_convert\u001B[49m\u001B[43m(\u001B[49m\n\u001B[0;32m   1065\u001B[0m \u001B[43m        \u001B[49m\u001B[43mframe\u001B[49m\u001B[43m,\u001B[49m\u001B[43m \u001B[49m\u001B[43mcache_entry\u001B[49m\u001B[43m,\u001B[49m\u001B[43m \u001B[49m\u001B[43mhooks\u001B[49m\u001B[43m,\u001B[49m\u001B[43m \u001B[49m\u001B[43mframe_state\u001B[49m\u001B[43m,\u001B[49m\u001B[43m \u001B[49m\u001B[43mskip\u001B[49m\u001B[38;5;241;43m=\u001B[39;49m\u001B[43mskip\u001B[49m\u001B[43m \u001B[49m\u001B[38;5;241;43m+\u001B[39;49m\u001B[43m \u001B[49m\u001B[38;5;241;43m1\u001B[39;49m\n\u001B[0;32m   1066\u001B[0m \u001B[43m    \u001B[49m\u001B[43m)\u001B[49m\n\u001B[0;32m   1067\u001B[0m     counters[\u001B[38;5;124m\"\u001B[39m\u001B[38;5;124mframes\u001B[39m\u001B[38;5;124m\"\u001B[39m][\u001B[38;5;124m\"\u001B[39m\u001B[38;5;124mok\u001B[39m\u001B[38;5;124m\"\u001B[39m] \u001B[38;5;241m+\u001B[39m\u001B[38;5;241m=\u001B[39m \u001B[38;5;241m1\u001B[39m\n\u001B[0;32m   1068\u001B[0m     \u001B[38;5;28;01mreturn\u001B[39;00m result\n",
      "File \u001B[1;32mD:\\Anaconda3\\envs\\pytorch\\Lib\\site-packages\\torch\\_dynamo\\convert_frame.py:526\u001B[0m, in \u001B[0;36mConvertFrameAssert.__call__\u001B[1;34m(self, frame, cache_entry, hooks, frame_state, skip)\u001B[0m\n\u001B[0;32m    510\u001B[0m compile_id \u001B[38;5;241m=\u001B[39m CompileId(frame_id, frame_compile_id)\n\u001B[0;32m    512\u001B[0m signpost_event(\n\u001B[0;32m    513\u001B[0m     \u001B[38;5;124m\"\u001B[39m\u001B[38;5;124mdynamo\u001B[39m\u001B[38;5;124m\"\u001B[39m,\n\u001B[0;32m    514\u001B[0m     \u001B[38;5;124m\"\u001B[39m\u001B[38;5;124m_convert_frame_assert._compile\u001B[39m\u001B[38;5;124m\"\u001B[39m,\n\u001B[1;32m   (...)\u001B[0m\n\u001B[0;32m    523\u001B[0m     },\n\u001B[0;32m    524\u001B[0m )\n\u001B[1;32m--> 526\u001B[0m \u001B[38;5;28;01mreturn\u001B[39;00m \u001B[43m_compile\u001B[49m\u001B[43m(\u001B[49m\n\u001B[0;32m    527\u001B[0m \u001B[43m    \u001B[49m\u001B[43mframe\u001B[49m\u001B[38;5;241;43m.\u001B[39;49m\u001B[43mf_code\u001B[49m\u001B[43m,\u001B[49m\n\u001B[0;32m    528\u001B[0m \u001B[43m    \u001B[49m\u001B[43mframe\u001B[49m\u001B[38;5;241;43m.\u001B[39;49m\u001B[43mf_globals\u001B[49m\u001B[43m,\u001B[49m\n\u001B[0;32m    529\u001B[0m \u001B[43m    \u001B[49m\u001B[43mframe\u001B[49m\u001B[38;5;241;43m.\u001B[39;49m\u001B[43mf_locals\u001B[49m\u001B[43m,\u001B[49m\n\u001B[0;32m    530\u001B[0m \u001B[43m    \u001B[49m\u001B[43mframe\u001B[49m\u001B[38;5;241;43m.\u001B[39;49m\u001B[43mf_builtins\u001B[49m\u001B[43m,\u001B[49m\n\u001B[0;32m    531\u001B[0m \u001B[43m    \u001B[49m\u001B[38;5;28;43mself\u001B[39;49m\u001B[38;5;241;43m.\u001B[39;49m\u001B[43m_torchdynamo_orig_callable\u001B[49m\u001B[43m,\u001B[49m\n\u001B[0;32m    532\u001B[0m \u001B[43m    \u001B[49m\u001B[38;5;28;43mself\u001B[39;49m\u001B[38;5;241;43m.\u001B[39;49m\u001B[43m_one_graph\u001B[49m\u001B[43m,\u001B[49m\n\u001B[0;32m    533\u001B[0m \u001B[43m    \u001B[49m\u001B[38;5;28;43mself\u001B[39;49m\u001B[38;5;241;43m.\u001B[39;49m\u001B[43m_export\u001B[49m\u001B[43m,\u001B[49m\n\u001B[0;32m    534\u001B[0m \u001B[43m    \u001B[49m\u001B[38;5;28;43mself\u001B[39;49m\u001B[38;5;241;43m.\u001B[39;49m\u001B[43m_export_constraints\u001B[49m\u001B[43m,\u001B[49m\n\u001B[0;32m    535\u001B[0m \u001B[43m    \u001B[49m\u001B[43mhooks\u001B[49m\u001B[43m,\u001B[49m\n\u001B[0;32m    536\u001B[0m \u001B[43m    \u001B[49m\u001B[43mcache_entry\u001B[49m\u001B[43m,\u001B[49m\n\u001B[0;32m    537\u001B[0m \u001B[43m    \u001B[49m\u001B[43mcache_size\u001B[49m\u001B[43m,\u001B[49m\n\u001B[0;32m    538\u001B[0m \u001B[43m    \u001B[49m\u001B[43mframe\u001B[49m\u001B[43m,\u001B[49m\n\u001B[0;32m    539\u001B[0m \u001B[43m    \u001B[49m\u001B[43mframe_state\u001B[49m\u001B[38;5;241;43m=\u001B[39;49m\u001B[43mframe_state\u001B[49m\u001B[43m,\u001B[49m\n\u001B[0;32m    540\u001B[0m \u001B[43m    \u001B[49m\u001B[43mcompile_id\u001B[49m\u001B[38;5;241;43m=\u001B[39;49m\u001B[43mcompile_id\u001B[49m\u001B[43m,\u001B[49m\n\u001B[0;32m    541\u001B[0m \u001B[43m    \u001B[49m\u001B[43mskip\u001B[49m\u001B[38;5;241;43m=\u001B[39;49m\u001B[43mskip\u001B[49m\u001B[43m \u001B[49m\u001B[38;5;241;43m+\u001B[39;49m\u001B[43m \u001B[49m\u001B[38;5;241;43m1\u001B[39;49m\u001B[43m,\u001B[49m\n\u001B[0;32m    542\u001B[0m \u001B[43m\u001B[49m\u001B[43m)\u001B[49m\n",
      "File \u001B[1;32mD:\\Anaconda3\\envs\\pytorch\\Lib\\site-packages\\torch\\_dynamo\\convert_frame.py:924\u001B[0m, in \u001B[0;36m_compile\u001B[1;34m(code, globals, locals, builtins, compiler_fn, one_graph, export, export_constraints, hooks, cache_entry, cache_size, frame, frame_state, compile_id, skip)\u001B[0m\n\u001B[0;32m    922\u001B[0m guarded_code \u001B[38;5;241m=\u001B[39m \u001B[38;5;28;01mNone\u001B[39;00m\n\u001B[0;32m    923\u001B[0m \u001B[38;5;28;01mtry\u001B[39;00m:\n\u001B[1;32m--> 924\u001B[0m     guarded_code \u001B[38;5;241m=\u001B[39m \u001B[43mcompile_inner\u001B[49m\u001B[43m(\u001B[49m\u001B[43mcode\u001B[49m\u001B[43m,\u001B[49m\u001B[43m \u001B[49m\u001B[43mone_graph\u001B[49m\u001B[43m,\u001B[49m\u001B[43m \u001B[49m\u001B[43mhooks\u001B[49m\u001B[43m,\u001B[49m\u001B[43m \u001B[49m\u001B[43mtransform\u001B[49m\u001B[43m)\u001B[49m\n\u001B[0;32m    925\u001B[0m     \u001B[38;5;28;01mreturn\u001B[39;00m guarded_code\n\u001B[0;32m    926\u001B[0m \u001B[38;5;28;01mexcept\u001B[39;00m \u001B[38;5;167;01mException\u001B[39;00m \u001B[38;5;28;01mas\u001B[39;00m e:\n",
      "File \u001B[1;32mD:\\Anaconda3\\envs\\pytorch\\Lib\\site-packages\\torch\\_dynamo\\convert_frame.py:666\u001B[0m, in \u001B[0;36m_compile.<locals>.compile_inner\u001B[1;34m(code, one_graph, hooks, transform)\u001B[0m\n\u001B[0;32m    664\u001B[0m \u001B[38;5;28;01mwith\u001B[39;00m dynamo_timed(\u001B[38;5;124m\"\u001B[39m\u001B[38;5;124m_compile.compile_inner\u001B[39m\u001B[38;5;124m\"\u001B[39m, phase_name\u001B[38;5;241m=\u001B[39m\u001B[38;5;124m\"\u001B[39m\u001B[38;5;124mentire_frame_compile\u001B[39m\u001B[38;5;124m\"\u001B[39m):\n\u001B[0;32m    665\u001B[0m     \u001B[38;5;28;01mwith\u001B[39;00m CompileTimeInstructionCounter\u001B[38;5;241m.\u001B[39mrecord():\n\u001B[1;32m--> 666\u001B[0m         \u001B[38;5;28;01mreturn\u001B[39;00m \u001B[43m_compile_inner\u001B[49m\u001B[43m(\u001B[49m\u001B[43mcode\u001B[49m\u001B[43m,\u001B[49m\u001B[43m \u001B[49m\u001B[43mone_graph\u001B[49m\u001B[43m,\u001B[49m\u001B[43m \u001B[49m\u001B[43mhooks\u001B[49m\u001B[43m,\u001B[49m\u001B[43m \u001B[49m\u001B[43mtransform\u001B[49m\u001B[43m)\u001B[49m\n",
      "File \u001B[1;32mD:\\Anaconda3\\envs\\pytorch\\Lib\\site-packages\\torch\\_utils_internal.py:87\u001B[0m, in \u001B[0;36mcompile_time_strobelight_meta.<locals>.compile_time_strobelight_meta_inner.<locals>.wrapper_function\u001B[1;34m(*args, **kwargs)\u001B[0m\n\u001B[0;32m     84\u001B[0m     kwargs[\u001B[38;5;124m\"\u001B[39m\u001B[38;5;124mskip\u001B[39m\u001B[38;5;124m\"\u001B[39m] \u001B[38;5;241m=\u001B[39m kwargs[\u001B[38;5;124m\"\u001B[39m\u001B[38;5;124mskip\u001B[39m\u001B[38;5;124m\"\u001B[39m] \u001B[38;5;241m+\u001B[39m \u001B[38;5;241m1\u001B[39m\n\u001B[0;32m     86\u001B[0m \u001B[38;5;28;01mif\u001B[39;00m \u001B[38;5;129;01mnot\u001B[39;00m StrobelightCompileTimeProfiler\u001B[38;5;241m.\u001B[39menabled:\n\u001B[1;32m---> 87\u001B[0m     \u001B[38;5;28;01mreturn\u001B[39;00m \u001B[43mfunction\u001B[49m\u001B[43m(\u001B[49m\u001B[38;5;241;43m*\u001B[39;49m\u001B[43margs\u001B[49m\u001B[43m,\u001B[49m\u001B[43m \u001B[49m\u001B[38;5;241;43m*\u001B[39;49m\u001B[38;5;241;43m*\u001B[39;49m\u001B[43mkwargs\u001B[49m\u001B[43m)\u001B[49m\n\u001B[0;32m     89\u001B[0m \u001B[38;5;28;01mreturn\u001B[39;00m StrobelightCompileTimeProfiler\u001B[38;5;241m.\u001B[39mprofile_compile_time(\n\u001B[0;32m     90\u001B[0m     function, phase_name, \u001B[38;5;241m*\u001B[39margs, \u001B[38;5;241m*\u001B[39m\u001B[38;5;241m*\u001B[39mkwargs\n\u001B[0;32m     91\u001B[0m )\n",
      "File \u001B[1;32mD:\\Anaconda3\\envs\\pytorch\\Lib\\site-packages\\torch\\_dynamo\\convert_frame.py:699\u001B[0m, in \u001B[0;36m_compile.<locals>._compile_inner\u001B[1;34m(code, one_graph, hooks, transform)\u001B[0m\n\u001B[0;32m    697\u001B[0m CompileContext\u001B[38;5;241m.\u001B[39mget()\u001B[38;5;241m.\u001B[39mattempt \u001B[38;5;241m=\u001B[39m attempt\n\u001B[0;32m    698\u001B[0m \u001B[38;5;28;01mtry\u001B[39;00m:\n\u001B[1;32m--> 699\u001B[0m     out_code \u001B[38;5;241m=\u001B[39m \u001B[43mtransform_code_object\u001B[49m\u001B[43m(\u001B[49m\u001B[43mcode\u001B[49m\u001B[43m,\u001B[49m\u001B[43m \u001B[49m\u001B[43mtransform\u001B[49m\u001B[43m)\u001B[49m\n\u001B[0;32m    700\u001B[0m     \u001B[38;5;28;01mbreak\u001B[39;00m\n\u001B[0;32m    701\u001B[0m \u001B[38;5;28;01mexcept\u001B[39;00m exc\u001B[38;5;241m.\u001B[39mRestartAnalysis \u001B[38;5;28;01mas\u001B[39;00m e:\n",
      "File \u001B[1;32mD:\\Anaconda3\\envs\\pytorch\\Lib\\site-packages\\torch\\_dynamo\\bytecode_transformation.py:1322\u001B[0m, in \u001B[0;36mtransform_code_object\u001B[1;34m(code, transformations, safe)\u001B[0m\n\u001B[0;32m   1319\u001B[0m instructions \u001B[38;5;241m=\u001B[39m cleaned_instructions(code, safe)\n\u001B[0;32m   1320\u001B[0m propagate_line_nums(instructions)\n\u001B[1;32m-> 1322\u001B[0m \u001B[43mtransformations\u001B[49m\u001B[43m(\u001B[49m\u001B[43minstructions\u001B[49m\u001B[43m,\u001B[49m\u001B[43m \u001B[49m\u001B[43mcode_options\u001B[49m\u001B[43m)\u001B[49m\n\u001B[0;32m   1323\u001B[0m \u001B[38;5;28;01mreturn\u001B[39;00m clean_and_assemble_instructions(instructions, keys, code_options)[\u001B[38;5;241m1\u001B[39m]\n",
      "File \u001B[1;32mD:\\Anaconda3\\envs\\pytorch\\Lib\\site-packages\\torch\\_dynamo\\convert_frame.py:219\u001B[0m, in \u001B[0;36mpreserve_global_state.<locals>._fn\u001B[1;34m(*args, **kwargs)\u001B[0m\n\u001B[0;32m    215\u001B[0m exit_stack\u001B[38;5;241m.\u001B[39menter_context(\n\u001B[0;32m    216\u001B[0m     torch\u001B[38;5;241m.\u001B[39mfx\u001B[38;5;241m.\u001B[39m_symbolic_trace\u001B[38;5;241m.\u001B[39m_maybe_revert_all_patches()\n\u001B[0;32m    217\u001B[0m )\n\u001B[0;32m    218\u001B[0m \u001B[38;5;28;01mtry\u001B[39;00m:\n\u001B[1;32m--> 219\u001B[0m     \u001B[38;5;28;01mreturn\u001B[39;00m \u001B[43mfn\u001B[49m\u001B[43m(\u001B[49m\u001B[38;5;241;43m*\u001B[39;49m\u001B[43margs\u001B[49m\u001B[43m,\u001B[49m\u001B[43m \u001B[49m\u001B[38;5;241;43m*\u001B[39;49m\u001B[38;5;241;43m*\u001B[39;49m\u001B[43mkwargs\u001B[49m\u001B[43m)\u001B[49m\n\u001B[0;32m    220\u001B[0m \u001B[38;5;28;01mfinally\u001B[39;00m:\n\u001B[0;32m    221\u001B[0m     cleanup\u001B[38;5;241m.\u001B[39mclose()\n",
      "File \u001B[1;32mD:\\Anaconda3\\envs\\pytorch\\Lib\\site-packages\\torch\\_dynamo\\convert_frame.py:634\u001B[0m, in \u001B[0;36m_compile.<locals>.transform\u001B[1;34m(instructions, code_options)\u001B[0m\n\u001B[0;32m    632\u001B[0m \u001B[38;5;28;01mtry\u001B[39;00m:\n\u001B[0;32m    633\u001B[0m     \u001B[38;5;28;01mwith\u001B[39;00m tracing(tracer\u001B[38;5;241m.\u001B[39moutput\u001B[38;5;241m.\u001B[39mtracing_context), tracer\u001B[38;5;241m.\u001B[39mset_current_tx():\n\u001B[1;32m--> 634\u001B[0m         \u001B[43mtracer\u001B[49m\u001B[38;5;241;43m.\u001B[39;49m\u001B[43mrun\u001B[49m\u001B[43m(\u001B[49m\u001B[43m)\u001B[49m\n\u001B[0;32m    635\u001B[0m \u001B[38;5;28;01mexcept\u001B[39;00m exc\u001B[38;5;241m.\u001B[39mUnspecializeRestartAnalysis:\n\u001B[0;32m    636\u001B[0m     speculation_log\u001B[38;5;241m.\u001B[39mclear()\n",
      "File \u001B[1;32mD:\\Anaconda3\\envs\\pytorch\\Lib\\site-packages\\torch\\_dynamo\\symbolic_convert.py:2796\u001B[0m, in \u001B[0;36mInstructionTranslator.run\u001B[1;34m(self)\u001B[0m\n\u001B[0;32m   2795\u001B[0m \u001B[38;5;28;01mdef\u001B[39;00m \u001B[38;5;21mrun\u001B[39m(\u001B[38;5;28mself\u001B[39m):\n\u001B[1;32m-> 2796\u001B[0m     \u001B[38;5;28;43msuper\u001B[39;49m\u001B[43m(\u001B[49m\u001B[43m)\u001B[49m\u001B[38;5;241;43m.\u001B[39;49m\u001B[43mrun\u001B[49m\u001B[43m(\u001B[49m\u001B[43m)\u001B[49m\n",
      "File \u001B[1;32mD:\\Anaconda3\\envs\\pytorch\\Lib\\site-packages\\torch\\_dynamo\\symbolic_convert.py:983\u001B[0m, in \u001B[0;36mInstructionTranslatorBase.run\u001B[1;34m(self)\u001B[0m\n\u001B[0;32m    981\u001B[0m \u001B[38;5;28;01mtry\u001B[39;00m:\n\u001B[0;32m    982\u001B[0m     \u001B[38;5;28mself\u001B[39m\u001B[38;5;241m.\u001B[39moutput\u001B[38;5;241m.\u001B[39mpush_tx(\u001B[38;5;28mself\u001B[39m)\n\u001B[1;32m--> 983\u001B[0m     \u001B[38;5;28;01mwhile\u001B[39;00m \u001B[38;5;28;43mself\u001B[39;49m\u001B[38;5;241;43m.\u001B[39;49m\u001B[43mstep\u001B[49m\u001B[43m(\u001B[49m\u001B[43m)\u001B[49m:\n\u001B[0;32m    984\u001B[0m         \u001B[38;5;28;01mpass\u001B[39;00m\n\u001B[0;32m    985\u001B[0m \u001B[38;5;28;01mexcept\u001B[39;00m BackendCompilerFailed:\n",
      "File \u001B[1;32mD:\\Anaconda3\\envs\\pytorch\\Lib\\site-packages\\torch\\_dynamo\\symbolic_convert.py:895\u001B[0m, in \u001B[0;36mInstructionTranslatorBase.step\u001B[1;34m(self)\u001B[0m\n\u001B[0;32m    892\u001B[0m \u001B[38;5;28mself\u001B[39m\u001B[38;5;241m.\u001B[39mupdate_block_stack(inst)\n\u001B[0;32m    894\u001B[0m \u001B[38;5;28;01mtry\u001B[39;00m:\n\u001B[1;32m--> 895\u001B[0m     \u001B[38;5;28;43mself\u001B[39;49m\u001B[38;5;241;43m.\u001B[39;49m\u001B[43mdispatch_table\u001B[49m\u001B[43m[\u001B[49m\u001B[43minst\u001B[49m\u001B[38;5;241;43m.\u001B[39;49m\u001B[43mopcode\u001B[49m\u001B[43m]\u001B[49m\u001B[43m(\u001B[49m\u001B[38;5;28;43mself\u001B[39;49m\u001B[43m,\u001B[49m\u001B[43m \u001B[49m\u001B[43minst\u001B[49m\u001B[43m)\u001B[49m\n\u001B[0;32m    896\u001B[0m     \u001B[38;5;28;01mreturn\u001B[39;00m \u001B[38;5;129;01mnot\u001B[39;00m \u001B[38;5;28mself\u001B[39m\u001B[38;5;241m.\u001B[39moutput\u001B[38;5;241m.\u001B[39mshould_exit\n\u001B[0;32m    897\u001B[0m \u001B[38;5;28;01mexcept\u001B[39;00m exc\u001B[38;5;241m.\u001B[39mObservedException \u001B[38;5;28;01mas\u001B[39;00m e:\n",
      "File \u001B[1;32mD:\\Anaconda3\\envs\\pytorch\\Lib\\site-packages\\torch\\_dynamo\\symbolic_convert.py:2987\u001B[0m, in \u001B[0;36mInstructionTranslator.RETURN_VALUE\u001B[1;34m(self, inst)\u001B[0m\n\u001B[0;32m   2986\u001B[0m \u001B[38;5;28;01mdef\u001B[39;00m \u001B[38;5;21mRETURN_VALUE\u001B[39m(\u001B[38;5;28mself\u001B[39m, inst):\n\u001B[1;32m-> 2987\u001B[0m     \u001B[38;5;28;43mself\u001B[39;49m\u001B[38;5;241;43m.\u001B[39;49m\u001B[43m_return\u001B[49m\u001B[43m(\u001B[49m\u001B[43minst\u001B[49m\u001B[43m)\u001B[49m\n",
      "File \u001B[1;32mD:\\Anaconda3\\envs\\pytorch\\Lib\\site-packages\\torch\\_dynamo\\symbolic_convert.py:2972\u001B[0m, in \u001B[0;36mInstructionTranslator._return\u001B[1;34m(self, inst)\u001B[0m\n\u001B[0;32m   2967\u001B[0m _step_logger()(\n\u001B[0;32m   2968\u001B[0m     logging\u001B[38;5;241m.\u001B[39mINFO,\n\u001B[0;32m   2969\u001B[0m     \u001B[38;5;124mf\u001B[39m\u001B[38;5;124m\"\u001B[39m\u001B[38;5;124mtorchdynamo done tracing \u001B[39m\u001B[38;5;132;01m{\u001B[39;00m\u001B[38;5;28mself\u001B[39m\u001B[38;5;241m.\u001B[39mf_code\u001B[38;5;241m.\u001B[39mco_name\u001B[38;5;132;01m}\u001B[39;00m\u001B[38;5;124m (\u001B[39m\u001B[38;5;132;01m{\u001B[39;00minst\u001B[38;5;241m.\u001B[39mopname\u001B[38;5;132;01m}\u001B[39;00m\u001B[38;5;124m)\u001B[39m\u001B[38;5;124m\"\u001B[39m,\n\u001B[0;32m   2970\u001B[0m )\n\u001B[0;32m   2971\u001B[0m log\u001B[38;5;241m.\u001B[39mdebug(\u001B[38;5;124m\"\u001B[39m\u001B[38;5;132;01m%s\u001B[39;00m\u001B[38;5;124m triggered compile\u001B[39m\u001B[38;5;124m\"\u001B[39m, inst\u001B[38;5;241m.\u001B[39mopname)\n\u001B[1;32m-> 2972\u001B[0m \u001B[38;5;28;43mself\u001B[39;49m\u001B[38;5;241;43m.\u001B[39;49m\u001B[43moutput\u001B[49m\u001B[38;5;241;43m.\u001B[39;49m\u001B[43mcompile_subgraph\u001B[49m\u001B[43m(\u001B[49m\n\u001B[0;32m   2973\u001B[0m \u001B[43m    \u001B[49m\u001B[38;5;28;43mself\u001B[39;49m\u001B[43m,\u001B[49m\n\u001B[0;32m   2974\u001B[0m \u001B[43m    \u001B[49m\u001B[43mreason\u001B[49m\u001B[38;5;241;43m=\u001B[39;49m\u001B[43mGraphCompileReason\u001B[49m\u001B[43m(\u001B[49m\n\u001B[0;32m   2975\u001B[0m \u001B[43m        \u001B[49m\u001B[38;5;124;43m\"\u001B[39;49m\u001B[38;5;124;43mreturn_value\u001B[39;49m\u001B[38;5;124;43m\"\u001B[39;49m\u001B[43m,\u001B[49m\u001B[43m \u001B[49m\u001B[43m[\u001B[49m\u001B[38;5;28;43mself\u001B[39;49m\u001B[38;5;241;43m.\u001B[39;49m\u001B[43mframe_summary\u001B[49m\u001B[43m(\u001B[49m\u001B[43m)\u001B[49m\u001B[43m]\u001B[49m\u001B[43m,\u001B[49m\u001B[43m \u001B[49m\u001B[43mgraph_break\u001B[49m\u001B[38;5;241;43m=\u001B[39;49m\u001B[38;5;28;43;01mFalse\u001B[39;49;00m\n\u001B[0;32m   2976\u001B[0m \u001B[43m    \u001B[49m\u001B[43m)\u001B[49m\u001B[43m,\u001B[49m\n\u001B[0;32m   2977\u001B[0m \u001B[43m\u001B[49m\u001B[43m)\u001B[49m\n\u001B[0;32m   2978\u001B[0m return_inst \u001B[38;5;241m=\u001B[39m (\n\u001B[0;32m   2979\u001B[0m     create_instruction(\u001B[38;5;124m\"\u001B[39m\u001B[38;5;124mRETURN_VALUE\u001B[39m\u001B[38;5;124m\"\u001B[39m)\n\u001B[0;32m   2980\u001B[0m     \u001B[38;5;28;01mif\u001B[39;00m inst\u001B[38;5;241m.\u001B[39mopname \u001B[38;5;241m==\u001B[39m \u001B[38;5;124m\"\u001B[39m\u001B[38;5;124mRETURN_VALUE\u001B[39m\u001B[38;5;124m\"\u001B[39m\n\u001B[0;32m   2981\u001B[0m     \u001B[38;5;28;01melse\u001B[39;00m create_instruction(\u001B[38;5;124m\"\u001B[39m\u001B[38;5;124mRETURN_CONST\u001B[39m\u001B[38;5;124m\"\u001B[39m, argval\u001B[38;5;241m=\u001B[39minst\u001B[38;5;241m.\u001B[39margval)\n\u001B[0;32m   2982\u001B[0m )\n\u001B[0;32m   2983\u001B[0m \u001B[38;5;28mself\u001B[39m\u001B[38;5;241m.\u001B[39moutput\u001B[38;5;241m.\u001B[39madd_output_instructions([return_inst])\n",
      "File \u001B[1;32mD:\\Anaconda3\\envs\\pytorch\\Lib\\site-packages\\torch\\_dynamo\\output_graph.py:1117\u001B[0m, in \u001B[0;36mOutputGraph.compile_subgraph\u001B[1;34m(self, tx, partial_convert, reason)\u001B[0m\n\u001B[0;32m   1114\u001B[0m append_prefix_insts()\n\u001B[0;32m   1115\u001B[0m \u001B[38;5;66;03m# optimization to generate better code in a common case\u001B[39;00m\n\u001B[0;32m   1116\u001B[0m \u001B[38;5;28mself\u001B[39m\u001B[38;5;241m.\u001B[39madd_output_instructions(\n\u001B[1;32m-> 1117\u001B[0m     \u001B[38;5;28;43mself\u001B[39;49m\u001B[38;5;241;43m.\u001B[39;49m\u001B[43mcompile_and_call_fx_graph\u001B[49m\u001B[43m(\u001B[49m\u001B[43mtx\u001B[49m\u001B[43m,\u001B[49m\u001B[43m \u001B[49m\u001B[38;5;28;43mlist\u001B[39;49m\u001B[43m(\u001B[49m\u001B[38;5;28;43mreversed\u001B[39;49m\u001B[43m(\u001B[49m\u001B[43mstack_values\u001B[49m\u001B[43m)\u001B[49m\u001B[43m)\u001B[49m\u001B[43m,\u001B[49m\u001B[43m \u001B[49m\u001B[43mroot\u001B[49m\u001B[43m)\u001B[49m\n\u001B[0;32m   1118\u001B[0m     \u001B[38;5;241m+\u001B[39m [create_instruction(\u001B[38;5;124m\"\u001B[39m\u001B[38;5;124mUNPACK_SEQUENCE\u001B[39m\u001B[38;5;124m\"\u001B[39m, arg\u001B[38;5;241m=\u001B[39m\u001B[38;5;28mlen\u001B[39m(stack_values))]\n\u001B[0;32m   1119\u001B[0m )\n\u001B[0;32m   1120\u001B[0m \u001B[38;5;66;03m# restore all the live local vars\u001B[39;00m\n\u001B[0;32m   1121\u001B[0m \u001B[38;5;28mself\u001B[39m\u001B[38;5;241m.\u001B[39madd_output_instructions(\n\u001B[0;32m   1122\u001B[0m     [PyCodegen(tx)\u001B[38;5;241m.\u001B[39mcreate_store(var) \u001B[38;5;28;01mfor\u001B[39;00m var \u001B[38;5;129;01min\u001B[39;00m \u001B[38;5;28mreversed\u001B[39m(restore_vars)]\n\u001B[0;32m   1123\u001B[0m )\n",
      "File \u001B[1;32mD:\\Anaconda3\\envs\\pytorch\\Lib\\site-packages\\torch\\_dynamo\\output_graph.py:1369\u001B[0m, in \u001B[0;36mOutputGraph.compile_and_call_fx_graph\u001B[1;34m(self, tx, rv, root)\u001B[0m\n\u001B[0;32m   1366\u001B[0m     \u001B[38;5;28mself\u001B[39m\u001B[38;5;241m.\u001B[39mtracing_context\u001B[38;5;241m.\u001B[39mfake_mode \u001B[38;5;241m=\u001B[39m backend_fake_mode\n\u001B[0;32m   1368\u001B[0m \u001B[38;5;28;01mwith\u001B[39;00m \u001B[38;5;28mself\u001B[39m\u001B[38;5;241m.\u001B[39mrestore_global_state():\n\u001B[1;32m-> 1369\u001B[0m     compiled_fn \u001B[38;5;241m=\u001B[39m \u001B[38;5;28;43mself\u001B[39;49m\u001B[38;5;241;43m.\u001B[39;49m\u001B[43mcall_user_compiler\u001B[49m\u001B[43m(\u001B[49m\u001B[43mgm\u001B[49m\u001B[43m)\u001B[49m\n\u001B[0;32m   1371\u001B[0m \u001B[38;5;28;01mfrom\u001B[39;00m \u001B[38;5;21;01mtorch\u001B[39;00m\u001B[38;5;21;01m.\u001B[39;00m\u001B[38;5;21;01mfx\u001B[39;00m\u001B[38;5;21;01m.\u001B[39;00m\u001B[38;5;21;01m_lazy_graph_module\u001B[39;00m \u001B[38;5;28;01mimport\u001B[39;00m _LazyGraphModule\n\u001B[0;32m   1373\u001B[0m \u001B[38;5;28;01mif\u001B[39;00m \u001B[38;5;28misinstance\u001B[39m(compiled_fn, _LazyGraphModule) \u001B[38;5;129;01mor\u001B[39;00m (\n\u001B[0;32m   1374\u001B[0m     \u001B[38;5;28misinstance\u001B[39m(\u001B[38;5;28mgetattr\u001B[39m(compiled_fn, \u001B[38;5;124m\"\u001B[39m\u001B[38;5;124m__self__\u001B[39m\u001B[38;5;124m\"\u001B[39m, \u001B[38;5;28;01mNone\u001B[39;00m), _LazyGraphModule)\n\u001B[0;32m   1375\u001B[0m     \u001B[38;5;129;01mand\u001B[39;00m compiled_fn\u001B[38;5;241m.\u001B[39m\u001B[38;5;18m__name__\u001B[39m \u001B[38;5;241m==\u001B[39m \u001B[38;5;124m\"\u001B[39m\u001B[38;5;124m_lazy_forward\u001B[39m\u001B[38;5;124m\"\u001B[39m  \u001B[38;5;66;03m# type: ignore[attr-defined]\u001B[39;00m\n\u001B[1;32m   (...)\u001B[0m\n\u001B[0;32m   1379\u001B[0m     \u001B[38;5;66;03m# this is a _LazyGraphModule. This makes it easier for dynamo to\u001B[39;00m\n\u001B[0;32m   1380\u001B[0m     \u001B[38;5;66;03m# optimize a _LazyGraphModule.\u001B[39;00m\n",
      "File \u001B[1;32mD:\\Anaconda3\\envs\\pytorch\\Lib\\site-packages\\torch\\_dynamo\\output_graph.py:1416\u001B[0m, in \u001B[0;36mOutputGraph.call_user_compiler\u001B[1;34m(self, gm)\u001B[0m\n\u001B[0;32m   1412\u001B[0m \u001B[38;5;28;01mdef\u001B[39;00m \u001B[38;5;21mcall_user_compiler\u001B[39m(\u001B[38;5;28mself\u001B[39m, gm: fx\u001B[38;5;241m.\u001B[39mGraphModule) \u001B[38;5;241m-\u001B[39m\u001B[38;5;241m>\u001B[39m CompiledFn:\n\u001B[0;32m   1413\u001B[0m     \u001B[38;5;28;01mwith\u001B[39;00m dynamo_timed(\n\u001B[0;32m   1414\u001B[0m         \u001B[38;5;124m\"\u001B[39m\u001B[38;5;124mOutputGraph.call_user_compiler\u001B[39m\u001B[38;5;124m\"\u001B[39m, phase_name\u001B[38;5;241m=\u001B[39m\u001B[38;5;124m\"\u001B[39m\u001B[38;5;124mbackend_compile\u001B[39m\u001B[38;5;124m\"\u001B[39m\n\u001B[0;32m   1415\u001B[0m     ):\n\u001B[1;32m-> 1416\u001B[0m         \u001B[38;5;28;01mreturn\u001B[39;00m \u001B[38;5;28;43mself\u001B[39;49m\u001B[38;5;241;43m.\u001B[39;49m\u001B[43m_call_user_compiler\u001B[49m\u001B[43m(\u001B[49m\u001B[43mgm\u001B[49m\u001B[43m)\u001B[49m\n",
      "File \u001B[1;32mD:\\Anaconda3\\envs\\pytorch\\Lib\\site-packages\\torch\\_dynamo\\output_graph.py:1465\u001B[0m, in \u001B[0;36mOutputGraph._call_user_compiler\u001B[1;34m(self, gm)\u001B[0m\n\u001B[0;32m   1463\u001B[0m     \u001B[38;5;28;01mraise\u001B[39;00m e\n\u001B[0;32m   1464\u001B[0m \u001B[38;5;28;01mexcept\u001B[39;00m \u001B[38;5;167;01mException\u001B[39;00m \u001B[38;5;28;01mas\u001B[39;00m e:\n\u001B[1;32m-> 1465\u001B[0m     \u001B[38;5;28;01mraise\u001B[39;00m BackendCompilerFailed(\u001B[38;5;28mself\u001B[39m\u001B[38;5;241m.\u001B[39mcompiler_fn, e) \u001B[38;5;28;01mfrom\u001B[39;00m \u001B[38;5;21;01me\u001B[39;00m\n\u001B[0;32m   1467\u001B[0m signpost_event(\n\u001B[0;32m   1468\u001B[0m     \u001B[38;5;124m\"\u001B[39m\u001B[38;5;124mdynamo\u001B[39m\u001B[38;5;124m\"\u001B[39m,\n\u001B[0;32m   1469\u001B[0m     \u001B[38;5;124m\"\u001B[39m\u001B[38;5;124mOutputGraph.call_user_compiler\u001B[39m\u001B[38;5;124m\"\u001B[39m,\n\u001B[1;32m   (...)\u001B[0m\n\u001B[0;32m   1475\u001B[0m     },\n\u001B[0;32m   1476\u001B[0m )\n\u001B[0;32m   1478\u001B[0m \u001B[38;5;28;01mreturn\u001B[39;00m compiled_fn\n",
      "\u001B[1;31mBackendCompilerFailed\u001B[0m: backend='inductor' raised:\nRuntimeError: Cannot find a working triton installation. Either the package is not installed or it is too old. More information on installing Triton can be found at https://github.com/openai/triton\n\nSet TORCH_LOGS=\"+dynamo\" and TORCHDYNAMO_VERBOSE=1 for more information\n\n\nYou can suppress this exception and fall back to eager by setting:\n    import torch._dynamo\n    torch._dynamo.config.suppress_errors = True\n"
     ]
    }
   ],
   "execution_count": 22
  }
 ],
 "metadata": {
  "kernelspec": {
   "display_name": "Python 3",
   "language": "python",
   "name": "python3"
  },
  "language_info": {
   "codemirror_mode": {
    "name": "ipython",
    "version": 2
   },
   "file_extension": ".py",
   "mimetype": "text/x-python",
   "name": "python",
   "nbconvert_exporter": "python",
   "pygments_lexer": "ipython2",
   "version": "2.7.6"
  }
 },
 "nbformat": 4,
 "nbformat_minor": 5
}
