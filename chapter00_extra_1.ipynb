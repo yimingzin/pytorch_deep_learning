{
 "cells": [
  {
   "metadata": {},
   "cell_type": "markdown",
   "source": "### Tensors",
   "id": "53ab2758de74b541"
  },
  {
   "metadata": {
    "ExecuteTime": {
     "end_time": "2024-10-12T06:04:26.761728Z",
     "start_time": "2024-10-12T06:04:23.655237Z"
    }
   },
   "cell_type": "code",
   "source": [
    "import torch\n",
    "import numpy as np"
   ],
   "id": "30563ba3d7c2081c",
   "outputs": [],
   "execution_count": 2
  },
  {
   "metadata": {},
   "cell_type": "markdown",
   "source": "#### Initializing A Tensor",
   "id": "1b65fe623d1b00bd"
  },
  {
   "metadata": {
    "ExecuteTime": {
     "end_time": "2024-10-11T13:36:46.330432Z",
     "start_time": "2024-10-11T13:36:46.324979Z"
    }
   },
   "cell_type": "code",
   "source": [
    "# Directly from data\n",
    "data = [[1, 2], [3, 4]]\n",
    "x_data = torch.tensor(data)\n",
    "x_data"
   ],
   "id": "9264c31d8aec9bce",
   "outputs": [
    {
     "data": {
      "text/plain": [
       "tensor([[1, 2],\n",
       "        [3, 4]])"
      ]
     },
     "execution_count": 2,
     "metadata": {},
     "output_type": "execute_result"
    }
   ],
   "execution_count": 2
  },
  {
   "metadata": {
    "ExecuteTime": {
     "end_time": "2024-10-11T13:38:19.328726Z",
     "start_time": "2024-10-11T13:38:19.324686Z"
    }
   },
   "cell_type": "code",
   "source": [
    "# From a Numpy array\n",
    "np_array = np.array(data)\n",
    "x_np = torch.from_numpy(np_array)\n",
    "x_np"
   ],
   "id": "cc4ca19b6e344569",
   "outputs": [
    {
     "data": {
      "text/plain": [
       "tensor([[1, 2],\n",
       "        [3, 4]], dtype=torch.int32)"
      ]
     },
     "execution_count": 3,
     "metadata": {},
     "output_type": "execute_result"
    }
   ],
   "execution_count": 3
  },
  {
   "metadata": {
    "ExecuteTime": {
     "end_time": "2024-10-11T13:40:15.699621Z",
     "start_time": "2024-10-11T13:40:15.695118Z"
    }
   },
   "cell_type": "code",
   "source": [
    "# From another tensor\n",
    "x_ones = torch.ones_like(x_data)\n",
    "print(f\"Ones Tensor: \\n{x_ones}\\n\")\n",
    "\n",
    "x_rand = torch.rand_like(x_ones, dtype=torch.float)\n",
    "print(f\"Random Tensor: \\n{x_rand}\\n\")"
   ],
   "id": "807bfd153683096f",
   "outputs": [
    {
     "name": "stdout",
     "output_type": "stream",
     "text": [
      "Ones Tensor: \n",
      "tensor([[1, 1],\n",
      "        [1, 1]])\n",
      "\n",
      "Random Tensor: \n",
      "tensor([[0.1308, 0.0307],\n",
      "        [0.9406, 0.9136]])\n",
      "\n"
     ]
    }
   ],
   "execution_count": 6
  },
  {
   "metadata": {
    "ExecuteTime": {
     "end_time": "2024-10-11T13:42:28.224049Z",
     "start_time": "2024-10-11T13:42:28.219369Z"
    }
   },
   "cell_type": "code",
   "source": [
    "# With random or constant values\n",
    "shape = (2, 3, )\n",
    "\n",
    "rand_tensor = torch.rand(shape)\n",
    "ones_tensor = torch.ones(shape)\n",
    "zeros_tensor = torch.zeros(shape)\n",
    "\n",
    "print(f\"Random Tensor: \\n{rand_tensor}\")\n",
    "print(f\"Ones Tensor: \\n{ones_tensor}\")\n",
    "print(f\"Zeros Tensor: \\n{zeros_tensor}\")"
   ],
   "id": "12923b082d7efcc6",
   "outputs": [
    {
     "name": "stdout",
     "output_type": "stream",
     "text": [
      "Random Tensor: \n",
      "tensor([[0.2536, 0.5812, 0.2353],\n",
      "        [0.5091, 0.0852, 0.6373]])\n",
      "Ones Tensor: \n",
      "tensor([[1., 1., 1.],\n",
      "        [1., 1., 1.]])\n",
      "Zeros Tensor: \n",
      "tensor([[0., 0., 0.],\n",
      "        [0., 0., 0.]])\n"
     ]
    }
   ],
   "execution_count": 7
  },
  {
   "metadata": {},
   "cell_type": "markdown",
   "source": "#### Attributes of a Tensor",
   "id": "f8bdcf0a6c30aa30"
  },
  {
   "metadata": {
    "ExecuteTime": {
     "end_time": "2024-10-11T13:44:33.021675Z",
     "start_time": "2024-10-11T13:44:33.018209Z"
    }
   },
   "cell_type": "code",
   "source": [
    "tensor = torch.rand((3, 4))\n",
    "print(f\"Shape of tensor: {tensor.shape}\")\n",
    "print(f\"DataType of tensor: {tensor.dtype}\")\n",
    "print(f\"Device of tensor: {tensor.device}\")"
   ],
   "id": "f9746d9f106775e0",
   "outputs": [
    {
     "name": "stdout",
     "output_type": "stream",
     "text": [
      "Shape of tensor: torch.Size([3, 4])\n",
      "DataType of tensor: torch.float32\n",
      "Device of tensor: cpu\n"
     ]
    }
   ],
   "execution_count": 8
  },
  {
   "metadata": {},
   "cell_type": "markdown",
   "source": "#### Operations on Tensors",
   "id": "6ac62eef151c80eb"
  },
  {
   "metadata": {
    "ExecuteTime": {
     "end_time": "2024-10-11T13:46:25.567028Z",
     "start_time": "2024-10-11T13:46:25.431892Z"
    }
   },
   "cell_type": "code",
   "source": [
    "# We move out tensor to the GPU if available\n",
    "if torch.cuda.is_available():\n",
    "    tensor = tensor.to(\"cuda\")"
   ],
   "id": "8cc298a5fe8026ca",
   "outputs": [],
   "execution_count": 9
  },
  {
   "metadata": {
    "ExecuteTime": {
     "end_time": "2024-10-12T06:04:30.240653Z",
     "start_time": "2024-10-12T06:04:30.181406Z"
    }
   },
   "cell_type": "code",
   "source": [
    "tensor = torch.ones((4, 4))\n",
    "print(f\"First row: {tensor[0]}\")\n",
    "print(f\"First column: {tensor[:, 0]}\")\n",
    "\n",
    "# torch.ones((3, 4, 5)) => tensor[..., -1] = tensor[:, :, -1]\n",
    "print(f\"Last column: {tensor[..., -1]}\")\n",
    "\n",
    "tensor[:, 1] = 0\n",
    "print(tensor)"
   ],
   "id": "5258438e35ffa49a",
   "outputs": [
    {
     "name": "stdout",
     "output_type": "stream",
     "text": [
      "First row: tensor([1., 1., 1., 1.])\n",
      "First column: tensor([1., 1., 1., 1.])\n",
      "Last column: tensor([1., 1., 1., 1.])\n",
      "tensor([[1., 0., 1., 1.],\n",
      "        [1., 0., 1., 1.],\n",
      "        [1., 0., 1., 1.],\n",
      "        [1., 0., 1., 1.]])\n"
     ]
    }
   ],
   "execution_count": 3
  },
  {
   "metadata": {
    "ExecuteTime": {
     "end_time": "2024-10-11T13:54:16.869513Z",
     "start_time": "2024-10-11T13:54:16.865679Z"
    }
   },
   "cell_type": "code",
   "source": [
    "# joining tensors\n",
    "t1 = torch.cat([tensor, tensor, tensor], dim=1)\n",
    "print(t1)"
   ],
   "id": "e9a40a41da93b85d",
   "outputs": [
    {
     "name": "stdout",
     "output_type": "stream",
     "text": [
      "tensor([[1., 0., 1., 1., 1., 0., 1., 1., 1., 0., 1., 1.],\n",
      "        [1., 0., 1., 1., 1., 0., 1., 1., 1., 0., 1., 1.],\n",
      "        [1., 0., 1., 1., 1., 0., 1., 1., 1., 0., 1., 1.],\n",
      "        [1., 0., 1., 1., 1., 0., 1., 1., 1., 0., 1., 1.]])\n"
     ]
    }
   ],
   "execution_count": 11
  },
  {
   "metadata": {
    "ExecuteTime": {
     "end_time": "2024-10-11T13:58:54.915321Z",
     "start_time": "2024-10-11T13:58:54.909746Z"
    }
   },
   "cell_type": "code",
   "source": [
    "# Arithmetic operations\n",
    "\n",
    "y1 = tensor @ tensor.T\n",
    "y2 = torch.mm(tensor, tensor.T)\n",
    "\n",
    "y3 = torch.rand_like(y1)\n",
    "torch.mm(tensor, tensor.T, out=y3)\n",
    "print(y3)\n",
    "\n",
    "# element-wise product\n",
    "z1 = tensor * tensor\n",
    "z2 = tensor.mul(tensor)\n",
    "z3 = torch.rand_like(tensor)\n",
    "torch.mul(tensor, tensor, out=z3)\n",
    "print(z3)"
   ],
   "id": "75cf3a22f0d1d8cd",
   "outputs": [
    {
     "name": "stdout",
     "output_type": "stream",
     "text": [
      "tensor([[3., 3., 3., 3.],\n",
      "        [3., 3., 3., 3.],\n",
      "        [3., 3., 3., 3.],\n",
      "        [3., 3., 3., 3.]])\n",
      "tensor([[1., 0., 1., 1.],\n",
      "        [1., 0., 1., 1.],\n",
      "        [1., 0., 1., 1.],\n",
      "        [1., 0., 1., 1.]])\n"
     ]
    }
   ],
   "execution_count": 13
  },
  {
   "metadata": {
    "ExecuteTime": {
     "end_time": "2024-10-11T14:03:11.237621Z",
     "start_time": "2024-10-11T14:03:11.234388Z"
    }
   },
   "cell_type": "code",
   "source": [
    "# Single-element tensors\n",
    "agg = tensor.sum()\n",
    "agg_item = agg.item()\n",
    "print(agg_item, type(agg_item))"
   ],
   "id": "99ee498396c67532",
   "outputs": [
    {
     "name": "stdout",
     "output_type": "stream",
     "text": [
      "12.0 <class 'float'>\n"
     ]
    }
   ],
   "execution_count": 14
  },
  {
   "metadata": {
    "ExecuteTime": {
     "end_time": "2024-10-12T06:06:02.766204Z",
     "start_time": "2024-10-12T06:06:02.761039Z"
    }
   },
   "cell_type": "code",
   "source": [
    "# in-place operations\n",
    "print(f\"{tensor} \\n\")\n",
    "tensor.add(5)\n",
    "print(tensor)\n",
    "\n",
    "tensor.add_(5)\n",
    "print(tensor)"
   ],
   "id": "2771c778e1fd400f",
   "outputs": [
    {
     "name": "stdout",
     "output_type": "stream",
     "text": [
      "tensor([[1., 0., 1., 1.],\n",
      "        [1., 0., 1., 1.],\n",
      "        [1., 0., 1., 1.],\n",
      "        [1., 0., 1., 1.]]) \n",
      "\n",
      "tensor([[1., 0., 1., 1.],\n",
      "        [1., 0., 1., 1.],\n",
      "        [1., 0., 1., 1.],\n",
      "        [1., 0., 1., 1.]])\n",
      "tensor([[6., 5., 6., 6.],\n",
      "        [6., 5., 6., 6.],\n",
      "        [6., 5., 6., 6.],\n",
      "        [6., 5., 6., 6.]])\n"
     ]
    }
   ],
   "execution_count": 5
  },
  {
   "metadata": {},
   "cell_type": "markdown",
   "source": "#### Bridge with Numpy",
   "id": "a3291e539fd8987d"
  },
  {
   "metadata": {
    "ExecuteTime": {
     "end_time": "2024-10-12T06:08:29.578757Z",
     "start_time": "2024-10-12T06:08:29.573058Z"
    }
   },
   "cell_type": "code",
   "source": [
    "# Tensor to numpy\n",
    "t = torch.ones(5)\n",
    "print(f\"t: {t}\")\n",
    "n = t.numpy()\n",
    "print(f\"n: {n}\")"
   ],
   "id": "b52859f863eea331",
   "outputs": [
    {
     "name": "stdout",
     "output_type": "stream",
     "text": [
      "t: tensor([1., 1., 1., 1., 1.])\n",
      "n: [1. 1. 1. 1. 1.]\n"
     ]
    }
   ],
   "execution_count": 6
  },
  {
   "metadata": {
    "ExecuteTime": {
     "end_time": "2024-10-12T06:09:07.624798Z",
     "start_time": "2024-10-12T06:09:07.620289Z"
    }
   },
   "cell_type": "code",
   "source": [
    "t.add_(1)\n",
    "print(f\"t: {t}\")\n",
    "print(f\"n: {n}\")"
   ],
   "id": "a448664f2ca42f85",
   "outputs": [
    {
     "name": "stdout",
     "output_type": "stream",
     "text": [
      "t: tensor([2., 2., 2., 2., 2.])\n",
      "n: [2. 2. 2. 2. 2.]\n"
     ]
    }
   ],
   "execution_count": 7
  },
  {
   "metadata": {
    "ExecuteTime": {
     "end_time": "2024-10-12T06:10:05.735637Z",
     "start_time": "2024-10-12T06:10:05.730784Z"
    }
   },
   "cell_type": "code",
   "source": [
    "# Numpy array to Tensor\n",
    "n = np.ones(5)\n",
    "t = torch.from_numpy(n)\n",
    "\n",
    "print(f\"n: {n}\")\n",
    "print(f\"t: {t}\")"
   ],
   "id": "400a39c1617367d6",
   "outputs": [
    {
     "name": "stdout",
     "output_type": "stream",
     "text": [
      "n: [1. 1. 1. 1. 1.]\n",
      "t: tensor([1., 1., 1., 1., 1.], dtype=torch.float64)\n"
     ]
    }
   ],
   "execution_count": 8
  },
  {
   "metadata": {
    "ExecuteTime": {
     "end_time": "2024-10-12T06:10:38.573078Z",
     "start_time": "2024-10-12T06:10:38.569427Z"
    }
   },
   "cell_type": "code",
   "source": [
    "np.add(n, 1, out=n)\n",
    "print(f\"t: {t}\")\n",
    "print(f\"n: {n}\")"
   ],
   "id": "10a2efe52641a049",
   "outputs": [
    {
     "name": "stdout",
     "output_type": "stream",
     "text": [
      "t: tensor([2., 2., 2., 2., 2.], dtype=torch.float64)\n",
      "n: [2. 2. 2. 2. 2.]\n"
     ]
    }
   ],
   "execution_count": 9
  }
 ],
 "metadata": {
  "kernelspec": {
   "display_name": "Python 3",
   "language": "python",
   "name": "python3"
  },
  "language_info": {
   "codemirror_mode": {
    "name": "ipython",
    "version": 2
   },
   "file_extension": ".py",
   "mimetype": "text/x-python",
   "name": "python",
   "nbconvert_exporter": "python",
   "pygments_lexer": "ipython2",
   "version": "2.7.6"
  }
 },
 "nbformat": 4,
 "nbformat_minor": 5
}
