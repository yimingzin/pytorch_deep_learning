{
 "cells": [
  {
   "metadata": {},
   "cell_type": "markdown",
   "source": "Import what we all need package",
   "id": "a1ae3aab7fab97f1"
  },
  {
   "metadata": {
    "ExecuteTime": {
     "end_time": "2024-10-15T13:39:02.642501Z",
     "start_time": "2024-10-15T13:39:00.743407Z"
    }
   },
   "cell_type": "code",
   "source": [
    "import torch\n",
    "from torch import nn\n",
    "import matplotlib.pyplot as plt\n",
    "\n",
    "print(torch.__version__)"
   ],
   "id": "initial_id",
   "outputs": [
    {
     "name": "stdout",
     "output_type": "stream",
     "text": [
      "2.3.1+cu121\n"
     ]
    }
   ],
   "execution_count": 1
  },
  {
   "metadata": {},
   "cell_type": "markdown",
   "source": "### 1.Data (preparing and loading)",
   "id": "654007c0865f8d13"
  },
  {
   "metadata": {
    "ExecuteTime": {
     "end_time": "2024-10-15T13:39:04.709330Z",
     "start_time": "2024-10-15T13:39:04.703180Z"
    }
   },
   "cell_type": "code",
   "source": [
    "# Create \"known\" parameters\n",
    "weight = 0.7\n",
    "bias = 0.3\n",
    "\n",
    "# Create data\n",
    "start = 0\n",
    "end = 1\n",
    "step = 0.02\n",
    "X = torch.arange(start = start, end = end, step = step).unsqueeze(dim=1) # Shape torch.Size([50, 1])\n",
    "y = weight * X + bias\n",
    "\n",
    "print(X[:10])\n",
    "print(y[:10])"
   ],
   "id": "45beeb8e279c825b",
   "outputs": [
    {
     "name": "stdout",
     "output_type": "stream",
     "text": [
      "tensor([[0.0000],\n",
      "        [0.0200],\n",
      "        [0.0400],\n",
      "        [0.0600],\n",
      "        [0.0800],\n",
      "        [0.1000],\n",
      "        [0.1200],\n",
      "        [0.1400],\n",
      "        [0.1600],\n",
      "        [0.1800]])\n",
      "tensor([[0.3000],\n",
      "        [0.3140],\n",
      "        [0.3280],\n",
      "        [0.3420],\n",
      "        [0.3560],\n",
      "        [0.3700],\n",
      "        [0.3840],\n",
      "        [0.3980],\n",
      "        [0.4120],\n",
      "        [0.4260]])\n"
     ]
    }
   ],
   "execution_count": 2
  },
  {
   "metadata": {},
   "cell_type": "markdown",
   "source": [
    "#### split data into training and test sets  \n",
    "\n",
    "   - Training set ~60-80%\n",
    "   - Validation set ~10-20%\n",
    "   - Testing set ~10-20%"
   ],
   "id": "6d978faf9c6ee65a"
  },
  {
   "metadata": {
    "ExecuteTime": {
     "end_time": "2024-10-15T13:39:07.368598Z",
     "start_time": "2024-10-15T13:39:07.363419Z"
    }
   },
   "cell_type": "code",
   "source": [
    "train_split = int(0.8 * len(X))\n",
    "X_train, y_train = X[:train_split], y[:train_split]\n",
    "X_test, y_test = X[train_split:], y[train_split:]\n",
    "\n",
    "len(X_train), len(y_train), len(X_test), len(y_test)"
   ],
   "id": "11f3f79e83eb00f",
   "outputs": [
    {
     "data": {
      "text/plain": [
       "(40, 40, 10, 10)"
      ]
     },
     "execution_count": 3,
     "metadata": {},
     "output_type": "execute_result"
    }
   ],
   "execution_count": 3
  },
  {
   "metadata": {
    "ExecuteTime": {
     "end_time": "2024-10-16T06:34:41.049360Z",
     "start_time": "2024-10-16T06:34:41.045301Z"
    }
   },
   "cell_type": "code",
   "source": [
    "def plot_prediction(\n",
    "    train_data = X_train,\n",
    "    train_labels = y_train,\n",
    "    test_data = X_test,\n",
    "    test_labels = y_test,\n",
    "    predictions = None\n",
    "):\n",
    "    plt.figure(figsize=(10, 7))\n",
    "    \n",
    "    # Plot training data in blue\n",
    "    plt.scatter(train_data, train_labels, c = \"b\", s = 4, label = \"Training data\")\n",
    "    \n",
    "    # Plot test data in green\n",
    "    plt.scatter(test_data, test_labels, c=\"g\", s = 4, label = \"Testing data\")\n",
    "    \n",
    "    if predictions is not None:\n",
    "        # Plot the predictions in red (predictions were made on the test data)\n",
    "        plt.scatter(test_data, predictions, c = \"r\", s = 4, label=\"Predictions\")\n",
    "    \n",
    "    plt.legend(prop = {\"size\": 14})"
   ],
   "id": "c73ebe11a010e2a0",
   "outputs": [],
   "execution_count": 7
  },
  {
   "metadata": {
    "ExecuteTime": {
     "end_time": "2024-10-15T13:39:11.339211Z",
     "start_time": "2024-10-15T13:39:11.156328Z"
    }
   },
   "cell_type": "code",
   "source": "plot_prediction()",
   "id": "8b554c73b32f6429",
   "outputs": [
    {
     "data": {
      "text/plain": [
       "<Figure size 1000x700 with 1 Axes>"
      ],
      "image/png": "[encoded data removed]"
     },
     "metadata": {},
     "output_type": "display_data"
    }
   ],
   "execution_count": 5
  },
  {
   "metadata": {},
   "cell_type": "markdown",
   "source": "### 2. Build model",
   "id": "cabb0bfd21b6d71f"
  },
  {
   "metadata": {
    "ExecuteTime": {
     "end_time": "2024-10-15T13:39:13.864013Z",
     "start_time": "2024-10-15T13:39:13.861289Z"
    }
   },
   "cell_type": "code",
   "source": [
    "class LinearRegressionModel(nn.Module):\n",
    "    def __init__(self):\n",
    "        super().__init__()\n",
    "        \n",
    "        self.weights = nn.Parameter(torch.randn(1, dtype=torch.float), requires_grad=True)\n",
    "        self.bias = nn.Parameter(torch.randn(1, dtype=torch.float), requires_grad=True)\n",
    "    \n",
    "    def forward(self, x):\n",
    "        \n",
    "        y = self.weights * x + self.bias\n",
    "        return y"
   ],
   "id": "d71d69d903ee99f3",
   "outputs": [],
   "execution_count": 6
  },
  {
   "metadata": {},
   "cell_type": "markdown",
   "source": "#### Checking the contents of a Pytorch model",
   "id": "a9727c5f6f39db3e"
  },
  {
   "metadata": {
    "ExecuteTime": {
     "end_time": "2024-10-15T13:39:16.026383Z",
     "start_time": "2024-10-15T13:39:16.019256Z"
    }
   },
   "cell_type": "code",
   "source": [
    "torch.manual_seed(42)\n",
    "model_0 = LinearRegressionModel()\n",
    "list(model_0.parameters())"
   ],
   "id": "1401684c45cb075d",
   "outputs": [
    {
     "data": {
      "text/plain": [
       "[Parameter containing:\n",
       " tensor([0.3367], requires_grad=True),\n",
       " Parameter containing:\n",
       " tensor([0.1288], requires_grad=True)]"
      ]
     },
     "execution_count": 7,
     "metadata": {},
     "output_type": "execute_result"
    }
   ],
   "execution_count": 7
  },
  {
   "metadata": {
    "ExecuteTime": {
     "end_time": "2024-10-15T13:39:17.559818Z",
     "start_time": "2024-10-15T13:39:17.556214Z"
    }
   },
   "cell_type": "code",
   "source": [
    "# List named parameters\n",
    "model_0.state_dict()"
   ],
   "id": "62b2eb4cef51e844",
   "outputs": [
    {
     "data": {
      "text/plain": [
       "OrderedDict([('weights', tensor([0.3367])), ('bias', tensor([0.1288]))])"
      ]
     },
     "execution_count": 8,
     "metadata": {},
     "output_type": "execute_result"
    }
   ],
   "execution_count": 8
  },
  {
   "metadata": {},
   "cell_type": "markdown",
   "source": "#### Making predictions using `torch.inference_mode()`",
   "id": "f3475517aaeba1dd"
  },
  {
   "metadata": {
    "ExecuteTime": {
     "end_time": "2024-10-15T13:39:19.299435Z",
     "start_time": "2024-10-15T13:39:19.296365Z"
    }
   },
   "cell_type": "code",
   "source": [
    "# Make prediction with model\n",
    "with torch.inference_mode():\n",
    "    y_preds = model_0(X_test)\n",
    "\n",
    "# same as with torch.no_grad():"
   ],
   "id": "18689217dcf1f7f8",
   "outputs": [],
   "execution_count": 9
  },
  {
   "metadata": {
    "ExecuteTime": {
     "end_time": "2024-10-15T13:39:20.846331Z",
     "start_time": "2024-10-15T13:39:20.842905Z"
    }
   },
   "cell_type": "code",
   "source": [
    "print(f\"Number of testing samples : {len(X_test)}\")\n",
    "print(f\"Number of predictions made: {len(y_preds)}\")\n",
    "print(f\"Predicted values: \\n {y_preds}\")"
   ],
   "id": "3c250f5591f05ace",
   "outputs": [
    {
     "name": "stdout",
     "output_type": "stream",
     "text": [
      "Number of testing samples : 10\n",
      "Number of predictions made: 10\n",
      "Predicted values: \n",
      " tensor([[0.3982],\n",
      "        [0.4049],\n",
      "        [0.4116],\n",
      "        [0.4184],\n",
      "        [0.4251],\n",
      "        [0.4318],\n",
      "        [0.4386],\n",
      "        [0.4453],\n",
      "        [0.4520],\n",
      "        [0.4588]])\n"
     ]
    }
   ],
   "execution_count": 10
  },
  {
   "metadata": {},
   "cell_type": "markdown",
   "source": "visualize",
   "id": "4ce2b4da0ecfcc0f"
  },
  {
   "metadata": {
    "ExecuteTime": {
     "end_time": "2024-10-15T13:39:23.631262Z",
     "start_time": "2024-10-15T13:39:23.530632Z"
    }
   },
   "cell_type": "code",
   "source": "plot_prediction(predictions=y_preds)",
   "id": "65cfc18a2a82a7a",
   "outputs": [
    {
     "data": {
      "text/plain": [
       "<Figure size 1000x700 with 1 Axes>"
      ],
      "image/png": "[encoded data removed]"
     },
     "metadata": {},
     "output_type": "display_data"
    }
   ],
   "execution_count": 11
  },
  {
   "metadata": {},
   "cell_type": "markdown",
   "source": "### 3. Train Model",
   "id": "4c1880755527199c"
  },
  {
   "metadata": {
    "ExecuteTime": {
     "end_time": "2024-10-15T13:39:26.718174Z",
     "start_time": "2024-10-15T13:39:25.695074Z"
    }
   },
   "cell_type": "code",
   "source": [
    "# Create the loss function\n",
    "loss_fn = nn.L1Loss()\n",
    "\n",
    "# Create the optimizer\n",
    "optimizer = torch.optim.SGD(params=model_0.parameters(), lr=0.01)"
   ],
   "id": "bcde83a6b4bc9e6a",
   "outputs": [],
   "execution_count": 12
  },
  {
   "metadata": {
    "ExecuteTime": {
     "end_time": "2024-10-15T13:39:28.495044Z",
     "start_time": "2024-10-15T13:39:28.453168Z"
    }
   },
   "cell_type": "code",
   "source": [
    "torch.manual_seed(42)\n",
    "\n",
    "epochs = 100\n",
    "\n",
    "train_loss_values = []\n",
    "test_loss_values = []\n",
    "epoch_count = []\n",
    "\n",
    "for epoch in range(epochs):\n",
    "    \n",
    "    model_0.train()\n",
    "    y_pred = model_0(X_train)\n",
    "    loss = loss_fn(y_pred, y_train)\n",
    "    \n",
    "    optimizer.zero_grad()\n",
    "    loss.backward()\n",
    "    optimizer.step()\n",
    "    \n",
    "    ### Testing\n",
    "    model_0.eval()\n",
    "    with torch.inference_mode():\n",
    "        test_pred = model_0(X_test)\n",
    "        test_loss = loss_fn(test_pred, y_test.type(torch.float))\n",
    "        \n",
    "        if epoch % 10 == 0:\n",
    "            epoch_count.append(epoch)\n",
    "            train_loss_values.append(loss.detach().numpy())\n",
    "            test_loss_values.append(test_loss.detach().numpy())\n",
    "            print(f\"Epoch: {epoch} | MAE Train Loss: {loss} | MAe Test Loss: {test_loss}\")   \n",
    "            "
   ],
   "id": "1e78382d4d50deef",
   "outputs": [
    {
     "name": "stdout",
     "output_type": "stream",
     "text": [
      "Epoch: 0 | MAE Train Loss: 0.31288138031959534 | MAe Test Loss: 0.48106518387794495\n",
      "Epoch: 10 | MAE Train Loss: 0.1976713240146637 | MAe Test Loss: 0.3463551998138428\n",
      "Epoch: 20 | MAE Train Loss: 0.08908725529909134 | MAe Test Loss: 0.21729660034179688\n",
      "Epoch: 30 | MAE Train Loss: 0.053148526698350906 | MAe Test Loss: 0.14464017748832703\n",
      "Epoch: 40 | MAE Train Loss: 0.04543796554207802 | MAe Test Loss: 0.11360953003168106\n",
      "Epoch: 50 | MAE Train Loss: 0.04167863354086876 | MAe Test Loss: 0.09919948130846024\n",
      "Epoch: 60 | MAE Train Loss: 0.03818932920694351 | MAe Test Loss: 0.08886633068323135\n",
      "Epoch: 70 | MAE Train Loss: 0.03476089984178543 | MAe Test Loss: 0.0805937647819519\n",
      "Epoch: 80 | MAE Train Loss: 0.03132382780313492 | MAe Test Loss: 0.07232122868299484\n",
      "Epoch: 90 | MAE Train Loss: 0.02788739837706089 | MAe Test Loss: 0.06473556160926819\n"
     ]
    }
   ],
   "execution_count": 13
  },
  {
   "metadata": {
    "ExecuteTime": {
     "end_time": "2024-10-15T13:39:31.635499Z",
     "start_time": "2024-10-15T13:39:31.548371Z"
    }
   },
   "cell_type": "code",
   "source": [
    "# Plot the loss curves\n",
    "plt.plot(epoch_count, train_loss_values, label = \"Train loss\")\n",
    "plt.plot(epoch_count, test_loss_values, label = \"Test loss\")\n",
    "plt.title(\"Training and test loss curves\")\n",
    "plt.xlabel(\"Loss\")\n",
    "plt.ylabel(\"Epochs\")\n",
    "plt.legend()"
   ],
   "id": "a7814564033ea659",
   "outputs": [
    {
     "data": {
      "text/plain": [
       "<matplotlib.legend.Legend at 0x25a7847b4d0>"
      ]
     },
     "execution_count": 14,
     "metadata": {},
     "output_type": "execute_result"
    },
    {
     "data": {
      "text/plain": [
       "<Figure size 640x480 with 1 Axes>"
      ],
      "image/png": "[encoded data removed]"
     },
     "metadata": {},
     "output_type": "display_data"
    }
   ],
   "execution_count": 14
  },
  {
   "metadata": {
    "ExecuteTime": {
     "end_time": "2024-10-15T13:39:34.055309Z",
     "start_time": "2024-10-15T13:39:34.050745Z"
    }
   },
   "cell_type": "code",
   "source": [
    "# Find our model's learned parameters\n",
    "print(\"The model learned the following values for weights and bias :\")\n",
    "print(model_0.state_dict())\n",
    "print(\"\\nAnd the original values for weights and bias are:\")\n",
    "print(f\"Weights: {weight}, bias: {bias}\")"
   ],
   "id": "b455c955c67831bc",
   "outputs": [
    {
     "name": "stdout",
     "output_type": "stream",
     "text": [
      "The model learned the following values for weights and bias :\n",
      "OrderedDict([('weights', tensor([0.5784])), ('bias', tensor([0.3513]))])\n",
      "\n",
      "And the original values for weights and bias are:\n",
      "Weights: 0.7, bias: 0.3\n"
     ]
    }
   ],
   "execution_count": 15
  },
  {
   "metadata": {},
   "cell_type": "markdown",
   "source": "### 4. Making predictions with a trained PyTorch model (inference)",
   "id": "96d0093f7a2b4ca7"
  },
  {
   "metadata": {
    "ExecuteTime": {
     "end_time": "2024-10-15T13:39:36.727651Z",
     "start_time": "2024-10-15T13:39:36.723990Z"
    }
   },
   "cell_type": "code",
   "source": [
    "model_0.eval()\n",
    "\n",
    "with torch.inference_mode():\n",
    "    y_preds = model_0(X_test)\n",
    "    \n",
    "y_preds"
   ],
   "id": "c0ff80ccc402e40b",
   "outputs": [
    {
     "data": {
      "text/plain": [
       "tensor([[0.8141],\n",
       "        [0.8256],\n",
       "        [0.8372],\n",
       "        [0.8488],\n",
       "        [0.8603],\n",
       "        [0.8719],\n",
       "        [0.8835],\n",
       "        [0.8950],\n",
       "        [0.9066],\n",
       "        [0.9182]])"
      ]
     },
     "execution_count": 16,
     "metadata": {},
     "output_type": "execute_result"
    }
   ],
   "execution_count": 16
  },
  {
   "metadata": {
    "ExecuteTime": {
     "end_time": "2024-10-15T13:40:09.306566Z",
     "start_time": "2024-10-15T13:40:09.203957Z"
    }
   },
   "cell_type": "code",
   "source": "plot_prediction(predictions=y_preds)",
   "id": "751709056ed3f215",
   "outputs": [
    {
     "data": {
      "text/plain": [
       "<Figure size 1000x700 with 1 Axes>"
      ],
      "image/png": "[encoded data removed]"
     },
     "metadata": {},
     "output_type": "display_data"
    }
   ],
   "execution_count": 18
  },
  {
   "metadata": {},
   "cell_type": "markdown",
   "source": "### 5. Saving and loading a PyTorch model",
   "id": "317681f15246538e"
  },
  {
   "metadata": {
    "ExecuteTime": {
     "end_time": "2024-10-15T13:48:51.075739Z",
     "start_time": "2024-10-15T13:48:51.071115Z"
    }
   },
   "cell_type": "code",
   "source": [
    "from pathlib import Path\n",
    "\n",
    "# 1. Create models directory\n",
    "MODEL_PATH = Path(\"models\")\n",
    "MODEL_PATH.mkdir(parents=True, exist_ok=True)\n",
    "\n",
    "# 2. Create models save path\n",
    "MODEL_NAME = \"01_pytorch_workflow_model_0.pth\"\n",
    "MODEL_SAVE_PATH = MODEL_PATH / MODEL_NAME\n",
    "\n",
    "# 3. Save the model state dict\n",
    "print(f\"Saving model to : {MODEL_SAVE_PATH}\")\n",
    "torch.save(obj=model_0.state_dict(), f=MODEL_SAVE_PATH)"
   ],
   "id": "1d85b05e4feffc7d",
   "outputs": [
    {
     "name": "stdout",
     "output_type": "stream",
     "text": [
      "Saving model to : models\\01_pytorch_workflow_model_0.pth\n"
     ]
    }
   ],
   "execution_count": 19
  },
  {
   "metadata": {},
   "cell_type": "markdown",
   "source": "#### Load a saved PyTorch model's `state_dict()`",
   "id": "afc10055012e8afa"
  },
  {
   "metadata": {
    "ExecuteTime": {
     "end_time": "2024-10-15T13:56:31.754572Z",
     "start_time": "2024-10-15T13:56:31.749359Z"
    }
   },
   "cell_type": "code",
   "source": [
    "loaded_model_0 = LinearRegressionModel()\n",
    "loaded_model_0.load_state_dict(torch.load(f=MODEL_SAVE_PATH))"
   ],
   "id": "f84ac6b578299f90",
   "outputs": [
    {
     "data": {
      "text/plain": [
       "<All keys matched successfully>"
      ]
     },
     "execution_count": 21,
     "metadata": {},
     "output_type": "execute_result"
    }
   ],
   "execution_count": 21
  },
  {
   "metadata": {
    "ExecuteTime": {
     "end_time": "2024-10-15T13:57:46.024932Z",
     "start_time": "2024-10-15T13:57:46.021640Z"
    }
   },
   "cell_type": "code",
   "source": [
    "loaded_model_0.eval()\n",
    "\n",
    "with torch.inference_mode():\n",
    "    loader_model_preds = loaded_model_0(X_test)\n",
    "    "
   ],
   "id": "5bd64fbcbd586556",
   "outputs": [],
   "execution_count": 23
  },
  {
   "metadata": {
    "ExecuteTime": {
     "end_time": "2024-10-15T13:58:01.720651Z",
     "start_time": "2024-10-15T13:58:01.716816Z"
    }
   },
   "cell_type": "code",
   "source": "y_preds == loader_model_preds",
   "id": "1d09e3bff1003df1",
   "outputs": [
    {
     "data": {
      "text/plain": [
       "tensor([[True],\n",
       "        [True],\n",
       "        [True],\n",
       "        [True],\n",
       "        [True],\n",
       "        [True],\n",
       "        [True],\n",
       "        [True],\n",
       "        [True],\n",
       "        [True]])"
      ]
     },
     "execution_count": 24,
     "metadata": {},
     "output_type": "execute_result"
    }
   ],
   "execution_count": 24
  },
  {
   "metadata": {},
   "cell_type": "markdown",
   "source": "### 6.Putting it all together",
   "id": "7369b24da8a2d79d"
  },
  {
   "metadata": {
    "ExecuteTime": {
     "end_time": "2024-10-16T06:27:17.231520Z",
     "start_time": "2024-10-16T06:27:15.229289Z"
    }
   },
   "cell_type": "code",
   "source": [
    "import torch\n",
    "from torch import nn\n",
    "import matplotlib.pyplot as plt\n",
    "\n",
    "torch.__version__"
   ],
   "id": "be5e2f26b756020b",
   "outputs": [
    {
     "data": {
      "text/plain": [
       "'2.3.1+cu121'"
      ]
     },
     "execution_count": 1,
     "metadata": {},
     "output_type": "execute_result"
    }
   ],
   "execution_count": 1
  },
  {
   "metadata": {
    "ExecuteTime": {
     "end_time": "2024-10-16T06:27:57.591070Z",
     "start_time": "2024-10-16T06:27:57.560449Z"
    }
   },
   "cell_type": "code",
   "source": [
    "device = \"cuda\" if torch.cuda.is_available() else \"cpu\"\n",
    "print(f\"Using device: {device}\")"
   ],
   "id": "7506b7da5352995c",
   "outputs": [
    {
     "name": "stdout",
     "output_type": "stream",
     "text": [
      "Using device: cuda\n"
     ]
    }
   ],
   "execution_count": 2
  },
  {
   "metadata": {
    "ExecuteTime": {
     "end_time": "2024-10-16T06:49:17.180473Z",
     "start_time": "2024-10-16T06:49:17.175272Z"
    }
   },
   "cell_type": "code",
   "source": [
    "# Create weights and bias\n",
    "weight = 0.7\n",
    "bias = 0.3\n",
    "\n",
    "# Create range values\n",
    "start = 0\n",
    "end = 1\n",
    "step = 0.02\n",
    "\n",
    "# Create X and y (features and labels)\n",
    "X = torch.arange(start = start, end = end, step=step).unsqueeze(dim=1)\n",
    "y = weight * X + bias\n",
    "\n",
    "X[:10], y[:10]"
   ],
   "id": "5849cdee621b4711",
   "outputs": [
    {
     "data": {
      "text/plain": [
       "(tensor([[0.0000],\n",
       "         [0.0200],\n",
       "         [0.0400],\n",
       "         [0.0600],\n",
       "         [0.0800],\n",
       "         [0.1000],\n",
       "         [0.1200],\n",
       "         [0.1400],\n",
       "         [0.1600],\n",
       "         [0.1800]]),\n",
       " tensor([[0.3000],\n",
       "         [0.3140],\n",
       "         [0.3280],\n",
       "         [0.3420],\n",
       "         [0.3560],\n",
       "         [0.3700],\n",
       "         [0.3840],\n",
       "         [0.3980],\n",
       "         [0.4120],\n",
       "         [0.4260]]))"
      ]
     },
     "execution_count": 21,
     "metadata": {},
     "output_type": "execute_result"
    }
   ],
   "execution_count": 21
  },
  {
   "metadata": {
    "ExecuteTime": {
     "end_time": "2024-10-16T06:49:19.450158Z",
     "start_time": "2024-10-16T06:49:19.446002Z"
    }
   },
   "cell_type": "code",
   "source": [
    "# split data\n",
    "train_split = int(0.8 * len(X))\n",
    "\n",
    "X_train, y_train = X[:train_split], y[:train_split]\n",
    "X_test, y_test = X[train_split:], y[train_split:]\n",
    "\n",
    "len(X_train), len(y_train), len(X_test), len(y_test)"
   ],
   "id": "f1fa244748e7703b",
   "outputs": [
    {
     "data": {
      "text/plain": [
       "(40, 40, 10, 10)"
      ]
     },
     "execution_count": 22,
     "metadata": {},
     "output_type": "execute_result"
    }
   ],
   "execution_count": 22
  },
  {
   "metadata": {
    "ExecuteTime": {
     "end_time": "2024-10-16T06:49:21.130709Z",
     "start_time": "2024-10-16T06:49:21.034318Z"
    }
   },
   "cell_type": "code",
   "source": "plot_prediction(X_train, y_train, X_test, y_test)",
   "id": "4fb670c7500b6dc1",
   "outputs": [
    {
     "data": {
      "text/plain": [
       "<Figure size 1000x700 with 1 Axes>"
      ],
      "image/png": "[encoded data removed]"
     },
     "metadata": {},
     "output_type": "display_data"
    }
   ],
   "execution_count": 23
  },
  {
   "metadata": {
    "ExecuteTime": {
     "end_time": "2024-10-16T06:49:23.205312Z",
     "start_time": "2024-10-16T06:49:23.198550Z"
    }
   },
   "cell_type": "code",
   "source": [
    "class LinearRegressionModelV2(nn.Module):\n",
    "    def __init__(self):\n",
    "        super().__init__()\n",
    "        self.linear_layer = nn.Linear(in_features=1, out_features=1)\n",
    "    \n",
    "    def forward(self, x):\n",
    "        y = self.linear_layer(x)\n",
    "        return y\n",
    "\n",
    "torch.manual_seed(42)\n",
    "model_1 = LinearRegressionModelV2()\n",
    "model_1, model_1.state_dict()"
   ],
   "id": "26cb91014bd732ff",
   "outputs": [
    {
     "data": {
      "text/plain": [
       "(LinearRegressionModelV2(\n",
       "   (linear_layer): Linear(in_features=1, out_features=1, bias=True)\n",
       " ),\n",
       " OrderedDict([('linear_layer.weight', tensor([[0.7645]])),\n",
       "              ('linear_layer.bias', tensor([0.8300]))]))"
      ]
     },
     "execution_count": 24,
     "metadata": {},
     "output_type": "execute_result"
    }
   ],
   "execution_count": 24
  },
  {
   "metadata": {
    "ExecuteTime": {
     "end_time": "2024-10-16T06:49:25.060133Z",
     "start_time": "2024-10-16T06:49:25.056007Z"
    }
   },
   "cell_type": "code",
   "source": "next(model_1.parameters()).device",
   "id": "23505170457ae3d8",
   "outputs": [
    {
     "data": {
      "text/plain": [
       "device(type='cpu')"
      ]
     },
     "execution_count": 25,
     "metadata": {},
     "output_type": "execute_result"
    }
   ],
   "execution_count": 25
  },
  {
   "metadata": {
    "ExecuteTime": {
     "end_time": "2024-10-16T06:49:26.185936Z",
     "start_time": "2024-10-16T06:49:26.175262Z"
    }
   },
   "cell_type": "code",
   "source": [
    "model_1.to(device)\n",
    "next(model_1.parameters()).device"
   ],
   "id": "4f3c99176e6959a9",
   "outputs": [
    {
     "data": {
      "text/plain": [
       "device(type='cuda', index=0)"
      ]
     },
     "execution_count": 26,
     "metadata": {},
     "output_type": "execute_result"
    }
   ],
   "execution_count": 26
  },
  {
   "metadata": {
    "ExecuteTime": {
     "end_time": "2024-10-16T06:49:27.502605Z",
     "start_time": "2024-10-16T06:49:27.499390Z"
    }
   },
   "cell_type": "code",
   "source": [
    "loss_func = nn.L1Loss()\n",
    "optimizer = torch.optim.SGD(model_1.parameters(), lr=1e-2)"
   ],
   "id": "ec6dca7b066a67b5",
   "outputs": [],
   "execution_count": 27
  },
  {
   "metadata": {
    "ExecuteTime": {
     "end_time": "2024-10-16T06:49:29.528386Z",
     "start_time": "2024-10-16T06:49:28.787953Z"
    }
   },
   "cell_type": "code",
   "source": [
    "torch.manual_seed(42)\n",
    "epochs = 1000\n",
    "\n",
    "X_train = X_train.to(device)\n",
    "y_train = y_train.to(device)\n",
    "X_test = X_test.to(device)\n",
    "y_test = y_test.to(device)\n",
    "\n",
    "for epoch in range(epochs):\n",
    "    model_1.train()\n",
    "    pred = model_1(X_train)\n",
    "    loss = loss_func(pred, y_train)\n",
    "    \n",
    "    optimizer.zero_grad()\n",
    "    loss.backward()\n",
    "    optimizer.step()\n",
    "    \n",
    "    ### Testing\n",
    "    model_1.eval()\n",
    "    with torch.inference_mode():\n",
    "        test_pred = model_1(X_test)\n",
    "        test_loss = loss_func(test_pred, y_test)\n",
    "    \n",
    "    if epoch % 100 == 0:\n",
    "        print(f\"Epoch: {epoch} | Train loss {loss} | Test loss {test_loss}\")\n",
    "    "
   ],
   "id": "29a07c39c37b54fa",
   "outputs": [
    {
     "name": "stdout",
     "output_type": "stream",
     "text": [
      "Epoch: 0 | Train loss 0.5551779866218567 | Test loss 0.5739762187004089\n",
      "Epoch: 100 | Train loss 0.006215683650225401 | Test loss 0.014086711220443249\n",
      "Epoch: 200 | Train loss 0.0012645035749301314 | Test loss 0.013801801018416882\n",
      "Epoch: 300 | Train loss 0.0012645035749301314 | Test loss 0.013801801018416882\n",
      "Epoch: 400 | Train loss 0.0012645035749301314 | Test loss 0.013801801018416882\n",
      "Epoch: 500 | Train loss 0.0012645035749301314 | Test loss 0.013801801018416882\n",
      "Epoch: 600 | Train loss 0.0012645035749301314 | Test loss 0.013801801018416882\n",
      "Epoch: 700 | Train loss 0.0012645035749301314 | Test loss 0.013801801018416882\n",
      "Epoch: 800 | Train loss 0.0012645035749301314 | Test loss 0.013801801018416882\n",
      "Epoch: 900 | Train loss 0.0012645035749301314 | Test loss 0.013801801018416882\n"
     ]
    }
   ],
   "execution_count": 28
  },
  {
   "metadata": {
    "ExecuteTime": {
     "end_time": "2024-10-16T06:51:30.270240Z",
     "start_time": "2024-10-16T06:51:30.251638Z"
    }
   },
   "cell_type": "code",
   "source": [
    "from pprint import pprint\n",
    "print(\"The model learned the following values for weights and bias\")\n",
    "pprint(model_1.state_dict())\n",
    "print(\"\\nAnd the original values for weights and bias are: \")\n",
    "print(f\"weights: {weight}, bias: {bias}\")"
   ],
   "id": "a9eb5fa4509cf1a1",
   "outputs": [
    {
     "name": "stdout",
     "output_type": "stream",
     "text": [
      "The model learned the following values for weights and bias\n",
      "OrderedDict([('linear_layer.weight', tensor([[0.6968]], device='cuda:0')),\n",
      "             ('linear_layer.bias', tensor([0.3025], device='cuda:0'))])\n",
      "\n",
      "And the original values for weights and bias are: \n",
      "weights: 0.7, bias: 0.3\n"
     ]
    }
   ],
   "execution_count": 29
  },
  {
   "metadata": {
    "ExecuteTime": {
     "end_time": "2024-10-16T06:52:12.767117Z",
     "start_time": "2024-10-16T06:52:12.746788Z"
    }
   },
   "cell_type": "code",
   "source": [
    "model_1.eval()\n",
    "with torch.inference_mode():\n",
    "    y_preds = model_1(X_test)\n",
    "\n",
    "y_preds"
   ],
   "id": "9aa571fc46d7144c",
   "outputs": [
    {
     "data": {
      "text/plain": [
       "tensor([[0.8600],\n",
       "        [0.8739],\n",
       "        [0.8878],\n",
       "        [0.9018],\n",
       "        [0.9157],\n",
       "        [0.9296],\n",
       "        [0.9436],\n",
       "        [0.9575],\n",
       "        [0.9714],\n",
       "        [0.9854]], device='cuda:0')"
      ]
     },
     "execution_count": 30,
     "metadata": {},
     "output_type": "execute_result"
    }
   ],
   "execution_count": 30
  },
  {
   "metadata": {
    "ExecuteTime": {
     "end_time": "2024-10-16T06:52:45.715943Z",
     "start_time": "2024-10-16T06:52:45.615077Z"
    }
   },
   "cell_type": "code",
   "source": "plot_prediction(predictions=y_preds.cpu())",
   "id": "2033e53048096300",
   "outputs": [
    {
     "data": {
      "text/plain": [
       "<Figure size 1000x700 with 1 Axes>"
      ],
      "image/png": "[encoded data removed]"
     },
     "metadata": {},
     "output_type": "display_data"
    }
   ],
   "execution_count": 31
  },
  {
   "metadata": {
    "ExecuteTime": {
     "end_time": "2024-10-16T06:56:23.804145Z",
     "start_time": "2024-10-16T06:56:23.799010Z"
    }
   },
   "cell_type": "code",
   "source": [
    "from pathlib import Path\n",
    "\n",
    "# 1.Create models directory\n",
    "MODEL_PATH = Path(\"models\")\n",
    "MODEL_PATH.mkdir(parents=True, exist_ok=True)\n",
    "\n",
    "# 2.Create model save path\n",
    "MODEL_NAME = \"01_pytorch_workflow_model_1.pth\"\n",
    "MODEL_SAVE_PATH = MODEL_PATH / MODEL_NAME\n",
    "\n",
    "# 3.Save the model state dict\n",
    "torch.save(model_1.state_dict(), f=MODEL_SAVE_PATH)\n",
    "print(f\"Saving model to {MODEL_SAVE_PATH}\")"
   ],
   "id": "b7137e633a985c25",
   "outputs": [
    {
     "name": "stdout",
     "output_type": "stream",
     "text": [
      "Saving model to models\\01_pytorch_workflow_model_1.pth\n"
     ]
    }
   ],
   "execution_count": 32
  },
  {
   "metadata": {
    "ExecuteTime": {
     "end_time": "2024-10-16T06:58:09.949540Z",
     "start_time": "2024-10-16T06:58:09.933303Z"
    }
   },
   "cell_type": "code",
   "source": [
    "loaded_model_1 = LinearRegressionModelV2()\n",
    "loaded_model_1.load_state_dict(torch.load(MODEL_SAVE_PATH))\n",
    "loaded_model_1.to(device)\n",
    "\n",
    "print(f\"Loaded model :\\n{loaded_model_1}\")\n",
    "print(f\"Model on device:\\n {next(loaded_model_1.parameters()).device}\")"
   ],
   "id": "fa0e7312e97d9ea9",
   "outputs": [
    {
     "name": "stdout",
     "output_type": "stream",
     "text": [
      "Loaded model :\n",
      "LinearRegressionModelV2(\n",
      "  (linear_layer): Linear(in_features=1, out_features=1, bias=True)\n",
      ")\n",
      "Model on device:\n",
      " cuda:0\n"
     ]
    }
   ],
   "execution_count": 33
  },
  {
   "metadata": {
    "ExecuteTime": {
     "end_time": "2024-10-16T06:59:08.867494Z",
     "start_time": "2024-10-16T06:59:08.860903Z"
    }
   },
   "cell_type": "code",
   "source": [
    "loaded_model_1.eval()\n",
    "with torch.inference_mode():\n",
    "    loaded_model_1_preds = loaded_model_1(X_test)\n",
    "\n",
    "y_preds == loaded_model_1_preds"
   ],
   "id": "ce243e719a0656b8",
   "outputs": [
    {
     "data": {
      "text/plain": [
       "tensor([[True],\n",
       "        [True],\n",
       "        [True],\n",
       "        [True],\n",
       "        [True],\n",
       "        [True],\n",
       "        [True],\n",
       "        [True],\n",
       "        [True],\n",
       "        [True]], device='cuda:0')"
      ]
     },
     "execution_count": 34,
     "metadata": {},
     "output_type": "execute_result"
    }
   ],
   "execution_count": 34
  }
 ],
 "metadata": {
  "kernelspec": {
   "display_name": "Python 3",
   "language": "python",
   "name": "python3"
  },
  "language_info": {
   "codemirror_mode": {
    "name": "ipython",
    "version": 2
   },
   "file_extension": ".py",
   "mimetype": "text/x-python",
   "name": "python",
   "nbconvert_exporter": "python",
   "pygments_lexer": "ipython2",
   "version": "2.7.6"
  }
 },
 "nbformat": 4,
 "nbformat_minor": 5
}
