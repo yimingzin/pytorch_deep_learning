{
 "cells": [
  {
   "cell_type": "code",
   "id": "initial_id",
   "metadata": {
    "collapsed": true,
    "ExecuteTime": {
     "end_time": "2024-10-16T09:13:30.427528Z",
     "start_time": "2024-10-16T09:13:28.462553Z"
    }
   },
   "source": [
    "import torch\n",
    "from torch import nn\n",
    "import matplotlib.pyplot as plt"
   ],
   "outputs": [],
   "execution_count": 1
  },
  {
   "metadata": {
    "ExecuteTime": {
     "end_time": "2024-10-16T09:13:32.246349Z",
     "start_time": "2024-10-16T09:13:32.225868Z"
    }
   },
   "cell_type": "code",
   "source": [
    "device = \"cuda\" if torch.cuda.is_available() else \"cpu\"\n",
    "print(f\"device : {device}\")"
   ],
   "id": "64575009977ff8a",
   "outputs": [
    {
     "name": "stdout",
     "output_type": "stream",
     "text": [
      "device : cuda\n"
     ]
    }
   ],
   "execution_count": 2
  },
  {
   "metadata": {
    "ExecuteTime": {
     "end_time": "2024-10-16T09:13:34.135584Z",
     "start_time": "2024-10-16T09:13:34.130036Z"
    }
   },
   "cell_type": "code",
   "source": [
    "# Create weight and bias\n",
    "weight = 0.3\n",
    "bias = 0.9\n",
    "\n",
    "# Create X and y\n",
    "start = 1\n",
    "end = 3\n",
    "step = 0.01\n",
    "X = torch.arange(start, end, step).unsqueeze(dim=1)\n",
    "y = weight * X + bias\n",
    "\n",
    "print(f\"Shape X and y : {X.shape}, {y.shape}\")\n",
    "print(f\"{X[:10]}\")\n",
    "print(f\"{y[:10]}\")"
   ],
   "id": "29128a97792f44c4",
   "outputs": [
    {
     "name": "stdout",
     "output_type": "stream",
     "text": [
      "Shape X and y : torch.Size([200, 1]), torch.Size([200, 1])\n",
      "tensor([[1.0000],\n",
      "        [1.0100],\n",
      "        [1.0200],\n",
      "        [1.0300],\n",
      "        [1.0400],\n",
      "        [1.0500],\n",
      "        [1.0600],\n",
      "        [1.0700],\n",
      "        [1.0800],\n",
      "        [1.0900]])\n",
      "tensor([[1.2000],\n",
      "        [1.2030],\n",
      "        [1.2060],\n",
      "        [1.2090],\n",
      "        [1.2120],\n",
      "        [1.2150],\n",
      "        [1.2180],\n",
      "        [1.2210],\n",
      "        [1.2240],\n",
      "        [1.2270]])\n"
     ]
    }
   ],
   "execution_count": 3
  },
  {
   "metadata": {
    "ExecuteTime": {
     "end_time": "2024-10-16T09:13:37.972576Z",
     "start_time": "2024-10-16T09:13:37.966773Z"
    }
   },
   "cell_type": "code",
   "source": [
    "# split data into 80% training , 20% testing\n",
    "data_spilt = int(0.8 * len(X))\n",
    "X_train, y_train = X[:data_spilt], y[:data_spilt]\n",
    "X_test, y_test = X[data_spilt:], y[data_spilt:]\n",
    "\n",
    "X_train.shape, y_train.shape, X_test.shape, y_test.shape"
   ],
   "id": "51457a96f07e385",
   "outputs": [
    {
     "data": {
      "text/plain": [
       "(torch.Size([160, 1]),\n",
       " torch.Size([160, 1]),\n",
       " torch.Size([40, 1]),\n",
       " torch.Size([40, 1]))"
      ]
     },
     "execution_count": 4,
     "metadata": {},
     "output_type": "execute_result"
    }
   ],
   "execution_count": 4
  },
  {
   "metadata": {
    "ExecuteTime": {
     "end_time": "2024-10-16T09:13:40.230230Z",
     "start_time": "2024-10-16T09:13:40.226531Z"
    }
   },
   "cell_type": "code",
   "source": [
    "def plot_prediction(\n",
    "        train_data = X_train,\n",
    "        train_label = y_train,\n",
    "        test_data = X_test,\n",
    "        test_label = y_test,\n",
    "        predictions = None\n",
    "):\n",
    "    plt.figure(figsize=(10, 7))\n",
    "    \n",
    "    plt.scatter(train_data, train_label, c=\"b\", s=4, label=\"Training data\")\n",
    "    plt.scatter(test_data, test_label, c=\"g\", s=4, label=\"Testing data\")\n",
    "    \n",
    "    if predictions is not None:\n",
    "        plt.scatter(test_data, predictions, c=\"r\", s=4, label=\"Predictions\")\n",
    "    \n",
    "    plt.legend(prop={\"size\": 14})"
   ],
   "id": "1649fbec2fa19177",
   "outputs": [],
   "execution_count": 5
  },
  {
   "metadata": {
    "ExecuteTime": {
     "end_time": "2024-10-16T09:13:42.636685Z",
     "start_time": "2024-10-16T09:13:42.439919Z"
    }
   },
   "cell_type": "code",
   "source": "plot_prediction()",
   "id": "b26fc3e02ffc920b",
   "outputs": [
    {
     "data": {
      "text/plain": [
       "<Figure size 1000x700 with 1 Axes>"
      ],
      "image/png": "[encoded data removed]"
     },
     "metadata": {},
     "output_type": "display_data"
    }
   ],
   "execution_count": 6
  },
  {
   "metadata": {
    "ExecuteTime": {
     "end_time": "2024-10-16T11:28:38.977189Z",
     "start_time": "2024-10-16T11:28:38.974070Z"
    }
   },
   "cell_type": "code",
   "source": [
    "class LinearRegression(nn.Module):\n",
    "    def __init__(self):\n",
    "        super().__init__()\n",
    "        self.weight = nn.Parameter(torch.randn(1, dtype=torch.float), requires_grad=True)\n",
    "        self.bias = nn.Parameter(torch.randn(1, dtype=torch.float), requires_grad=True)\n",
    "        # self.linear = nn.Linear(1, 1)\n",
    "    \n",
    "    def forward(self, x):\n",
    "        \n",
    "        y = self.weight * x + self.bias\n",
    "        # y = self.linear(x)\n",
    "        return y\n"
   ],
   "id": "9b38446baaba86ac",
   "outputs": [],
   "execution_count": 7
  },
  {
   "metadata": {
    "ExecuteTime": {
     "end_time": "2024-10-16T11:42:35.160683Z",
     "start_time": "2024-10-16T11:42:34.158144Z"
    }
   },
   "cell_type": "code",
   "source": [
    "model_0 = LinearRegression().to(device)\n",
    "loss_func = nn.L1Loss()\n",
    "optimizer = torch.optim.SGD(model_0.parameters(), lr=1e-2)"
   ],
   "id": "1107cee734bbd514",
   "outputs": [],
   "execution_count": 9
  },
  {
   "metadata": {
    "ExecuteTime": {
     "end_time": "2024-10-16T11:42:37.143943Z",
     "start_time": "2024-10-16T11:42:36.976975Z"
    }
   },
   "cell_type": "code",
   "source": [
    "torch.manual_seed(42)\n",
    "\n",
    "epochs = 300\n",
    "X_train = X_train.to(device)\n",
    "X_test = X_test.to(device)\n",
    "y_train = y_train.to(device)\n",
    "y_test = y_test.to(device)\n",
    "\n",
    "for epoch in range(epochs):\n",
    "    model_0.train()\n",
    "    pred = model_0(X_train)\n",
    "    loss = loss_func(pred, y_train)\n",
    "    \n",
    "    optimizer.zero_grad()\n",
    "    loss.backward()\n",
    "    optimizer.step()\n",
    "    \n",
    "    ### Perform testing every 20 epochs\n",
    "    if epoch % 20 == 0:\n",
    "        model_0.eval()\n",
    "        with torch.inference_mode():\n",
    "            pred_test = model_0(X_test)\n",
    "            test_loss = loss_func(pred_test, y_test)\n",
    "            print(f\"Epoch: {epoch} | Train loss: {loss:.3f} | Test loss: {test_loss:.3f}\")\n",
    "            "
   ],
   "id": "fc3631608a6e1dfb",
   "outputs": [
    {
     "name": "stdout",
     "output_type": "stream",
     "text": [
      "Epoch: 0 | Train loss: 0.029 | Test loss: 0.060\n",
      "Epoch: 20 | Train loss: 0.022 | Test loss: 0.045\n",
      "Epoch: 40 | Train loss: 0.014 | Test loss: 0.029\n",
      "Epoch: 60 | Train loss: 0.030 | Test loss: 0.002\n",
      "Epoch: 80 | Train loss: 0.030 | Test loss: 0.002\n",
      "Epoch: 100 | Train loss: 0.030 | Test loss: 0.002\n",
      "Epoch: 120 | Train loss: 0.030 | Test loss: 0.002\n",
      "Epoch: 140 | Train loss: 0.030 | Test loss: 0.002\n",
      "Epoch: 160 | Train loss: 0.030 | Test loss: 0.002\n",
      "Epoch: 180 | Train loss: 0.030 | Test loss: 0.002\n",
      "Epoch: 200 | Train loss: 0.030 | Test loss: 0.002\n",
      "Epoch: 220 | Train loss: 0.030 | Test loss: 0.002\n",
      "Epoch: 240 | Train loss: 0.030 | Test loss: 0.002\n",
      "Epoch: 260 | Train loss: 0.030 | Test loss: 0.002\n",
      "Epoch: 280 | Train loss: 0.030 | Test loss: 0.002\n"
     ]
    }
   ],
   "execution_count": 11
  },
  {
   "metadata": {
    "ExecuteTime": {
     "end_time": "2024-10-16T12:04:40.491019Z",
     "start_time": "2024-10-16T12:04:40.475368Z"
    }
   },
   "cell_type": "code",
   "source": [
    "model_0.eval()\n",
    "with torch.inference_mode():\n",
    "    y_preds = model_0(X_test)\n",
    "y_preds"
   ],
   "id": "4222cbb1a9c2275c",
   "outputs": [
    {
     "data": {
      "text/plain": [
       "tensor([[1.7360],\n",
       "        [1.7393],\n",
       "        [1.7426],\n",
       "        [1.7459],\n",
       "        [1.7492],\n",
       "        [1.7526],\n",
       "        [1.7559],\n",
       "        [1.7592],\n",
       "        [1.7625],\n",
       "        [1.7659],\n",
       "        [1.7692],\n",
       "        [1.7725],\n",
       "        [1.7758],\n",
       "        [1.7792],\n",
       "        [1.7825],\n",
       "        [1.7858],\n",
       "        [1.7891],\n",
       "        [1.7924],\n",
       "        [1.7958],\n",
       "        [1.7991],\n",
       "        [1.8024],\n",
       "        [1.8057],\n",
       "        [1.8091],\n",
       "        [1.8124],\n",
       "        [1.8157],\n",
       "        [1.8190],\n",
       "        [1.8224],\n",
       "        [1.8257],\n",
       "        [1.8290],\n",
       "        [1.8323],\n",
       "        [1.8356],\n",
       "        [1.8390],\n",
       "        [1.8423],\n",
       "        [1.8456],\n",
       "        [1.8489],\n",
       "        [1.8523],\n",
       "        [1.8556],\n",
       "        [1.8589],\n",
       "        [1.8622],\n",
       "        [1.8656]], device='cuda:0')"
      ]
     },
     "execution_count": 12,
     "metadata": {},
     "output_type": "execute_result"
    }
   ],
   "execution_count": 12
  },
  {
   "metadata": {
    "ExecuteTime": {
     "end_time": "2024-10-16T12:05:16.751143Z",
     "start_time": "2024-10-16T12:05:16.639171Z"
    }
   },
   "cell_type": "code",
   "source": "plot_prediction(predictions= y_preds.cpu())",
   "id": "967fb5efe501bec8",
   "outputs": [
    {
     "data": {
      "text/plain": [
       "<Figure size 1000x700 with 1 Axes>"
      ],
      "image/png": "[encoded data removed]"
     },
     "metadata": {},
     "output_type": "display_data"
    }
   ],
   "execution_count": 13
  },
  {
   "metadata": {
    "ExecuteTime": {
     "end_time": "2024-10-16T12:09:08.354219Z",
     "start_time": "2024-10-16T12:09:08.348391Z"
    }
   },
   "cell_type": "code",
   "source": [
    "from pathlib import Path\n",
    "\n",
    "MODEL_PATH = Path(\"models\")\n",
    "MODEL_PATH.mkdir(parents=True, exist_ok=True)\n",
    "\n",
    "MODEL_NAME = \"exercise_model_0\"\n",
    "MODEL_SAVE_PATH = MODEL_PATH / MODEL_NAME\n",
    "print(f\"Saving model to {MODEL_SAVE_PATH}\")\n",
    "torch.save(model_0.state_dict(), f=MODEL_SAVE_PATH)"
   ],
   "id": "4c58d71f362736fe",
   "outputs": [
    {
     "name": "stdout",
     "output_type": "stream",
     "text": [
      "Saving model to models\\exercise_model_0\n"
     ]
    }
   ],
   "execution_count": 14
  },
  {
   "metadata": {
    "ExecuteTime": {
     "end_time": "2024-10-16T12:11:09.186518Z",
     "start_time": "2024-10-16T12:11:09.174604Z"
    }
   },
   "cell_type": "code",
   "source": [
    "loaded_model = LinearRegression()\n",
    "loaded_model.load_state_dict(torch.load(f=MODEL_SAVE_PATH))\n",
    "loaded_model.to(device)"
   ],
   "id": "3154c5fcb2aa9bc",
   "outputs": [
    {
     "data": {
      "text/plain": [
       "LinearRegression()"
      ]
     },
     "execution_count": 15,
     "metadata": {},
     "output_type": "execute_result"
    }
   ],
   "execution_count": 15
  },
  {
   "metadata": {
    "ExecuteTime": {
     "end_time": "2024-10-16T12:11:36.477767Z",
     "start_time": "2024-10-16T12:11:36.469947Z"
    }
   },
   "cell_type": "code",
   "source": [
    "y_preds_new = loaded_model(X_test)\n",
    "y_preds == y_preds_new"
   ],
   "id": "965285c1f20cde8b",
   "outputs": [
    {
     "data": {
      "text/plain": [
       "tensor([[True],\n",
       "        [True],\n",
       "        [True],\n",
       "        [True],\n",
       "        [True],\n",
       "        [True],\n",
       "        [True],\n",
       "        [True],\n",
       "        [True],\n",
       "        [True],\n",
       "        [True],\n",
       "        [True],\n",
       "        [True],\n",
       "        [True],\n",
       "        [True],\n",
       "        [True],\n",
       "        [True],\n",
       "        [True],\n",
       "        [True],\n",
       "        [True],\n",
       "        [True],\n",
       "        [True],\n",
       "        [True],\n",
       "        [True],\n",
       "        [True],\n",
       "        [True],\n",
       "        [True],\n",
       "        [True],\n",
       "        [True],\n",
       "        [True],\n",
       "        [True],\n",
       "        [True],\n",
       "        [True],\n",
       "        [True],\n",
       "        [True],\n",
       "        [True],\n",
       "        [True],\n",
       "        [True],\n",
       "        [True],\n",
       "        [True]], device='cuda:0')"
      ]
     },
     "execution_count": 16,
     "metadata": {},
     "output_type": "execute_result"
    }
   ],
   "execution_count": 16
  },
  {
   "metadata": {
    "ExecuteTime": {
     "end_time": "2024-10-16T12:12:11.874624Z",
     "start_time": "2024-10-16T12:12:11.848167Z"
    }
   },
   "cell_type": "code",
   "source": "loaded_model.state_dict()",
   "id": "c536741ef7f6a149",
   "outputs": [
    {
     "data": {
      "text/plain": [
       "OrderedDict([('weight', tensor([0.3323], device='cuda:0')),\n",
       "             ('bias', tensor([0.8719], device='cuda:0'))])"
      ]
     },
     "execution_count": 17,
     "metadata": {},
     "output_type": "execute_result"
    }
   ],
   "execution_count": 17
  }
 ],
 "metadata": {
  "kernelspec": {
   "display_name": "Python 3",
   "language": "python",
   "name": "python3"
  },
  "language_info": {
   "codemirror_mode": {
    "name": "ipython",
    "version": 2
   },
   "file_extension": ".py",
   "mimetype": "text/x-python",
   "name": "python",
   "nbconvert_exporter": "python",
   "pygments_lexer": "ipython2",
   "version": "2.7.6"
  }
 },
 "nbformat": 4,
 "nbformat_minor": 5
}
