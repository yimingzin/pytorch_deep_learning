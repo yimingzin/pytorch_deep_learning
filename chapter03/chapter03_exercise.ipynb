{
 "cells": [
  {
   "metadata": {},
   "cell_type": "markdown",
   "source": "## Load the [`torchvision.datasets.MNIST()`](https://pytorch.org/vision/stable/generated/torchvision.datasets.MNIST.html#torchvision.datasets.MNIST) train and test datasets.",
   "id": "2d7997bc4df117d0"
  },
  {
   "metadata": {
    "ExecuteTime": {
     "end_time": "2024-10-25T12:59:36.945947Z",
     "start_time": "2024-10-25T12:59:31.961604Z"
    }
   },
   "cell_type": "code",
   "source": [
    "import torch\n",
    "from torch import nn\n",
    "from torch.utils.data import DataLoader\n",
    "from torchvision import datasets\n",
    "from torchvision.transforms import ToTensor\n",
    "\n",
    "train_data = datasets.MNIST(\n",
    "    root=\"exercise_data\",\n",
    "    train=True,\n",
    "    transform=ToTensor(),\n",
    "    target_transform=None,\n",
    "    download=True\n",
    ")\n",
    "\n",
    "test_data = datasets.MNIST(\n",
    "    root=\"exercise_data\",\n",
    "    train=False,\n",
    "    transform=ToTensor(),\n",
    "    download=True\n",
    ")\n",
    "\n",
    "class_names = train_data.classes\n",
    "class_names"
   ],
   "id": "8da1aa382c856d86",
   "outputs": [
    {
     "data": {
      "text/plain": [
       "['0 - zero',\n",
       " '1 - one',\n",
       " '2 - two',\n",
       " '3 - three',\n",
       " '4 - four',\n",
       " '5 - five',\n",
       " '6 - six',\n",
       " '7 - seven',\n",
       " '8 - eight',\n",
       " '9 - nine']"
      ]
     },
     "execution_count": 1,
     "metadata": {},
     "output_type": "execute_result"
    }
   ],
   "execution_count": 1
  },
  {
   "metadata": {},
   "cell_type": "markdown",
   "source": "## Visualize at least 5 different samples of the MNIST training dataset.",
   "id": "7f7bcfe76938567a"
  },
  {
   "metadata": {
    "ExecuteTime": {
     "end_time": "2024-10-25T12:59:48.362787Z",
     "start_time": "2024-10-25T12:59:47.647260Z"
    }
   },
   "cell_type": "code",
   "source": [
    "import matplotlib.pyplot as plt\n",
    "\n",
    "torch.manual_seed(42)\n",
    "row, col = 2, 5\n",
    "fig = plt.figure(figsize=(9, 4))\n",
    "\n",
    "for i in range(1, row * col + 1):\n",
    "    random_idx = torch.randint(0, len(train_data), [1]).item()\n",
    "    image, label = train_data[random_idx]\n",
    "    fig.add_subplot(row, col, i)\n",
    "    plt.imshow(image.squeeze(), cmap=\"gray\")\n",
    "    plt.title(class_names[label])\n",
    "    plt.axis(False)"
   ],
   "id": "e8f8e511299d17f0",
   "outputs": [
    {
     "data": {
      "text/plain": [
       "<Figure size 900x400 with 10 Axes>"
      ],
      "image/png": "[encoded data removed]"
     },
     "metadata": {},
     "output_type": "display_data"
    }
   ],
   "execution_count": 2
  },
  {
   "metadata": {},
   "cell_type": "markdown",
   "source": "## Turn the MNIST train and test datasets into dataloaders using `torch.utils.data.DataLoader`, set the `batch_size=32`.",
   "id": "f041065a0063f896"
  },
  {
   "metadata": {
    "ExecuteTime": {
     "end_time": "2024-10-25T12:59:50.957591Z",
     "start_time": "2024-10-25T12:59:50.953632Z"
    }
   },
   "cell_type": "code",
   "source": [
    "BATCH_SIZE = 32\n",
    "\n",
    "train_dataloader = DataLoader(train_data, BATCH_SIZE, shuffle=True)\n",
    "test_dataloader = DataLoader(test_data, BATCH_SIZE)\n",
    "\n",
    "len(train_data), len(train_dataloader), len(test_data), len(test_dataloader)"
   ],
   "id": "836581af80e929c9",
   "outputs": [
    {
     "data": {
      "text/plain": [
       "(60000, 1875, 10000, 313)"
      ]
     },
     "execution_count": 3,
     "metadata": {},
     "output_type": "execute_result"
    }
   ],
   "execution_count": 3
  },
  {
   "metadata": {},
   "cell_type": "markdown",
   "source": "## Recreate `model_2` used in notebook 03 (the same model from the [CNN Explainer website](https://poloclub.github.io/cnn-explainer/), also known as TinyVGG) capable of fitting on the MNIST dataset.",
   "id": "7cfd60fee1bb997c"
  },
  {
   "metadata": {
    "ExecuteTime": {
     "end_time": "2024-10-25T12:59:54.906377Z",
     "start_time": "2024-10-25T12:59:54.737388Z"
    }
   },
   "cell_type": "code",
   "source": [
    "device = \"cuda\" if torch.cuda.is_available() else \"cpu\"\n",
    "\n",
    "class MNISTModel(nn.Module):\n",
    "    def __init__(self, input_channel: int = 1, hidden_units: int = 10, output_channel: int = len(class_names)):\n",
    "        super().__init__()\n",
    "        \n",
    "        self.block_1 = nn.Sequential(\n",
    "            nn.Conv2d(input_channel, hidden_units, kernel_size=3, stride=1, padding=1),\n",
    "            nn.ReLU(),\n",
    "            nn.Conv2d(hidden_units, hidden_units, kernel_size=3, stride=1, padding=1),\n",
    "            nn.ReLU(),\n",
    "            nn.MaxPool2d(kernel_size=2, stride=2)\n",
    "        )\n",
    "        \n",
    "        self.block_2 = nn.Sequential(\n",
    "            nn.Conv2d(hidden_units, hidden_units, kernel_size=3, stride=1, padding=1),\n",
    "            nn.ReLU(),\n",
    "            nn.Conv2d(hidden_units, hidden_units, kernel_size=3, stride=1, padding=1),\n",
    "            nn.ReLU(),\n",
    "            nn.MaxPool2d(kernel_size=2, stride=2)\n",
    "        )\n",
    "        \n",
    "        self.classifier = nn.Sequential(\n",
    "            nn.Flatten(),\n",
    "            nn.Linear(hidden_units * 7 * 7, output_channel)\n",
    "        )\n",
    "    \n",
    "    def forward(self, x):\n",
    "        y = self.classifier(self.block_2(self.block_1(x)))\n",
    "        return y\n",
    "\n",
    "model_0 = MNISTModel().to(device)\n",
    "model_0"
   ],
   "id": "6d22c13293a664fc",
   "outputs": [
    {
     "data": {
      "text/plain": [
       "MNISTModel(\n",
       "  (block_1): Sequential(\n",
       "    (0): Conv2d(1, 10, kernel_size=(3, 3), stride=(1, 1), padding=(1, 1))\n",
       "    (1): ReLU()\n",
       "    (2): Conv2d(10, 10, kernel_size=(3, 3), stride=(1, 1), padding=(1, 1))\n",
       "    (3): ReLU()\n",
       "    (4): MaxPool2d(kernel_size=2, stride=2, padding=0, dilation=1, ceil_mode=False)\n",
       "  )\n",
       "  (block_2): Sequential(\n",
       "    (0): Conv2d(10, 10, kernel_size=(3, 3), stride=(1, 1), padding=(1, 1))\n",
       "    (1): ReLU()\n",
       "    (2): Conv2d(10, 10, kernel_size=(3, 3), stride=(1, 1), padding=(1, 1))\n",
       "    (3): ReLU()\n",
       "    (4): MaxPool2d(kernel_size=2, stride=2, padding=0, dilation=1, ceil_mode=False)\n",
       "  )\n",
       "  (classifier): Sequential(\n",
       "    (0): Flatten(start_dim=1, end_dim=-1)\n",
       "    (1): Linear(in_features=490, out_features=10, bias=True)\n",
       "  )\n",
       ")"
      ]
     },
     "execution_count": 4,
     "metadata": {},
     "output_type": "execute_result"
    }
   ],
   "execution_count": 4
  },
  {
   "metadata": {},
   "cell_type": "markdown",
   "source": "## Train the model you built in exercise 8. for 5 epochs on CPU and GPU and see how long it takes on each.",
   "id": "d000a99d18d1fc48"
  },
  {
   "metadata": {
    "ExecuteTime": {
     "end_time": "2024-10-25T12:59:56.803045Z",
     "start_time": "2024-10-25T12:59:56.799609Z"
    }
   },
   "cell_type": "code",
   "source": [
    "from timeit import default_timer as timer\n",
    "\n",
    "def print_train_time(start_time: float, end_time: float, device:  torch.device = None):\n",
    "    \n",
    "    total_time = end_time - start_time\n",
    "    print(f\"Train time : {total_time:.3f} seconds, on {device}\")\n",
    "    return total_time\n",
    "\n"
   ],
   "id": "a5e34c960675ee51",
   "outputs": [],
   "execution_count": 5
  },
  {
   "metadata": {
    "ExecuteTime": {
     "end_time": "2024-10-25T12:59:58.147428Z",
     "start_time": "2024-10-25T12:59:58.143643Z"
    }
   },
   "cell_type": "code",
   "source": [
    "def train_step(\n",
    "        data_loader: torch.utils.data.DataLoader,\n",
    "        model: torch.nn.Module,\n",
    "        loss_func: torch.nn.Module,\n",
    "        optimizer: torch.optim.Optimizer,\n",
    "        device: torch.device = None\n",
    "):\n",
    "    train_loss, train_acc = 0.0, 0.0\n",
    "    total_samples = 0\n",
    "    model.to(device)\n",
    "    model.train()\n",
    "    for batch, (X, y) in enumerate(data_loader):\n",
    "        X, y = X.to(device), y.to(device)\n",
    "        train_preds = model(X)\n",
    "        loss = loss_func(train_preds, y)\n",
    "        train_loss += loss\n",
    "        train_acc += (torch.argmax(train_preds, dim=1) == y).sum().item()\n",
    "        total_samples += len(y)\n",
    "        \n",
    "        optimizer.zero_grad()\n",
    "        loss.backward()\n",
    "        optimizer.step()\n",
    "    \n",
    "    train_loss /= len(data_loader)\n",
    "    train_acc = train_acc / total_samples * 100\n",
    "    print(f\"Epoch: {epoch} | Train loss: {train_loss:.5f} | Train Accuracy: {train_acc:.2f}%\")"
   ],
   "id": "5b9f94ba8db78be5",
   "outputs": [],
   "execution_count": 6
  },
  {
   "metadata": {
    "ExecuteTime": {
     "end_time": "2024-10-25T12:59:59.766693Z",
     "start_time": "2024-10-25T12:59:59.762858Z"
    }
   },
   "cell_type": "code",
   "source": [
    "def test_step(\n",
    "        data_loader: torch.utils.data.DataLoader,\n",
    "        model: torch.nn.Module,\n",
    "        loss_func: torch.nn.Module,\n",
    "        device: torch.device = None\n",
    "):\n",
    "    test_loss, test_acc = 0.0, 0.0\n",
    "    total_samples = 0\n",
    "    model.to(device)\n",
    "    model.eval()\n",
    "    with torch.inference_mode():\n",
    "        for X, y in data_loader:\n",
    "            X, y = X.to(device), y.to(device)\n",
    "            test_pred = model(X)\n",
    "            test_loss += loss_func(test_pred, y).item()\n",
    "            test_acc += (torch.argmax(test_pred, dim=1) == y.clone()).sum().item()\n",
    "            total_samples += len(y)\n",
    "            \n",
    "    test_loss /= len(data_loader)\n",
    "    test_acc = test_acc / total_samples * 100\n",
    "    print(f\"Test Loss: {test_loss:.5f} | Test Accuracy: {test_acc:.2f}%\\n-----------------------------------------------\")"
   ],
   "id": "adbf28d77e4ef36f",
   "outputs": [],
   "execution_count": 7
  },
  {
   "metadata": {
    "ExecuteTime": {
     "end_time": "2024-10-25T13:00:44.486846Z",
     "start_time": "2024-10-25T13:00:01.374183Z"
    }
   },
   "cell_type": "code",
   "source": [
    "start_time_on_cpu = timer()\n",
    "from tqdm.auto import tqdm\n",
    "\n",
    "# loss_func & optimizer\n",
    "loss_func = nn.CrossEntropyLoss()\n",
    "optimizer = torch.optim.SGD(model_0.parameters(), lr=0.1)\n",
    "\n",
    "epochs = 5\n",
    "for epoch in tqdm(range(epochs)):\n",
    "    train_step(train_dataloader, model_0, loss_func, optimizer, device=\"cpu\")\n",
    "    test_step(test_dataloader, model_0, loss_func, device=\"cpu\")\n",
    "\n",
    "end_time_on_cpu = timer()\n",
    "print_train_time(start_time_on_cpu, end_time_on_cpu, device=\"cpu\")"
   ],
   "id": "64b57f63532819f9",
   "outputs": [
    {
     "data": {
      "text/plain": [
       "  0%|          | 0/5 [00:00<?, ?it/s]"
      ],
      "application/vnd.jupyter.widget-view+json": {
       "version_major": 2,
       "version_minor": 0,
       "model_id": "603266c114a046f999f6e60698bcbf43"
      }
     },
     "metadata": {},
     "output_type": "display_data"
    },
    {
     "name": "stdout",
     "output_type": "stream",
     "text": [
      "Epoch: 0 | Train loss: 0.39775 | Train Accuracy: 86.18%\n",
      "Test Loss: 0.07030 | Test Accuracy: 97.59%\n",
      "-----------------------------------------------\n",
      "Epoch: 1 | Train loss: 0.07381 | Train Accuracy: 97.75%\n",
      "Test Loss: 0.05413 | Test Accuracy: 98.24%\n",
      "-----------------------------------------------\n",
      "Epoch: 2 | Train loss: 0.05567 | Train Accuracy: 98.29%\n",
      "Test Loss: 0.05053 | Test Accuracy: 98.31%\n",
      "-----------------------------------------------\n",
      "Epoch: 3 | Train loss: 0.04779 | Train Accuracy: 98.50%\n",
      "Test Loss: 0.04021 | Test Accuracy: 98.57%\n",
      "-----------------------------------------------\n",
      "Epoch: 4 | Train loss: 0.04223 | Train Accuracy: 98.70%\n",
      "Test Loss: 0.04199 | Test Accuracy: 98.67%\n",
      "-----------------------------------------------\n",
      "Train time : 43.107 seconds, on cpu\n"
     ]
    },
    {
     "data": {
      "text/plain": [
       "43.10714960000041"
      ]
     },
     "execution_count": 8,
     "metadata": {},
     "output_type": "execute_result"
    }
   ],
   "execution_count": 8
  },
  {
   "metadata": {
    "ExecuteTime": {
     "end_time": "2024-10-25T13:01:21.010764Z",
     "start_time": "2024-10-25T13:00:48.418056Z"
    }
   },
   "cell_type": "code",
   "source": [
    "start_time_on_gpu = timer()\n",
    "\n",
    "epochs = 5\n",
    "for epoch in tqdm(range(epochs)):\n",
    "    train_step(train_dataloader, model_0, loss_func, optimizer, device)\n",
    "    test_step(test_dataloader, model_0, loss_func, device)\n",
    "\n",
    "end_time_on_gpu = timer()\n",
    "print_train_time(start_time_on_gpu, end_time_on_gpu, device)"
   ],
   "id": "225a34de9645e00c",
   "outputs": [
    {
     "data": {
      "text/plain": [
       "  0%|          | 0/5 [00:00<?, ?it/s]"
      ],
      "application/vnd.jupyter.widget-view+json": {
       "version_major": 2,
       "version_minor": 0,
       "model_id": "491256684a0d4c02a8ef776ca2ef7816"
      }
     },
     "metadata": {},
     "output_type": "display_data"
    },
    {
     "name": "stdout",
     "output_type": "stream",
     "text": [
      "Epoch: 0 | Train loss: 0.03876 | Train Accuracy: 98.78%\n",
      "Test Loss: 0.04014 | Test Accuracy: 98.62%\n",
      "-----------------------------------------------\n",
      "Epoch: 1 | Train loss: 0.03472 | Train Accuracy: 98.91%\n",
      "Test Loss: 0.03678 | Test Accuracy: 98.93%\n",
      "-----------------------------------------------\n",
      "Epoch: 2 | Train loss: 0.03194 | Train Accuracy: 99.00%\n",
      "Test Loss: 0.03714 | Test Accuracy: 98.83%\n",
      "-----------------------------------------------\n",
      "Epoch: 3 | Train loss: 0.03025 | Train Accuracy: 99.02%\n",
      "Test Loss: 0.03329 | Test Accuracy: 98.91%\n",
      "-----------------------------------------------\n",
      "Epoch: 4 | Train loss: 0.02716 | Train Accuracy: 99.10%\n",
      "Test Loss: 0.03652 | Test Accuracy: 98.87%\n",
      "-----------------------------------------------\n",
      "Train time : 32.588 seconds, on cuda\n"
     ]
    },
    {
     "data": {
      "text/plain": [
       "32.588342699999885"
      ]
     },
     "execution_count": 9,
     "metadata": {},
     "output_type": "execute_result"
    }
   ],
   "execution_count": 9
  },
  {
   "metadata": {},
   "cell_type": "markdown",
   "source": "## Make predictions using your trained model and visualize at least 5 of them comparing the prediction to the target label.",
   "id": "e1a969df64e7d0ca"
  },
  {
   "metadata": {
    "ExecuteTime": {
     "end_time": "2024-10-25T13:01:25.082334Z",
     "start_time": "2024-10-25T13:01:24.935576Z"
    }
   },
   "cell_type": "code",
   "source": [
    "row, col = 1, 5\n",
    "fig = plt.figure(figsize=(16, 4))\n",
    "for i in range(1, row * col + 1):\n",
    "    image, label = train_data[i-1][0], train_data[i-1][1]\n",
    "    pred_logits = model_0(image.unsqueeze(dim=0).to(device))\n",
    "    pred_probs = torch.softmax(pred_logits, dim=1)\n",
    "    pred_label = torch.argmax(pred_probs, dim=1)\n",
    "    fig.add_subplot(row, col, i)\n",
    "    plt.imshow(image.squeeze(), cmap=\"gray\")\n",
    "    plt.title(f\"Truth: {label} | Pred: {pred_label.cpu().item()}\")\n",
    "    plt.axis(False)"
   ],
   "id": "81a817269279fc34",
   "outputs": [
    {
     "data": {
      "text/plain": [
       "<Figure size 1600x400 with 5 Axes>"
      ],
      "image/png": "[encoded data removed]"
     },
     "metadata": {},
     "output_type": "display_data"
    }
   ],
   "execution_count": 10
  },
  {
   "metadata": {},
   "cell_type": "markdown",
   "source": "## Plot a confusion matrix comparing your model's predictions to the truth labels.",
   "id": "d7f8deff5040e6fc"
  },
  {
   "metadata": {
    "ExecuteTime": {
     "end_time": "2024-10-25T13:01:31.326062Z",
     "start_time": "2024-10-25T13:01:30.623452Z"
    }
   },
   "cell_type": "code",
   "source": [
    "from tqdm.auto import tqdm\n",
    "model_0.eval()\n",
    "y_pred = []\n",
    "with torch.inference_mode():\n",
    "    for batch, (X, y) in tqdm(enumerate(test_dataloader)):\n",
    "        X, y = X.to(device), y.to(device)\n",
    "        \n",
    "        pred_logits = model_0(X)\n",
    "        pred_label = torch.argmax(torch.softmax(pred_logits, dim=1), dim=1)\n",
    "        y_pred.append(pred_label)\n",
    "    y_pred = torch.cat(y_pred).cpu()\n",
    "len(y_pred)"
   ],
   "id": "8d359a984191b4ee",
   "outputs": [
    {
     "data": {
      "text/plain": [
       "0it [00:00, ?it/s]"
      ],
      "application/vnd.jupyter.widget-view+json": {
       "version_major": 2,
       "version_minor": 0,
       "model_id": "8cb71dde28ac46949053e40c46ff8ac8"
      }
     },
     "metadata": {},
     "output_type": "display_data"
    },
    {
     "data": {
      "text/plain": [
       "10000"
      ]
     },
     "execution_count": 11,
     "metadata": {},
     "output_type": "execute_result"
    }
   ],
   "execution_count": 11
  },
  {
   "metadata": {
    "ExecuteTime": {
     "end_time": "2024-10-25T13:01:42.052635Z",
     "start_time": "2024-10-25T13:01:42.047380Z"
    }
   },
   "cell_type": "code",
   "source": "test_data.targets[:10], y_pred[:10]",
   "id": "9de31bb92439bb33",
   "outputs": [
    {
     "data": {
      "text/plain": [
       "(tensor([7, 2, 1, 0, 4, 1, 4, 9, 5, 9]),\n",
       " tensor([7, 2, 1, 0, 4, 1, 4, 9, 5, 9]))"
      ]
     },
     "execution_count": 12,
     "metadata": {},
     "output_type": "execute_result"
    }
   ],
   "execution_count": 12
  },
  {
   "metadata": {
    "ExecuteTime": {
     "end_time": "2024-10-25T13:04:01.485122Z",
     "start_time": "2024-10-25T13:04:00.247611Z"
    }
   },
   "cell_type": "code",
   "source": [
    "import torchmetrics, mlxtend\n",
    "print(f\"mlxtend version: {mlxtend.__version__}\")"
   ],
   "id": "b3198434999c7f16",
   "outputs": [
    {
     "name": "stdout",
     "output_type": "stream",
     "text": [
      "mlxtend version: 0.23.1\n"
     ]
    }
   ],
   "execution_count": 13
  },
  {
   "metadata": {
    "ExecuteTime": {
     "end_time": "2024-10-25T13:07:01.174511Z",
     "start_time": "2024-10-25T13:07:00.323929Z"
    }
   },
   "cell_type": "code",
   "source": [
    "from torchmetrics import ConfusionMatrix\n",
    "from mlxtend.plotting import plot_confusion_matrix\n",
    "\n",
    "confmat = ConfusionMatrix(task=\"multiclass\", num_classes=len(class_names))\n",
    "confmat_tensor = confmat(preds=y_pred, target=test_data.targets)\n",
    "\n",
    "fix, ax = plot_confusion_matrix(\n",
    "    conf_mat=confmat_tensor.numpy(),\n",
    "    class_names = class_names,\n",
    "    figsize=(10, 7)\n",
    ")"
   ],
   "id": "e70ae9a1b5834434",
   "outputs": [
    {
     "data": {
      "text/plain": [
       "<Figure size 1000x700 with 1 Axes>"
      ],
      "image/png": "[encoded data removed]"
     },
     "metadata": {},
     "output_type": "display_data"
    }
   ],
   "execution_count": 14
  },
  {
   "metadata": {},
   "cell_type": "markdown",
   "source": "##  Create a random tensor of shape `[1, 3, 64, 64]` and pass it through a `nn.Conv2d()` layer with various hyperparameter settings (these can be any settings you choose), what do you notice if the `kernel_size` parameter goes up and down?",
   "id": "207689e449790817"
  },
  {
   "metadata": {
    "ExecuteTime": {
     "end_time": "2024-10-25T13:10:12.740797Z",
     "start_time": "2024-10-25T13:10:12.736617Z"
    }
   },
   "cell_type": "code",
   "source": [
    "random_tensor = torch.rand((1, 3, 64, 64))\n",
    "random_tensor.shape"
   ],
   "id": "cf840094078a419a",
   "outputs": [
    {
     "data": {
      "text/plain": [
       "torch.Size([1, 3, 64, 64])"
      ]
     },
     "execution_count": 15,
     "metadata": {},
     "output_type": "execute_result"
    }
   ],
   "execution_count": 15
  },
  {
   "metadata": {
    "ExecuteTime": {
     "end_time": "2024-10-25T13:12:07.033170Z",
     "start_time": "2024-10-25T13:12:07.026850Z"
    }
   },
   "cell_type": "code",
   "source": [
    "conv_layer = nn.Conv2d(\n",
    "    in_channels=3,\n",
    "    out_channels=64,\n",
    "    kernel_size=3,\n",
    "    stride=2,\n",
    "    padding=1\n",
    ")\n",
    "\n",
    "print(f\"Random tensor original shape: {random_tensor.shape}\")\n",
    "random_tensor_through_conv_layer = conv_layer(random_tensor)\n",
    "print(f\"Random tensor through conv layer: {random_tensor_through_conv_layer.shape}\")"
   ],
   "id": "6dff969f29ac452d",
   "outputs": [
    {
     "name": "stdout",
     "output_type": "stream",
     "text": [
      "Random tensor original shape: torch.Size([1, 3, 64, 64])\n",
      "Random tensor through conv layer: torch.Size([1, 64, 32, 32])\n"
     ]
    }
   ],
   "execution_count": 16
  },
  {
   "metadata": {},
   "cell_type": "markdown",
   "source": [
    "## Use a model similar to the trained `model_2` from notebook 03 to make predictions on the test [`torchvision.datasets.FashionMNIST`](https://pytorch.org/vision/main/generated/torchvision.datasets.FashionMNIST.html) dataset. \n",
    "* Then plot some predictions where the model was wrong alongside what the label of the image should've been. \n",
    "* After visualing these predictions do you think it's more of a modelling error or a data error? \n",
    "* As in, could the model do better or are the labels of the data too close to each other (e.g. a \"Shirt\" label is too close to \"T-shirt/top\")?"
   ],
   "id": "e78e297d020e4fb7"
  },
  {
   "metadata": {
    "ExecuteTime": {
     "end_time": "2024-10-25T13:26:20.861009Z",
     "start_time": "2024-10-25T13:26:20.834240Z"
    }
   },
   "cell_type": "code",
   "source": [
    "fashion_train_data = datasets.FashionMNIST(\n",
    "    root=\"fashion_data\",\n",
    "    train=True,\n",
    "    transform=ToTensor(),\n",
    "    target_transform=None,\n",
    "    download=True\n",
    ")\n",
    "\n",
    "fashion_test_data = datasets.FashionMNIST(\n",
    "    root=\"fashion_data\",\n",
    "    train=False,\n",
    "    transform=ToTensor(),\n",
    "    download=True\n",
    ")\n",
    "\n",
    "len(fashion_train_data), len(fashion_test_data)"
   ],
   "id": "43499a8b9f854285",
   "outputs": [
    {
     "data": {
      "text/plain": [
       "(60000, 10000)"
      ]
     },
     "execution_count": 18,
     "metadata": {},
     "output_type": "execute_result"
    }
   ],
   "execution_count": 18
  },
  {
   "metadata": {
    "ExecuteTime": {
     "end_time": "2024-10-25T13:27:14.576516Z",
     "start_time": "2024-10-25T13:27:14.572375Z"
    }
   },
   "cell_type": "code",
   "source": [
    "fashion_class_names = fashion_train_data.classes\n",
    "fashion_class_names"
   ],
   "id": "40e1205effc2d3eb",
   "outputs": [
    {
     "data": {
      "text/plain": [
       "['T-shirt/top',\n",
       " 'Trouser',\n",
       " 'Pullover',\n",
       " 'Dress',\n",
       " 'Coat',\n",
       " 'Sandal',\n",
       " 'Shirt',\n",
       " 'Sneaker',\n",
       " 'Bag',\n",
       " 'Ankle boot']"
      ]
     },
     "execution_count": 19,
     "metadata": {},
     "output_type": "execute_result"
    }
   ],
   "execution_count": 19
  },
  {
   "metadata": {
    "ExecuteTime": {
     "end_time": "2024-10-25T13:30:45.934864Z",
     "start_time": "2024-10-25T13:30:45.931062Z"
    }
   },
   "cell_type": "code",
   "source": [
    "fashion_train_dataloader = DataLoader(fashion_train_data, batch_size=BATCH_SIZE, shuffle=True)\n",
    "fashion_test_dataloader = DataLoader(fashion_test_data, batch_size=BATCH_SIZE)\n",
    "\n",
    "len(fashion_train_dataloader), len(fashion_test_dataloader)"
   ],
   "id": "6fb16c84b8cf4841",
   "outputs": [
    {
     "data": {
      "text/plain": [
       "(1875, 313)"
      ]
     },
     "execution_count": 20,
     "metadata": {},
     "output_type": "execute_result"
    }
   ],
   "execution_count": 20
  },
  {
   "metadata": {
    "ExecuteTime": {
     "end_time": "2024-10-25T13:31:26.803200Z",
     "start_time": "2024-10-25T13:31:26.795301Z"
    }
   },
   "cell_type": "code",
   "source": [
    "model_fashion = MNISTModel().to(device)\n",
    "model_fashion"
   ],
   "id": "860161577340d840",
   "outputs": [
    {
     "data": {
      "text/plain": [
       "MNISTModel(\n",
       "  (block_1): Sequential(\n",
       "    (0): Conv2d(1, 10, kernel_size=(3, 3), stride=(1, 1), padding=(1, 1))\n",
       "    (1): ReLU()\n",
       "    (2): Conv2d(10, 10, kernel_size=(3, 3), stride=(1, 1), padding=(1, 1))\n",
       "    (3): ReLU()\n",
       "    (4): MaxPool2d(kernel_size=2, stride=2, padding=0, dilation=1, ceil_mode=False)\n",
       "  )\n",
       "  (block_2): Sequential(\n",
       "    (0): Conv2d(10, 10, kernel_size=(3, 3), stride=(1, 1), padding=(1, 1))\n",
       "    (1): ReLU()\n",
       "    (2): Conv2d(10, 10, kernel_size=(3, 3), stride=(1, 1), padding=(1, 1))\n",
       "    (3): ReLU()\n",
       "    (4): MaxPool2d(kernel_size=2, stride=2, padding=0, dilation=1, ceil_mode=False)\n",
       "  )\n",
       "  (classifier): Sequential(\n",
       "    (0): Flatten(start_dim=1, end_dim=-1)\n",
       "    (1): Linear(in_features=490, out_features=10, bias=True)\n",
       "  )\n",
       ")"
      ]
     },
     "execution_count": 21,
     "metadata": {},
     "output_type": "execute_result"
    }
   ],
   "execution_count": 21
  },
  {
   "metadata": {
    "ExecuteTime": {
     "end_time": "2024-10-25T13:32:04.595963Z",
     "start_time": "2024-10-25T13:32:04.592931Z"
    }
   },
   "cell_type": "code",
   "source": [
    "loss_func_fashion = nn.CrossEntropyLoss()\n",
    "optimizer = torch.optim.SGD(model_fashion.parameters(), lr=1e-2)"
   ],
   "id": "f38bc014fd0db63e",
   "outputs": [],
   "execution_count": 22
  },
  {
   "metadata": {
    "ExecuteTime": {
     "end_time": "2024-10-25T13:34:33.743413Z",
     "start_time": "2024-10-25T13:34:04.369407Z"
    }
   },
   "cell_type": "code",
   "source": [
    "epochs = 5\n",
    "for epoch in tqdm(range(epochs)):\n",
    "    train_step(fashion_train_dataloader, model_fashion, loss_func, optimizer, device)\n",
    "    test_step(fashion_test_dataloader, model_fashion, loss_func, device)\n",
    "    "
   ],
   "id": "ad6c0d3a0d1512e6",
   "outputs": [
    {
     "data": {
      "text/plain": [
       "  0%|          | 0/5 [00:00<?, ?it/s]"
      ],
      "application/vnd.jupyter.widget-view+json": {
       "version_major": 2,
       "version_minor": 0,
       "model_id": "fd4b9fc6ee3e4ec2b9e5d501efc8e7a6"
      }
     },
     "metadata": {},
     "output_type": "display_data"
    },
    {
     "name": "stdout",
     "output_type": "stream",
     "text": [
      "Epoch: 0 | Train loss: 0.95424 | Train Accuracy: 65.59%\n",
      "Test Loss: 0.57005 | Test Accuracy: 79.29%\n",
      "-----------------------------------------------\n",
      "Epoch: 1 | Train loss: 0.52334 | Train Accuracy: 80.85%\n",
      "Test Loss: 0.48310 | Test Accuracy: 82.66%\n",
      "-----------------------------------------------\n",
      "Epoch: 2 | Train loss: 0.45092 | Train Accuracy: 83.63%\n",
      "Test Loss: 0.51369 | Test Accuracy: 80.51%\n",
      "-----------------------------------------------\n",
      "Epoch: 3 | Train loss: 0.40910 | Train Accuracy: 85.29%\n",
      "Test Loss: 0.41716 | Test Accuracy: 85.17%\n",
      "-----------------------------------------------\n",
      "Epoch: 4 | Train loss: 0.38104 | Train Accuracy: 86.26%\n",
      "Test Loss: 0.40390 | Test Accuracy: 85.36%\n",
      "-----------------------------------------------\n"
     ]
    }
   ],
   "execution_count": 23
  },
  {
   "metadata": {
    "ExecuteTime": {
     "end_time": "2024-10-25T13:38:25.961640Z",
     "start_time": "2024-10-25T13:38:25.246486Z"
    }
   },
   "cell_type": "code",
   "source": [
    "fashion_test_preds = []\n",
    "model_fashion.eval()\n",
    "with torch.inference_mode():\n",
    "    for X_test, y_test in tqdm(fashion_test_dataloader):\n",
    "        pred_logits = model_fashion(X_test.to(device))\n",
    "        pred_probs = torch.softmax(pred_logits, dim=1)\n",
    "        pred_label = torch.argmax(pred_probs, dim=1)\n",
    "        fashion_test_preds.append(pred_label)\n",
    "    \n",
    "    fashion_test_preds = torch.cat(fashion_test_preds).cpu()\n",
    "fashion_test_preds[:10], len(fashion_test_preds)"
   ],
   "id": "a74b88bf502ddfca",
   "outputs": [
    {
     "data": {
      "text/plain": [
       "  0%|          | 0/313 [00:00<?, ?it/s]"
      ],
      "application/vnd.jupyter.widget-view+json": {
       "version_major": 2,
       "version_minor": 0,
       "model_id": "121c3d5b8cc14f6a8e43815d960f54fa"
      }
     },
     "metadata": {},
     "output_type": "display_data"
    },
    {
     "data": {
      "text/plain": [
       "(tensor([9, 2, 1, 1, 6, 1, 4, 6, 5, 7]), 10000)"
      ]
     },
     "execution_count": 24,
     "metadata": {},
     "output_type": "execute_result"
    }
   ],
   "execution_count": 24
  },
  {
   "metadata": {
    "ExecuteTime": {
     "end_time": "2024-10-25T13:39:38.294284Z",
     "start_time": "2024-10-25T13:39:38.290380Z"
    }
   },
   "cell_type": "code",
   "source": [
    "import numpy as np\n",
    "wrong_pred_indexes = np.where(fashion_test_preds != fashion_test_data.targets)[0]\n",
    "len(wrong_pred_indexes), wrong_pred_indexes"
   ],
   "id": "6dc071199d5e4a4f",
   "outputs": [
    {
     "data": {
      "text/plain": [
       "(1464, array([  12,   17,   21, ..., 9977, 9979, 9985], dtype=int64))"
      ]
     },
     "execution_count": 25,
     "metadata": {},
     "output_type": "execute_result"
    }
   ],
   "execution_count": 25
  },
  {
   "metadata": {
    "ExecuteTime": {
     "end_time": "2024-10-25T13:45:09.503096Z",
     "start_time": "2024-10-25T13:45:09.289374Z"
    }
   },
   "cell_type": "code",
   "source": [
    "import random\n",
    "random_selection = random.sample(list(wrong_pred_indexes), k = 9)\n",
    "plt.figure(figsize=(10, 10))\n",
    "\n",
    "for i, idx in enumerate(random_selection):\n",
    "    true_label = fashion_class_names[fashion_test_data[idx][1]]\n",
    "    pred_label = fashion_class_names[fashion_test_preds[idx]]\n",
    "    \n",
    "    plt.subplot(3, 3, i+1)\n",
    "    plt.imshow(fashion_test_data[idx][0].squeeze(), cmap=\"gray\")\n",
    "    plt.title(f\"True: {true_label} | Pred: {pred_label}\", c=\"r\")\n",
    "    plt.axis(False)"
   ],
   "id": "61b189c9d88fdaa2",
   "outputs": [
    {
     "data": {
      "text/plain": [
       "<Figure size 1000x1000 with 9 Axes>"
      ],
      "image/png": "[encoded data removed]"
     },
     "metadata": {},
     "output_type": "display_data"
    }
   ],
   "execution_count": 26
  }
 ],
 "metadata": {
  "kernelspec": {
   "display_name": "Python 3",
   "language": "python",
   "name": "python3"
  },
  "language_info": {
   "codemirror_mode": {
    "name": "ipython",
    "version": 2
   },
   "file_extension": ".py",
   "mimetype": "text/x-python",
   "name": "python",
   "nbconvert_exporter": "python",
   "pygments_lexer": "ipython2",
   "version": "2.7.6"
  }
 },
 "nbformat": 4,
 "nbformat_minor": 5
}
