{
 "cells": [
  {
   "metadata": {},
   "cell_type": "markdown",
   "source": "Start by importing Pytorch & check the version"
  },
  {
   "metadata": {
    "ExecuteTime": {
     "end_time": "2024-10-09T12:04:12.681538Z",
     "start_time": "2024-10-09T12:04:09.925817Z"
    }
   },
   "cell_type": "code",
   "source": [
    "import torch\n",
    "torch.__version__"
   ],
   "outputs": [
    {
     "data": {
      "text/plain": [
       "'2.3.1+cu121'"
      ]
     },
     "execution_count": 1,
     "metadata": {},
     "output_type": "execute_result"
    }
   ],
   "execution_count": 1
  },
  {
   "metadata": {},
   "cell_type": "markdown",
   "source": "create **scalar** : A scalar is a single number = zero dimension tensor."
  },
  {
   "metadata": {
    "ExecuteTime": {
     "end_time": "2024-10-09T12:13:56.410316Z",
     "start_time": "2024-10-09T12:13:56.407274Z"
    }
   },
   "cell_type": "code",
   "source": [
    "scalar = torch.tensor(7)\n",
    "print(scalar)\n",
    "print(scalar.ndim)\n",
    "print(scalar.item())"
   ],
   "outputs": [
    {
     "name": "stdout",
     "output_type": "stream",
     "text": [
      "tensor(7)\n",
      "0\n",
      "7\n"
     ]
    }
   ],
   "execution_count": 6
  },
  {
   "metadata": {},
   "cell_type": "markdown",
   "source": [
    "create **Vector** : A single dimension tensor contains many numbers.  \n",
    "(count the number of square brackets on outside ([) to the number of dimensions)"
   ]
  },
  {
   "metadata": {
    "ExecuteTime": {
     "end_time": "2024-10-09T12:24:56.145776Z",
     "start_time": "2024-10-09T12:24:56.141473Z"
    }
   },
   "cell_type": "code",
   "source": [
    "vector = torch.tensor([7, 7])\n",
    "print(vector)\n",
    "print(vector.ndim)\n",
    "print(vector.shape)"
   ],
   "outputs": [
    {
     "name": "stdout",
     "output_type": "stream",
     "text": [
      "tensor([7, 7])\n",
      "1\n",
      "torch.Size([2])\n"
     ]
    }
   ],
   "execution_count": 7
  },
  {
   "metadata": {},
   "cell_type": "markdown",
   "source": "create **Matrix**"
  },
  {
   "metadata": {
    "ExecuteTime": {
     "end_time": "2024-10-09T12:27:15.829549Z",
     "start_time": "2024-10-09T12:27:15.825967Z"
    }
   },
   "cell_type": "code",
   "source": [
    "MATRIX = torch.tensor([\n",
    "    [7, 8],\n",
    "    [9, 10]\n",
    "])\n",
    "\n",
    "print(MATRIX.ndim)\n",
    "print(MATRIX.shape)"
   ],
   "outputs": [
    {
     "name": "stdout",
     "output_type": "stream",
     "text": [
      "2\n",
      "torch.Size([2, 2])\n"
     ]
    }
   ],
   "execution_count": 8
  },
  {
   "metadata": {},
   "cell_type": "markdown",
   "source": "create a **Tensor**"
  },
  {
   "metadata": {
    "ExecuteTime": {
     "end_time": "2024-10-09T12:30:48.888044Z",
     "start_time": "2024-10-09T12:30:48.884774Z"
    }
   },
   "cell_type": "code",
   "source": [
    "TENSOR = torch.tensor([[\n",
    "    [1, 2, 3],\n",
    "    [3, 6, 9],\n",
    "    [2, 4, 5]\n",
    "]])\n",
    "\n",
    "print(TENSOR.ndim)\n",
    "print(TENSOR.shape)"
   ],
   "outputs": [
    {
     "name": "stdout",
     "output_type": "stream",
     "text": [
      "3\n",
      "torch.Size([1, 3, 3])\n"
     ]
    }
   ],
   "execution_count": 9
  },
  {
   "metadata": {},
   "cell_type": "markdown",
   "source": "# Random tensors"
  },
  {
   "metadata": {
    "ExecuteTime": {
     "end_time": "2024-10-09T12:36:15.505399Z",
     "start_time": "2024-10-09T12:36:15.501444Z"
    }
   },
   "cell_type": "code",
   "source": [
    "random_tensor = torch.rand(size=(3, 4))\n",
    "print(random_tensor, random_tensor.dtype)"
   ],
   "outputs": [
    {
     "name": "stdout",
     "output_type": "stream",
     "text": [
      "tensor([[0.9402, 0.1569, 0.5942, 0.1506],\n",
      "        [0.9440, 0.0686, 0.7032, 0.9793],\n",
      "        [0.4350, 0.9686, 0.4779, 0.0861]]) torch.float32\n"
     ]
    }
   ],
   "execution_count": 11
  },
  {
   "metadata": {
    "ExecuteTime": {
     "end_time": "2024-10-09T12:37:30.015256Z",
     "start_time": "2024-10-09T12:37:30.011203Z"
    }
   },
   "cell_type": "code",
   "source": [
    "random_image_size_tensor = torch.rand(size=(224, 224, 3))\n",
    "print(random_image_size_tensor.shape, random_image_size_tensor.ndim)"
   ],
   "outputs": [
    {
     "name": "stdout",
     "output_type": "stream",
     "text": [
      "torch.Size([224, 224, 3]) 3\n"
     ]
    }
   ],
   "execution_count": 13
  },
  {
   "metadata": {},
   "cell_type": "markdown",
   "source": "## Zeros and ones"
  },
  {
   "metadata": {
    "ExecuteTime": {
     "end_time": "2024-10-09T12:40:03.258022Z",
     "start_time": "2024-10-09T12:40:03.253816Z"
    }
   },
   "cell_type": "code",
   "source": [
    "zeros = torch.zeros(size=(3, 4))\n",
    "print(zeros, zeros.dtype)\n",
    "\n",
    "ones = torch.ones(size=(3, 4))\n",
    "print(ones, ones.dtype)"
   ],
   "outputs": [
    {
     "name": "stdout",
     "output_type": "stream",
     "text": [
      "tensor([[0., 0., 0., 0.],\n",
      "        [0., 0., 0., 0.],\n",
      "        [0., 0., 0., 0.]]) torch.float32\n",
      "tensor([[1., 1., 1., 1.],\n",
      "        [1., 1., 1., 1.],\n",
      "        [1., 1., 1., 1.]]) torch.float32\n"
     ]
    }
   ],
   "execution_count": 14
  },
  {
   "metadata": {},
   "cell_type": "markdown",
   "source": "### Creating a range and tensors like  "
  },
  {
   "metadata": {
    "ExecuteTime": {
     "end_time": "2024-10-09T12:44:08.127109Z",
     "start_time": "2024-10-09T12:44:08.123097Z"
    }
   },
   "cell_type": "code",
   "source": [
    "# Use torch.arange(), torch.range() is deprecated\n",
    "zero_to_ten_deprecate = torch.range(0, 10)\n",
    "\n",
    "# Create a range of values 0 to 10\n",
    "zero_to_ten = torch.arange(start=0, end=10, step=1)\n",
    "print(zero_to_ten)"
   ],
   "outputs": [
    {
     "name": "stdout",
     "output_type": "stream",
     "text": [
      "tensor([0, 1, 2, 3, 4, 5, 6, 7, 8, 9])\n"
     ]
    },
    {
     "name": "stderr",
     "output_type": "stream",
     "text": [
      "C:\\Users\\zero\\AppData\\Local\\Temp\\ipykernel_18688\\4036944844.py:2: UserWarning: torch.range is deprecated and will be removed in a future release because its behavior is inconsistent with Python's range builtin. Instead, use torch.arange, which produces values in [start, end).\n",
      "  zero_to_ten_deprecate = torch.range(0, 10)\n"
     ]
    }
   ],
   "execution_count": 15
  },
  {
   "metadata": {},
   "cell_type": "markdown",
   "source": "Tensors of all zeros with the same shape as a previous tensor"
  },
  {
   "metadata": {
    "ExecuteTime": {
     "end_time": "2024-10-09T12:46:10.273271Z",
     "start_time": "2024-10-09T12:46:10.270335Z"
    }
   },
   "cell_type": "code",
   "source": [
    "ten_zeros = torch.zeros_like(zero_to_ten)\n",
    "print(ten_zeros)"
   ],
   "outputs": [
    {
     "name": "stdout",
     "output_type": "stream",
     "text": [
      "tensor([0, 0, 0, 0, 0, 0, 0, 0, 0, 0])\n"
     ]
    }
   ],
   "execution_count": 16
  },
  {
   "metadata": {},
   "cell_type": "markdown",
   "source": "### Tensor datatypes"
  },
  {
   "metadata": {
    "ExecuteTime": {
     "end_time": "2024-10-09T12:52:06.499294Z",
     "start_time": "2024-10-09T12:52:06.496160Z"
    }
   },
   "cell_type": "code",
   "source": [
    "float_32_tensor = torch.tensor([3.0, 6.0, 9.0], \n",
    "                               dtype=None,          # defaults to None\n",
    "                               device=None,         # defaults to None\n",
    "                               requires_grad=False) # # if True, operations performed on the tensor are recorded\n",
    "\n",
    "print(float_32_tensor.shape, float_32_tensor.dtype, float_32_tensor.device)"
   ],
   "outputs": [
    {
     "name": "stdout",
     "output_type": "stream",
     "text": [
      "torch.Size([3]) torch.float32 cpu\n"
     ]
    }
   ],
   "execution_count": 17
  },
  {
   "metadata": {
    "ExecuteTime": {
     "end_time": "2024-10-09T12:57:44.288291Z",
     "start_time": "2024-10-09T12:57:44.284169Z"
    }
   },
   "cell_type": "code",
   "source": [
    "float_16_tensor = torch.tensor([3.0, 6.0, 9.0], dtype=torch.float16)\n",
    "\n",
    "print(float_16_tensor)\n",
    "print()\n",
    "\n",
    "some_tensor = torch.rand(size=(3, 4))\n",
    "print(some_tensor)\n",
    "print(f\"Shape of tensor: {some_tensor.shape}\")\n",
    "print(f\"Datatype of tensor: {some_tensor.dtype}\")\n",
    "print(f\"Device tensor is stored on: {some_tensor.device}\") # default to CPU"
   ],
   "outputs": [
    {
     "name": "stdout",
     "output_type": "stream",
     "text": [
      "tensor([3., 6., 9.], dtype=torch.float16)\n",
      "\n",
      "tensor([[0.2891, 0.1224, 0.2402, 0.3944],\n",
      "        [0.1112, 0.7239, 0.7351, 0.9009],\n",
      "        [0.0552, 0.7970, 0.5786, 0.1741]])\n",
      "Shape of tensor: torch.Size([3, 4])\n",
      "Datatype of tensor: torch.float32\n",
      "Device tensor is stored on: cpu\n"
     ]
    }
   ],
   "execution_count": 19
  },
  {
   "metadata": {},
   "cell_type": "markdown",
   "source": "### Manipulating tensors (tensor operations)"
  },
  {
   "metadata": {
    "ExecuteTime": {
     "end_time": "2024-10-09T13:04:36.448700Z",
     "start_time": "2024-10-09T13:04:36.444460Z"
    }
   },
   "cell_type": "code",
   "source": [
    "tensor = torch.tensor([1, 2, 3])\n",
    "print(tensor + 10)\n",
    "print(tensor * 10)\n",
    "print(tensor)\n",
    "tensor = tensor - 10\n",
    "tensor = tensor + 10\n",
    "print(tensor)"
   ],
   "outputs": [
    {
     "name": "stdout",
     "output_type": "stream",
     "text": [
      "tensor([11, 12, 13])\n",
      "tensor([10, 20, 30])\n",
      "tensor([1, 2, 3])\n",
      "tensor([1, 2, 3])\n"
     ]
    }
   ],
   "execution_count": 22
  },
  {
   "metadata": {},
   "cell_type": "markdown",
   "source": "Pytorch built-in functions"
  },
  {
   "metadata": {
    "ExecuteTime": {
     "end_time": "2024-10-09T13:06:17.699272Z",
     "start_time": "2024-10-09T13:06:17.695365Z"
    }
   },
   "cell_type": "code",
   "source": [
    "print(torch.multiply(tensor, 10))\n",
    "print(torch.mul(tensor, 10))\n",
    "print(tensor)"
   ],
   "outputs": [
    {
     "name": "stdout",
     "output_type": "stream",
     "text": [
      "tensor([10, 20, 30])\n",
      "tensor([10, 20, 30])\n",
      "tensor([1, 2, 3])\n"
     ]
    }
   ],
   "execution_count": 23
  },
  {
   "metadata": {
    "ExecuteTime": {
     "end_time": "2024-10-09T13:07:49.749788Z",
     "start_time": "2024-10-09T13:07:49.745881Z"
    }
   },
   "cell_type": "code",
   "source": [
    "# Element-wise multiplication (each element multiplies its equivalent, index 0->0, 1->1, 2->2)\n",
    "print(tensor, \"*\", tensor)\n",
    "print(\"Equals:\", tensor * tensor)"
   ],
   "outputs": [
    {
     "name": "stdout",
     "output_type": "stream",
     "text": [
      "tensor([1, 2, 3]) * tensor([1, 2, 3])\n",
      "Equals: tensor([1, 4, 9])\n"
     ]
    }
   ],
   "execution_count": 24
  },
  {
   "metadata": {},
   "cell_type": "markdown",
   "source": "### Matrix multiplication"
  },
  {
   "metadata": {
    "ExecuteTime": {
     "end_time": "2024-10-09T13:11:41.200933Z",
     "start_time": "2024-10-09T13:11:41.197220Z"
    }
   },
   "cell_type": "code",
   "source": [
    "tensor = torch.tensor([1, 2, 3])\n",
    "print(tensor.shape)\n",
    "print()\n",
    "\n",
    "print(tensor * tensor)\n",
    "print(torch.matmul(tensor, tensor))\n",
    "print(tensor @ tensor)\n"
   ],
   "outputs": [
    {
     "name": "stdout",
     "output_type": "stream",
     "text": [
      "torch.Size([3])\n",
      "\n",
      "tensor([1, 4, 9])\n",
      "tensor(14)\n",
      "tensor(14)\n"
     ]
    }
   ],
   "execution_count": 25
  },
  {
   "metadata": {},
   "cell_type": "markdown",
   "source": "Do matrix multiplication by hand (not recommended). Use `torch.matmul()` is faster"
  },
  {
   "metadata": {
    "ExecuteTime": {
     "end_time": "2024-10-09T13:15:53.885617Z",
     "start_time": "2024-10-09T13:15:53.882412Z"
    }
   },
   "cell_type": "code",
   "source": [
    "%%time\n",
    "value = 0\n",
    "for i in range(len(tensor)):\n",
    "    value += tensor[i] * tensor[i]\n",
    "\n",
    "print(value)"
   ],
   "outputs": [
    {
     "name": "stdout",
     "output_type": "stream",
     "text": [
      "tensor(14)\n",
      "CPU times: total: 0 ns\n",
      "Wall time: 0 ns\n"
     ]
    }
   ],
   "execution_count": 27
  },
  {
   "metadata": {
    "ExecuteTime": {
     "end_time": "2024-10-09T13:16:31.377703Z",
     "start_time": "2024-10-09T13:16:31.373788Z"
    }
   },
   "cell_type": "code",
   "source": [
    "%%time\n",
    "torch.matmul(tensor, tensor)"
   ],
   "outputs": [
    {
     "name": "stdout",
     "output_type": "stream",
     "text": [
      "CPU times: total: 0 ns\n",
      "Wall time: 0 ns\n"
     ]
    },
    {
     "data": {
      "text/plain": [
       "tensor(14)"
      ]
     },
     "execution_count": 28,
     "metadata": {},
     "output_type": "execute_result"
    }
   ],
   "execution_count": 28
  },
  {
   "metadata": {},
   "cell_type": "markdown",
   "source": "### One of the most common errors in deep learning (shape errors)"
  },
  {
   "metadata": {
    "ExecuteTime": {
     "end_time": "2024-10-09T13:21:54.618576Z",
     "start_time": "2024-10-09T13:21:54.266758Z"
    }
   },
   "cell_type": "code",
   "source": [
    "tensor_A = torch.tensor([\n",
    "    [1, 2],\n",
    "    [3, 4],\n",
    "    [5, 6]\n",
    "], dtype=torch.float32)\n",
    "\n",
    "tensor_B = torch.tensor([\n",
    "    [7, 10],\n",
    "    [8, 11],\n",
    "    [9, 12]\n",
    "], dtype=torch.float32)\n",
    "\n",
    "torch.matmul(tensor_A, tensor_B)"
   ],
   "outputs": [
    {
     "ename": "RuntimeError",
     "evalue": "mat1 and mat2 shapes cannot be multiplied (3x2 and 3x2)",
     "output_type": "error",
     "traceback": [
      "\u001B[1;31m---------------------------------------------------------------------------\u001B[0m",
      "\u001B[1;31mRuntimeError\u001B[0m                              Traceback (most recent call last)",
      "Cell \u001B[1;32mIn[29], line 13\u001B[0m\n\u001B[0;32m      1\u001B[0m tensor_A \u001B[38;5;241m=\u001B[39m torch\u001B[38;5;241m.\u001B[39mtensor([\n\u001B[0;32m      2\u001B[0m     [\u001B[38;5;241m1\u001B[39m, \u001B[38;5;241m2\u001B[39m],\n\u001B[0;32m      3\u001B[0m     [\u001B[38;5;241m3\u001B[39m, \u001B[38;5;241m4\u001B[39m],\n\u001B[0;32m      4\u001B[0m     [\u001B[38;5;241m5\u001B[39m, \u001B[38;5;241m6\u001B[39m]\n\u001B[0;32m      5\u001B[0m ], dtype\u001B[38;5;241m=\u001B[39mtorch\u001B[38;5;241m.\u001B[39mfloat32)\n\u001B[0;32m      7\u001B[0m tensor_B \u001B[38;5;241m=\u001B[39m torch\u001B[38;5;241m.\u001B[39mtensor([\n\u001B[0;32m      8\u001B[0m     [\u001B[38;5;241m7\u001B[39m, \u001B[38;5;241m10\u001B[39m],\n\u001B[0;32m      9\u001B[0m     [\u001B[38;5;241m8\u001B[39m, \u001B[38;5;241m11\u001B[39m],\n\u001B[0;32m     10\u001B[0m     [\u001B[38;5;241m9\u001B[39m, \u001B[38;5;241m12\u001B[39m]\n\u001B[0;32m     11\u001B[0m ], dtype\u001B[38;5;241m=\u001B[39mtorch\u001B[38;5;241m.\u001B[39mfloat32)\n\u001B[1;32m---> 13\u001B[0m \u001B[43mtorch\u001B[49m\u001B[38;5;241;43m.\u001B[39;49m\u001B[43mmatmul\u001B[49m\u001B[43m(\u001B[49m\u001B[43mtensor_A\u001B[49m\u001B[43m,\u001B[49m\u001B[43m \u001B[49m\u001B[43mtensor_B\u001B[49m\u001B[43m)\u001B[49m\n",
      "\u001B[1;31mRuntimeError\u001B[0m: mat1 and mat2 shapes cannot be multiplied (3x2 and 3x2)"
     ]
    }
   ],
   "execution_count": 29
  },
  {
   "metadata": {
    "ExecuteTime": {
     "end_time": "2024-10-09T13:28:55.239987Z",
     "start_time": "2024-10-09T13:28:55.236527Z"
    }
   },
   "cell_type": "code",
   "source": [
    "print(f\"Original shapes: tensor_A = {tensor_A.shape}, tensor_B = {tensor_B.shape}\\n\")\n",
    "print(f\"New shapes: tensor_A = {tensor_A.shape} (same as above), tensor_B.T = {tensor_B.T.shape}\\n\")\n",
    "print(f\"Multiplying: {tensor_A.shape} * {tensor_B.T.shape} <- inner dimensions match\\n\")\n",
    "print(\"Output:\\n\")\n",
    "output = torch.matmul(tensor_A, tensor_B.T)\n",
    "print(output)\n",
    "print(f\"\\nOutput shape: {output.shape}\")"
   ],
   "outputs": [
    {
     "name": "stdout",
     "output_type": "stream",
     "text": [
      "Original shapes: tensor_A = torch.Size([3, 2]), tensor_B = torch.Size([3, 2])\n",
      "\n",
      "New shapes: tensor_A = torch.Size([3, 2]) (same as above), tensor_B.T = torch.Size([2, 3])\n",
      "\n",
      "Multiplying: torch.Size([3, 2]) * torch.Size([2, 3]) <- inner dimensions match\n",
      "\n",
      "Output:\n",
      "\n",
      "tensor([[ 27.,  30.,  33.],\n",
      "        [ 61.,  68.,  75.],\n",
      "        [ 95., 106., 117.]])\n",
      "\n",
      "Output shape: torch.Size([3, 3])\n"
     ]
    }
   ],
   "execution_count": 31
  },
  {
   "metadata": {},
   "cell_type": "markdown",
   "source": "#### play around with a linear layer"
  },
  {
   "metadata": {
    "ExecuteTime": {
     "end_time": "2024-10-09T13:35:52.939609Z",
     "start_time": "2024-10-09T13:35:52.929714Z"
    }
   },
   "cell_type": "code",
   "source": [
    "# Since the linear layer starts with a random weights matrix, let's make it reproducible (more on this later)\n",
    "torch.manual_seed(42)\n",
    "\n",
    "linear = torch.nn.Linear(in_features=2,     # in_features = matches inner dimension of input \n",
    "                         out_features=6)    # out_features = describes outer value \n",
    "\n",
    "x = tensor_A\n",
    "output = linear(x)\n",
    "print(f\"Input shape: {x.shape} \\n\")\n",
    "print(f\"Output: \\n{output}\\n\\nOutput shape: {output.shape}\")\n"
   ],
   "outputs": [
    {
     "name": "stdout",
     "output_type": "stream",
     "text": [
      "Input shape: torch.Size([3, 2]) \n",
      "\n",
      "Output: \n",
      "tensor([[2.2368, 1.2292, 0.4714, 0.3864, 0.1309, 0.9838],\n",
      "        [4.4919, 2.1970, 0.4469, 0.5285, 0.3401, 2.4777],\n",
      "        [6.7469, 3.1648, 0.4224, 0.6705, 0.5493, 3.9716]],\n",
      "       grad_fn=<AddmmBackward0>)\n",
      "\n",
      "Output shape: torch.Size([3, 6])\n"
     ]
    }
   ],
   "execution_count": 32
  },
  {
   "metadata": {},
   "cell_type": "markdown",
   "source": "#### Finding the min, max, mean, sum, etc (aggregation)"
  },
  {
   "metadata": {
    "ExecuteTime": {
     "end_time": "2024-10-09T13:43:32.839377Z",
     "start_time": "2024-10-09T13:43:32.835383Z"
    }
   },
   "cell_type": "code",
   "source": [
    "# Create a tensor\n",
    "x = torch.arange(start=0, end=100, step=10)\n",
    "print(x)\n",
    "\n",
    "print(f\"Minimum: {x.min()}\")\n",
    "print(f\"Maximum: {x.max()}\")\n",
    "# print(f\"Mean: {x.mean()}\") # this will error\n",
    "print(f\"Mean: {x.type(torch.float32).mean()}\") # won't work without float datatype\n",
    "print(f\"Sum: {x.sum()}\")"
   ],
   "outputs": [
    {
     "name": "stdout",
     "output_type": "stream",
     "text": [
      "tensor([ 0, 10, 20, 30, 40, 50, 60, 70, 80, 90])\n",
      "Minimum: 0\n",
      "Maximum: 90\n",
      "Mean: 45.0\n",
      "Sum: 450\n"
     ]
    }
   ],
   "execution_count": 33
  },
  {
   "metadata": {
    "ExecuteTime": {
     "end_time": "2024-10-09T13:44:17.500999Z",
     "start_time": "2024-10-09T13:44:17.496850Z"
    }
   },
   "cell_type": "code",
   "source": "torch.max(x), torch.min(x), torch.mean(x.type(torch.float32)), torch.sum(x)",
   "outputs": [
    {
     "data": {
      "text/plain": [
       "(tensor(90), tensor(0), tensor(45.), tensor(450))"
      ]
     },
     "execution_count": 34,
     "metadata": {},
     "output_type": "execute_result"
    }
   ],
   "execution_count": 34
  },
  {
   "metadata": {},
   "cell_type": "markdown",
   "source": "Positional min/max"
  },
  {
   "metadata": {
    "ExecuteTime": {
     "end_time": "2024-10-09T13:49:38.604333Z",
     "start_time": "2024-10-09T13:49:38.600162Z"
    }
   },
   "cell_type": "code",
   "source": [
    "# Create a tensor\n",
    "tensor = torch.arange(start=10, end=100, step=10)\n",
    "print(f\"Tensor: {tensor}\")\n",
    "\n",
    "# Return index of max and min values\n",
    "print(f\"Index where max value occurs: {tensor.argmax()}\")\n",
    "print(f\"Index where min value occurs: {tensor.argmin()}\")\n"
   ],
   "outputs": [
    {
     "name": "stdout",
     "output_type": "stream",
     "text": [
      "Tensor: tensor([10, 20, 30, 40, 50, 60, 70, 80, 90])\n",
      "Index where max value occurs: 8\n",
      "Index where min value occurs: 0\n"
     ]
    }
   ],
   "execution_count": 35
  },
  {
   "metadata": {},
   "cell_type": "markdown",
   "source": "Change tensor datatype"
  },
  {
   "metadata": {
    "ExecuteTime": {
     "end_time": "2024-10-09T13:52:40.867846Z",
     "start_time": "2024-10-09T13:52:40.864587Z"
    }
   },
   "cell_type": "code",
   "source": [
    "# Create a tensor and check its datatype\n",
    "tensor = torch.arange(10., 100., 10.)\n",
    "print(tensor.dtype)\n",
    "\n",
    "tensor_float16 = tensor.type(torch.float16)\n",
    "print(tensor_float16)\n",
    "\n",
    "tensor_int8 = tensor_float16.type(torch.int8)\n",
    "print(tensor_int8)"
   ],
   "outputs": [
    {
     "name": "stdout",
     "output_type": "stream",
     "text": [
      "torch.float32\n",
      "tensor([10., 20., 30., 40., 50., 60., 70., 80., 90.], dtype=torch.float16)\n",
      "tensor([10, 20, 30, 40, 50, 60, 70, 80, 90], dtype=torch.int8)\n"
     ]
    }
   ],
   "execution_count": 37
  },
  {
   "metadata": {},
   "cell_type": "markdown",
   "source": "#### Reshaping, stacking, squeezing, and unsqueezing"
  },
  {
   "metadata": {
    "ExecuteTime": {
     "end_time": "2024-10-11T06:56:14.415545Z",
     "start_time": "2024-10-11T06:56:14.411567Z"
    }
   },
   "cell_type": "code",
   "source": [
    "import torch\n",
    "x = torch.arange(1., 8.)\n",
    "print(x, x.shape)\n",
    "\n",
    "x_reshaped = x.reshape((1, 7))\n",
    "print(x_reshaped, x_reshaped.shape)"
   ],
   "outputs": [
    {
     "name": "stdout",
     "output_type": "stream",
     "text": [
      "tensor([1., 2., 3., 4., 5., 6., 7.]) torch.Size([7])\n",
      "tensor([[1., 2., 3., 4., 5., 6., 7.]]) torch.Size([1, 7])\n"
     ]
    }
   ],
   "execution_count": 14
  },
  {
   "metadata": {},
   "cell_type": "markdown",
   "source": [
    "`torch.view()` can also change the view  \n",
    "**Change** the view changes the original tensor too.  \n",
    "It only creates a new view of the same tensor"
   ]
  },
  {
   "metadata": {
    "ExecuteTime": {
     "end_time": "2024-10-11T06:51:45.461701Z",
     "start_time": "2024-10-11T06:51:45.457552Z"
    }
   },
   "cell_type": "code",
   "source": [
    "z = x.view(1, 7)\n",
    "print(z, z.shape)\n",
    "\n",
    "# Changing z changes x\n",
    "z[:, 0] = 5\n",
    "print(z, x)"
   ],
   "outputs": [
    {
     "name": "stdout",
     "output_type": "stream",
     "text": [
      "tensor([[5., 2., 3., 4., 5., 6., 7.]]) torch.Size([1, 7])\n",
      "tensor([[5., 2., 3., 4., 5., 6., 7.]]) tensor([[5., 2., 3., 4., 5., 6., 7.]])\n"
     ]
    }
   ],
   "execution_count": 9
  },
  {
   "metadata": {},
   "cell_type": "markdown",
   "source": "stack new tensor on top"
  },
  {
   "metadata": {
    "ExecuteTime": {
     "end_time": "2024-10-11T06:53:44.496454Z",
     "start_time": "2024-10-11T06:53:44.492950Z"
    }
   },
   "cell_type": "code",
   "source": [
    "x_stacked = torch.stack([x, x, x, x], dim=0)\n",
    "print(x_stacked)"
   ],
   "outputs": [
    {
     "name": "stdout",
     "output_type": "stream",
     "text": [
      "tensor([[[5., 2., 3., 4., 5., 6., 7.]],\n",
      "\n",
      "        [[5., 2., 3., 4., 5., 6., 7.]],\n",
      "\n",
      "        [[5., 2., 3., 4., 5., 6., 7.]],\n",
      "\n",
      "        [[5., 2., 3., 4., 5., 6., 7.]]])\n"
     ]
    }
   ],
   "execution_count": 13
  },
  {
   "metadata": {},
   "cell_type": "markdown",
   "source": "Squeeze & unsqueeze"
  },
  {
   "metadata": {
    "ExecuteTime": {
     "end_time": "2024-10-11T06:58:50.513309Z",
     "start_time": "2024-10-11T06:58:50.509287Z"
    }
   },
   "cell_type": "code",
   "source": [
    "print(f\"Previous tensor: {x_reshaped}\")\n",
    "print(f\"Previous tensor: {x_reshaped.shape}\")\n",
    "\n",
    "# Remove extra dimension from x_reshaped\n",
    "x_squeezed = x_reshaped.squeeze()\n",
    "print(f\"\\nNew tensor: {x_squeezed}\")\n",
    "print(f\"New shape: {x_squeezed.shape}\")"
   ],
   "outputs": [
    {
     "name": "stdout",
     "output_type": "stream",
     "text": [
      "Previous tensor: tensor([[1., 2., 3., 4., 5., 6., 7.]])\n",
      "Previous tensor: torch.Size([1, 7])\n",
      "\n",
      "New tensor: tensor([1., 2., 3., 4., 5., 6., 7.])\n",
      "New shape: torch.Size([7])\n"
     ]
    }
   ],
   "execution_count": 15
  },
  {
   "metadata": {
    "ExecuteTime": {
     "end_time": "2024-10-11T07:01:43.702797Z",
     "start_time": "2024-10-11T07:01:43.699030Z"
    }
   },
   "cell_type": "code",
   "source": [
    "print(f\"Previous tensor: {x_squeezed}\")\n",
    "print(f\"Previous shape: {x_squeezed.shape}\")\n",
    "\n",
    "# Add an extra dimension with unsqueeze\n",
    "x_unsqueezed = x_squeezed.unsqueeze(dim=0)\n",
    "print(f\"\\nNew tensor: {x_unsqueezed}\")\n",
    "print(f\"New shape: {x_unsqueezed.shape}\")"
   ],
   "outputs": [
    {
     "name": "stdout",
     "output_type": "stream",
     "text": [
      "Previous tensor: tensor([1., 2., 3., 4., 5., 6., 7.])\n",
      "Previous shape: torch.Size([7])\n",
      "\n",
      "New tensor: tensor([[1., 2., 3., 4., 5., 6., 7.]])\n",
      "New shape: torch.Size([1, 7])\n"
     ]
    }
   ],
   "execution_count": 16
  },
  {
   "metadata": {
    "ExecuteTime": {
     "end_time": "2024-10-11T07:04:43.428677Z",
     "start_time": "2024-10-11T07:04:43.425090Z"
    }
   },
   "cell_type": "code",
   "source": [
    "# Create tensor with specific shape\n",
    "x_original = torch.rand(size=(224, 224, 3))\n",
    "\n",
    "# Permute the original tensor to rearrange the axis order\n",
    "x_permuted = x_original.permute(2, 0, 1)\n",
    "\n",
    "print(f\"Previous shape: {x_original.shape}\")\n",
    "print(f\"New shape: {x_permuted.shape}\")"
   ],
   "outputs": [
    {
     "name": "stdout",
     "output_type": "stream",
     "text": [
      "Previous shape: torch.Size([224, 224, 3])\n",
      "New shape: torch.Size([3, 224, 224])\n"
     ]
    }
   ],
   "execution_count": 17
  },
  {
   "metadata": {},
   "cell_type": "markdown",
   "source": "#### Indexing (selecting data from tensors)"
  },
  {
   "metadata": {
    "ExecuteTime": {
     "end_time": "2024-10-11T07:06:14.488198Z",
     "start_time": "2024-10-11T07:06:14.484693Z"
    }
   },
   "cell_type": "code",
   "source": [
    "x = torch.arange(start=1, end=10).reshape(1, 3, 3)\n",
    "print(x, x.shape)"
   ],
   "outputs": [
    {
     "name": "stdout",
     "output_type": "stream",
     "text": [
      "tensor([[[1, 2, 3],\n",
      "         [4, 5, 6],\n",
      "         [7, 8, 9]]]) torch.Size([1, 3, 3])\n"
     ]
    }
   ],
   "execution_count": 18
  },
  {
   "metadata": {
    "ExecuteTime": {
     "end_time": "2024-10-11T07:08:17.388861Z",
     "start_time": "2024-10-11T07:08:17.385029Z"
    }
   },
   "cell_type": "code",
   "source": [
    "print(f\"First square bracket: \\n{x[0]}\")\n",
    "print(f\"Second square bracket: {x[0][0]}\")\n",
    "print(f\"Third square bracket: {x[0][0][0]}\")\n"
   ],
   "outputs": [
    {
     "name": "stdout",
     "output_type": "stream",
     "text": [
      "First square bracket: \n",
      "tensor([[1, 2, 3],\n",
      "        [4, 5, 6],\n",
      "        [7, 8, 9]])\n",
      "Second square bracket: tensor([1, 2, 3])\n",
      "Third square bracket: 1\n"
     ]
    }
   ],
   "execution_count": 19
  },
  {
   "metadata": {
    "ExecuteTime": {
     "end_time": "2024-10-11T07:10:20.594064Z",
     "start_time": "2024-10-11T07:10:20.590064Z"
    }
   },
   "cell_type": "code",
   "source": [
    "print(x[:, 0])\n",
    "print(x[:, :, 1])\n",
    "print(x[:, 1, 1])\n",
    "print(x[0, 0, :])"
   ],
   "outputs": [
    {
     "name": "stdout",
     "output_type": "stream",
     "text": [
      "tensor([[1, 2, 3]])\n",
      "tensor([[2, 5, 8]])\n",
      "tensor([5])\n",
      "tensor([1, 2, 3])\n"
     ]
    }
   ],
   "execution_count": 20
  },
  {
   "metadata": {},
   "cell_type": "markdown",
   "source": "### Pytorch tensors & Numpy"
  },
  {
   "metadata": {
    "ExecuteTime": {
     "end_time": "2024-10-11T07:16:49.401543Z",
     "start_time": "2024-10-11T07:16:49.397460Z"
    }
   },
   "cell_type": "code",
   "source": [
    "import torch\n",
    "import numpy as np\n",
    "\n",
    "array = np.arange(1.0, 8.0)\n",
    "tensor = torch.from_numpy(array).type(torch.float32)\n",
    "print(array, \"\\n\" ,tensor)\n",
    "\n",
    "# By default if you convert it to a tensor will created the datatype float64"
   ],
   "outputs": [
    {
     "name": "stdout",
     "output_type": "stream",
     "text": [
      "[1. 2. 3. 4. 5. 6. 7.] \n",
      " tensor([1., 2., 3., 4., 5., 6., 7.])\n"
     ]
    }
   ],
   "execution_count": 23
  },
  {
   "metadata": {
    "ExecuteTime": {
     "end_time": "2024-10-11T07:19:50.263269Z",
     "start_time": "2024-10-11T07:19:50.259811Z"
    }
   },
   "cell_type": "code",
   "source": [
    "# Change the array, keep the tensor\n",
    "array = array + 1\n",
    "print(array, tensor)"
   ],
   "outputs": [
    {
     "name": "stdout",
     "output_type": "stream",
     "text": [
      "[2. 3. 4. 5. 6. 7. 8.] tensor([1., 2., 3., 4., 5., 6., 7.])\n"
     ]
    }
   ],
   "execution_count": 24
  },
  {
   "metadata": {},
   "cell_type": "markdown",
   "source": "change the tensor to Numpy"
  },
  {
   "metadata": {
    "ExecuteTime": {
     "end_time": "2024-10-11T07:21:46.054860Z",
     "start_time": "2024-10-11T07:21:46.050326Z"
    }
   },
   "cell_type": "code",
   "source": [
    "tensor = torch.ones(7)\n",
    "numpy_tensor = tensor.numpy()\n",
    "\n",
    "tensor, numpy_tensor\n",
    "\n",
    "tensor = tensor + 1\n",
    "tensor, numpy_tensor"
   ],
   "outputs": [
    {
     "data": {
      "text/plain": [
       "(tensor([2., 2., 2., 2., 2., 2., 2.]),\n",
       " array([1., 1., 1., 1., 1., 1., 1.], dtype=float32))"
      ]
     },
     "execution_count": 27,
     "metadata": {},
     "output_type": "execute_result"
    }
   ],
   "execution_count": 27
  },
  {
   "metadata": {},
   "cell_type": "markdown",
   "source": "### Reproducibility (take the random out of random)"
  },
  {
   "metadata": {
    "ExecuteTime": {
     "end_time": "2024-10-11T07:27:38.813706Z",
     "start_time": "2024-10-11T07:27:38.808555Z"
    }
   },
   "cell_type": "code",
   "source": [
    "import torch\n",
    "\n",
    "random_tensor_A = torch.rand((3, 4))\n",
    "random_tensor_B = torch.rand((3, 4))\n",
    "\n",
    "print(f\"Tensor A: \\n{random_tensor_A}\\n\")\n",
    "print(f\"Tensor B: \\n{random_tensor_B}\\n\")\n",
    "print(f\"Does Tensor A equal Tensor B? (any where)\")\n",
    "random_tensor_A == random_tensor_B"
   ],
   "outputs": [
    {
     "name": "stdout",
     "output_type": "stream",
     "text": [
      "Tensor A: \n",
      "tensor([[0.8195, 0.4871, 0.3970, 0.7673],\n",
      "        [0.0963, 0.1115, 0.8758, 0.9564],\n",
      "        [0.2639, 0.7822, 0.8879, 0.0375]])\n",
      "\n",
      "Tensor B: \n",
      "tensor([[0.8572, 0.2094, 0.4702, 0.2779],\n",
      "        [0.6819, 0.7703, 0.2650, 0.5895],\n",
      "        [0.4060, 0.5557, 0.8787, 0.7832]])\n",
      "\n",
      "Does Tensor A equal Tensor B? (any where)\n"
     ]
    },
    {
     "data": {
      "text/plain": [
       "tensor([[False, False, False, False],\n",
       "        [False, False, False, False],\n",
       "        [False, False, False, False]])"
      ]
     },
     "execution_count": 28,
     "metadata": {},
     "output_type": "execute_result"
    }
   ],
   "execution_count": 28
  },
  {
   "metadata": {
    "ExecuteTime": {
     "end_time": "2024-10-11T07:31:01.298732Z",
     "start_time": "2024-10-11T07:31:01.286198Z"
    }
   },
   "cell_type": "code",
   "source": [
    "import torch\n",
    "\n",
    "RANDOM_SEED = 42\n",
    "torch.manual_seed(seed=RANDOM_SEED)\n",
    "random_tensor_C = torch.rand((3, 4))\n",
    "\n",
    "# Have to reset the seed every time a new rand() is called, OR tensor_D would be different to tensor_C\n",
    "torch.manual_seed(RANDOM_SEED)\n",
    "random_tensor_D = torch.rand((3, 4))\n",
    "\n",
    "print(f\"Tensor C:\\n{random_tensor_C}\\n\")\n",
    "print(f\"Tensor D:\\n{random_tensor_D}\\n\")\n",
    "print(f\"Does Tensor C equal Tensor D? (anywhere)\")\n",
    "random_tensor_C == random_tensor_D"
   ],
   "outputs": [
    {
     "name": "stdout",
     "output_type": "stream",
     "text": [
      "Tensor C:\n",
      "tensor([[0.8823, 0.9150, 0.3829, 0.9593],\n",
      "        [0.3904, 0.6009, 0.2566, 0.7936],\n",
      "        [0.9408, 0.1332, 0.9346, 0.5936]])\n",
      "\n",
      "Tensor D:\n",
      "tensor([[0.8823, 0.9150, 0.3829, 0.9593],\n",
      "        [0.3904, 0.6009, 0.2566, 0.7936],\n",
      "        [0.9408, 0.1332, 0.9346, 0.5936]])\n",
      "\n",
      "Does Tensor C equal Tensor D? (anywhere)\n"
     ]
    },
    {
     "data": {
      "text/plain": [
       "tensor([[True, True, True, True],\n",
       "        [True, True, True, True],\n",
       "        [True, True, True, True]])"
      ]
     },
     "execution_count": 29,
     "metadata": {},
     "output_type": "execute_result"
    }
   ],
   "execution_count": 29
  },
  {
   "metadata": {},
   "cell_type": "markdown",
   "source": "#### Running tensors on GPUs"
  },
  {
   "metadata": {
    "ExecuteTime": {
     "end_time": "2024-10-11T07:41:35.726665Z",
     "start_time": "2024-10-11T07:41:35.676411Z"
    }
   },
   "cell_type": "code",
   "source": [
    "import torch\n",
    "print(torch.cuda.is_available())\n",
    "device = \"cuda\" if torch.cuda.is_available() else \"cpu\"\n",
    "print(device)\n",
    "print(torch.cuda.device_count())"
   ],
   "outputs": [
    {
     "name": "stdout",
     "output_type": "stream",
     "text": [
      "True\n",
      "cuda\n",
      "1\n"
     ]
    }
   ],
   "execution_count": 30
  },
  {
   "metadata": {
    "ExecuteTime": {
     "end_time": "2024-10-11T07:44:35.321728Z",
     "start_time": "2024-10-11T07:44:35.183205Z"
    }
   },
   "cell_type": "code",
   "source": [
    "# Create tensor (default on CPU)\n",
    "tensor = torch.tensor([1, 2, 3])\n",
    "\n",
    "# Tensor not on GPU\n",
    "print(tensor, tensor.device)\n",
    "\n",
    "# Move tensor to GPU (if available)\n",
    "tensor_on_gpu = tensor.to(device)\n",
    "print(tensor_on_gpu)"
   ],
   "outputs": [
    {
     "name": "stdout",
     "output_type": "stream",
     "text": [
      "tensor([1, 2, 3]) cpu\n",
      "tensor([1, 2, 3], device='cuda:0')\n"
     ]
    }
   ],
   "execution_count": 31
  },
  {
   "metadata": {},
   "cell_type": "markdown",
   "source": "Moving tensors back to the CPU"
  },
  {
   "metadata": {
    "ExecuteTime": {
     "end_time": "2024-10-11T07:45:59.749764Z",
     "start_time": "2024-10-11T07:45:59.728020Z"
    }
   },
   "cell_type": "code",
   "source": [
    "# If tensor is on GPU, can't transform it to Numpy (this will error)\n",
    "tensor_on_gpu.numpy()"
   ],
   "outputs": [
    {
     "ename": "TypeError",
     "evalue": "can't convert cuda:0 device type tensor to numpy. Use Tensor.cpu() to copy the tensor to host memory first.",
     "output_type": "error",
     "traceback": [
      "\u001B[1;31m---------------------------------------------------------------------------\u001B[0m",
      "\u001B[1;31mTypeError\u001B[0m                                 Traceback (most recent call last)",
      "Cell \u001B[1;32mIn[32], line 2\u001B[0m\n\u001B[0;32m      1\u001B[0m \u001B[38;5;66;03m# If tensor is on GPU, can't transform it to Numpy (this will error)\u001B[39;00m\n\u001B[1;32m----> 2\u001B[0m \u001B[43mtensor_on_gpu\u001B[49m\u001B[38;5;241;43m.\u001B[39;49m\u001B[43mnumpy\u001B[49m\u001B[43m(\u001B[49m\u001B[43m)\u001B[49m\n",
      "\u001B[1;31mTypeError\u001B[0m: can't convert cuda:0 device type tensor to numpy. Use Tensor.cpu() to copy the tensor to host memory first."
     ]
    }
   ],
   "execution_count": 32
  },
  {
   "metadata": {
    "ExecuteTime": {
     "end_time": "2024-10-11T07:46:46.939571Z",
     "start_time": "2024-10-11T07:46:46.935554Z"
    }
   },
   "cell_type": "code",
   "source": [
    "# Instead, copy the tensor back to cpu\n",
    "tensor_back_on_cpu = tensor_on_gpu.cpu().numpy()\n",
    "print(tensor_back_on_cpu)"
   ],
   "outputs": [
    {
     "name": "stdout",
     "output_type": "stream",
     "text": [
      "[1 2 3]\n"
     ]
    }
   ],
   "execution_count": 33
  }
 ],
 "metadata": {
  "kernelspec": {
   "display_name": "Python 3 (ipykernel)",
   "language": "python",
   "name": "python3"
  },
  "language_info": {
   "codemirror_mode": {
    "name": "ipython",
    "version": 3
   },
   "file_extension": ".py",
   "mimetype": "text/x-python",
   "name": "python",
   "nbconvert_exporter": "python",
   "pygments_lexer": "ipython3",
   "version": "3.11.9"
  }
 },
 "nbformat": 4,
 "nbformat_minor": 2
}
