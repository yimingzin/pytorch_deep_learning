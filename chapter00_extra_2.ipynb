{
 "cells": [
  {
   "metadata": {},
   "cell_type": "markdown",
   "source": "### Working with data",
   "id": "66916dc2ea448e85"
  },
  {
   "metadata": {},
   "cell_type": "markdown",
   "source": [
    "Pytorch has two ways to work with data\n",
    "- torch.utils.data.Dataset\n",
    "    - TorchText\n",
    "    - TorchVision\n",
    "    - TorchAudio \n",
    "- torch.utils.data.DataLoader"
   ],
   "id": "99af6a6a84af9fab"
  },
  {
   "metadata": {},
   "cell_type": "code",
   "outputs": [],
   "execution_count": 2,
   "source": [
    "import torch\n",
    "from torch import nn\n",
    "from torch.utils.data import DataLoader\n",
    "from torchvision import datasets\n",
    "from torchvision.transforms import ToTensor"
   ],
   "id": "99a9cec5f483a80c"
  },
  {
   "metadata": {},
   "cell_type": "markdown",
   "source": "Every TorchVision Dataset includes two arguments: `transform` and `target_transform` to modify the samples and labels",
   "id": "de25f1f63b46f925"
  },
  {
   "metadata": {},
   "cell_type": "code",
   "outputs": [],
   "execution_count": 5,
   "source": [
    "# Download training data from open datasets\n",
    "train_data = datasets.FashionMNIST(\n",
    "    root=\"data\",\n",
    "    train=True,\n",
    "    download=True,\n",
    "    transform=ToTensor() # 将图像数据从原来的像素范围(0 ~ 255) 归一化为0 到 1之间的浮点数值, 并转为Pytorch张量\n",
    ")\n",
    "\n",
    "# Download test data from open datasets\n",
    "test_data = datasets.FashionMNIST(\n",
    "    root=\"data\",\n",
    "    train=False,\n",
    "    download=True,\n",
    "    transform=ToTensor()\n",
    ")"
   ],
   "id": "61943aad67e1ff93"
  },
  {
   "metadata": {},
   "cell_type": "markdown",
   "source": "Pass the `Dataset` as an argument to `DataLoader`. ",
   "id": "e55d6d964db97b76"
  },
  {
   "metadata": {},
   "cell_type": "code",
   "outputs": [
    {
     "name": "stdout",
     "output_type": "stream",
     "text": [
      "Shape of X [N, C, H, W]: torch.Size([64, 1, 28, 28])\n",
      "Shape of y: torch.Size([64]) torch.int64\n"
     ]
    }
   ],
   "execution_count": 7,
   "source": [
    "batch_size = 64\n",
    "\n",
    "# Create data loaders\n",
    "train_dataloader = torch.utils.data.DataLoader(train_data, batch_size=batch_size)\n",
    "test_dataloader = torch.utils.data.DataLoader(test_data, batch_size=batch_size)\n",
    "\n",
    "for X, y in test_dataloader:\n",
    "    print(f\"Shape of X [N, C, H, W]: {X.shape}\")\n",
    "    print(f\"Shape of y: {y.shape} {y.dtype}\")\n",
    "    break"
   ],
   "id": "eae10e1d3690eb98"
  },
  {
   "metadata": {},
   "cell_type": "markdown",
   "source": "### Creating Models",
   "id": "ae2b9e28f665dedd"
  },
  {
   "metadata": {
    "ExecuteTime": {
     "end_time": "2024-10-12T07:01:31.129101Z",
     "start_time": "2024-10-12T07:01:31.126639Z"
    }
   },
   "cell_type": "code",
   "source": [
    "device = \"cuda\" if torch.cuda.is_available() else \"cpu\"\n",
    "print(f\"Using {device} device\")"
   ],
   "id": "f83826956f3d616f",
   "outputs": [
    {
     "name": "stdout",
     "output_type": "stream",
     "text": [
      "Using cuda device\n"
     ]
    }
   ],
   "execution_count": 10
  },
  {
   "metadata": {
    "ExecuteTime": {
     "end_time": "2024-10-12T07:05:26.992886Z",
     "start_time": "2024-10-12T07:05:26.863730Z"
    }
   },
   "cell_type": "code",
   "source": [
    "# Define Model\n",
    "class NeuralNetwork(nn.Module):\n",
    "    def __init__(self):\n",
    "        super().__init__()\n",
    "        self.flatten = nn.Flatten()\n",
    "        self.linear_relu_stack = nn.Sequential(\n",
    "            nn.Linear(28*28, 512),\n",
    "            nn.ReLU(),\n",
    "            nn.Linear(512, 512),\n",
    "            nn.ReLU(),\n",
    "            nn.Linear(512, 10)\n",
    "        )\n",
    "    \n",
    "    def forward(self, x):\n",
    "        x = self.flatten(x)\n",
    "        logits = self.linear_relu_stack(x)\n",
    "        return logits\n",
    "\n",
    "model = NeuralNetwork().to(device)\n",
    "print(model)"
   ],
   "id": "a1184d4a8997a6d0",
   "outputs": [
    {
     "name": "stdout",
     "output_type": "stream",
     "text": [
      "NeuralNetwork(\n",
      "  (flatten): Flatten(start_dim=1, end_dim=-1)\n",
      "  (linear_relu_stack): Sequential(\n",
      "    (0): Linear(in_features=784, out_features=512, bias=True)\n",
      "    (1): ReLU()\n",
      "    (2): Linear(in_features=512, out_features=512, bias=True)\n",
      "    (3): ReLU()\n",
      "    (4): Linear(in_features=512, out_features=10, bias=True)\n",
      "  )\n",
      ")\n"
     ]
    }
   ],
   "execution_count": 12
  },
  {
   "metadata": {},
   "cell_type": "markdown",
   "source": [
    "#### Optimizing the Model Parameters  \n",
    "  \n",
    "To train a model, we need a **loss function** and an **optimizer**"
   ],
   "id": "dce8f512d2aeac71"
  },
  {
   "metadata": {
    "ExecuteTime": {
     "end_time": "2024-10-12T07:23:39.495622Z",
     "start_time": "2024-10-12T07:23:39.491715Z"
    }
   },
   "cell_type": "code",
   "source": [
    "loss_fn = nn.CrossEntropyLoss()\n",
    "optimizer = torch.optim.SGD(model.parameters(), lr=1e-3)"
   ],
   "id": "2e9cbb4b7be101bf",
   "outputs": [],
   "execution_count": 13
  },
  {
   "metadata": {},
   "cell_type": "markdown",
   "source": "",
   "id": "23f191d0564775a7"
  },
  {
   "metadata": {
    "ExecuteTime": {
     "end_time": "2024-10-12T09:09:20.302005Z",
     "start_time": "2024-10-12T09:09:20.298773Z"
    }
   },
   "cell_type": "code",
   "source": [
    "def train(dataloader, model, loss_fn, optimizer):\n",
    "    size = len(dataloader.dataset)\n",
    "    model.train()\n",
    "    \n",
    "    for batch, (X, y) in enumerate(dataloader):\n",
    "        X, y = X.to(device), y.to(device)\n",
    "        \n",
    "        # Compute prediction error\n",
    "        pred = model(X)\n",
    "        loss = loss_fn(pred, y)\n",
    "        \n",
    "        # Backpropagation\n",
    "        loss.backward()\n",
    "        optimizer.step()\n",
    "        optimizer.zero_grad()\n",
    "        \n",
    "        if batch % 100 == 0:\n",
    "            loss, current = loss.item(), (batch + 1) * len(X)\n",
    "            print(f\"loss: {loss:>7f} [{current:>5d}] / {size:>5d}\")"
   ],
   "id": "e7236ffa456e4dc8",
   "outputs": [],
   "execution_count": 19
  },
  {
   "metadata": {
    "ExecuteTime": {
     "end_time": "2024-10-12T09:09:23.596591Z",
     "start_time": "2024-10-12T09:09:23.592262Z"
    }
   },
   "cell_type": "code",
   "source": [
    "def test(dataloader, model, loss_fn):\n",
    "    size = len(dataloader.dataset)\n",
    "    num_batches = len(dataloader)\n",
    "    model.eval()\n",
    "    test_loss, correct = 0, 0\n",
    "    with torch.no_grad():\n",
    "        for X, y in dataloader:\n",
    "            X, y = X.to(device), y.to(device)\n",
    "            pred = model(X)\n",
    "            test_loss += loss_fn(pred, y).item()\n",
    "            correct += (pred.argmax(1) == y).type(torch.float).sum().item()\n",
    "    test_loss /= num_batches\n",
    "    correct /= size\n",
    "    print(f\"Test Error: \\n Accuracy: {100 * correct:>0.1f}%, Avg loss: {test_loss:>8f} \\n\")"
   ],
   "id": "40308450724c7e2c",
   "outputs": [],
   "execution_count": 20
  },
  {
   "metadata": {
    "ExecuteTime": {
     "end_time": "2024-10-12T09:09:46.479931Z",
     "start_time": "2024-10-12T09:09:25.552979Z"
    }
   },
   "cell_type": "code",
   "source": [
    "epochs = 5\n",
    "for t in range(epochs):\n",
    "    print(f\"Epoch {t+1}\\n ---------------------\")\n",
    "    train(train_dataloader, model, loss_fn, optimizer)\n",
    "    test(test_dataloader, model, loss_fn)\n",
    "print(\"Done!\")"
   ],
   "id": "988d356a3c650483",
   "outputs": [
    {
     "name": "stdout",
     "output_type": "stream",
     "text": [
      "Epoch 1\n",
      " ---------------------\n",
      "loss: 1.147435 [   64] / 60000\n",
      "loss: 1.165379 [ 6464] / 60000\n",
      "loss: 0.971115 [12864] / 60000\n",
      "loss: 1.114397 [19264] / 60000\n",
      "loss: 0.984085 [25664] / 60000\n",
      "loss: 1.016999 [32064] / 60000\n",
      "loss: 1.060883 [38464] / 60000\n",
      "loss: 0.991088 [44864] / 60000\n",
      "loss: 1.038761 [51264] / 60000\n",
      "loss: 0.960916 [57664] / 60000\n",
      "Test Error: \n",
      " Accuracy: 65.8%, Avg loss: 0.981262 \n",
      "\n",
      "Epoch 2\n",
      " ---------------------\n",
      "loss: 1.030967 [   64] / 60000\n",
      "loss: 1.069005 [ 6464] / 60000\n",
      "loss: 0.857517 [12864] / 60000\n",
      "loss: 1.023769 [19264] / 60000\n",
      "loss: 0.897737 [25664] / 60000\n",
      "loss: 0.924868 [32064] / 60000\n",
      "loss: 0.987012 [38464] / 60000\n",
      "loss: 0.915373 [44864] / 60000\n",
      "loss: 0.964098 [51264] / 60000\n",
      "loss: 0.895761 [57664] / 60000\n",
      "Test Error: \n",
      " Accuracy: 67.3%, Avg loss: 0.909829 \n",
      "\n",
      "Epoch 3\n",
      " ---------------------\n",
      "loss: 0.945320 [   64] / 60000\n",
      "loss: 1.000981 [ 6464] / 60000\n",
      "loss: 0.775426 [12864] / 60000\n",
      "loss: 0.959381 [19264] / 60000\n",
      "loss: 0.840503 [25664] / 60000\n",
      "loss: 0.856640 [32064] / 60000\n",
      "loss: 0.935572 [38464] / 60000\n",
      "loss: 0.863110 [44864] / 60000\n",
      "loss: 0.910182 [51264] / 60000\n",
      "loss: 0.848720 [57664] / 60000\n",
      "Test Error: \n",
      " Accuracy: 68.5%, Avg loss: 0.857943 \n",
      "\n",
      "Epoch 4\n",
      " ---------------------\n",
      "loss: 0.878724 [   64] / 60000\n",
      "loss: 0.949049 [ 6464] / 60000\n",
      "loss: 0.713779 [12864] / 60000\n",
      "loss: 0.910896 [19264] / 60000\n",
      "loss: 0.799566 [25664] / 60000\n",
      "loss: 0.804785 [32064] / 60000\n",
      "loss: 0.896368 [38464] / 60000\n",
      "loss: 0.825613 [44864] / 60000\n",
      "loss: 0.869749 [51264] / 60000\n",
      "loss: 0.812633 [57664] / 60000\n",
      "Test Error: \n",
      " Accuracy: 69.7%, Avg loss: 0.818161 \n",
      "\n",
      "Epoch 5\n",
      " ---------------------\n",
      "loss: 0.824905 [   64] / 60000\n",
      "loss: 0.906612 [ 6464] / 60000\n",
      "loss: 0.665902 [12864] / 60000\n",
      "loss: 0.872609 [19264] / 60000\n",
      "loss: 0.768439 [25664] / 60000\n",
      "loss: 0.764419 [32064] / 60000\n",
      "loss: 0.864119 [38464] / 60000\n",
      "loss: 0.797546 [44864] / 60000\n",
      "loss: 0.838189 [51264] / 60000\n",
      "loss: 0.783490 [57664] / 60000\n",
      "Test Error: \n",
      " Accuracy: 70.9%, Avg loss: 0.786096 \n",
      "\n",
      "Done!\n"
     ]
    }
   ],
   "execution_count": 21
  },
  {
   "metadata": {},
   "cell_type": "markdown",
   "source": "#### Saving Models",
   "id": "7592319b52e14641"
  },
  {
   "metadata": {
    "ExecuteTime": {
     "end_time": "2024-10-12T09:51:19.926575Z",
     "start_time": "2024-10-12T09:51:19.914255Z"
    }
   },
   "cell_type": "code",
   "source": [
    "torch.save(model.state_dict(), \"chapter00_model/model.pth\")\n",
    "print(\"Saved Pytorch Model State to model.pth\")"
   ],
   "id": "8fb35a3243e6c684",
   "outputs": [
    {
     "name": "stdout",
     "output_type": "stream",
     "text": [
      "Saved Pytorch Model State to model.pth\n"
     ]
    }
   ],
   "execution_count": 24
  },
  {
   "metadata": {},
   "cell_type": "markdown",
   "source": "#### Loading Models",
   "id": "c440ca9019358274"
  },
  {
   "metadata": {
    "ExecuteTime": {
     "end_time": "2024-10-12T09:52:56.807721Z",
     "start_time": "2024-10-12T09:52:56.760533Z"
    }
   },
   "cell_type": "code",
   "source": [
    "model = NeuralNetwork().to(device)\n",
    "model.load_state_dict(torch.load(\"chapter00_model/model.pth\", weights_only=True))"
   ],
   "id": "eb521d08acfc0218",
   "outputs": [
    {
     "data": {
      "text/plain": [
       "<All keys matched successfully>"
      ]
     },
     "execution_count": 25,
     "metadata": {},
     "output_type": "execute_result"
    }
   ],
   "execution_count": 25
  },
  {
   "metadata": {
    "ExecuteTime": {
     "end_time": "2024-10-12T09:55:43.280063Z",
     "start_time": "2024-10-12T09:55:43.238806Z"
    }
   },
   "cell_type": "code",
   "source": [
    "classes = [\n",
    "    \"T-shirt/top\",\n",
    "    \"Trouser\",\n",
    "    \"Pullover\",\n",
    "    \"Dress\",\n",
    "    \"Coat\",\n",
    "    \"Sandal\",\n",
    "    \"Shirt\",\n",
    "    \"Sneaker\",\n",
    "    \"Bag\",\n",
    "    \"Ankle boot\",\n",
    "]\n",
    "\n",
    "model.eval()\n",
    "x, y = test_data[0][0], test_data[0][1]\n",
    "with torch.no_grad():\n",
    "    x = x.to(device)\n",
    "    pred = model(x)\n",
    "    predicted, actual = classes[pred[0].argmax(0)], classes[y]\n",
    "    print(f\"Predicted: {predicted}, Actual: {actual}\")"
   ],
   "id": "af3cfc0dbc670702",
   "outputs": [
    {
     "name": "stdout",
     "output_type": "stream",
     "text": [
      "Predicted: Ankle boot, Actual: Ankle boot\n"
     ]
    }
   ],
   "execution_count": 26
  }
 ],
 "metadata": {
  "kernelspec": {
   "display_name": "Python 3",
   "language": "python",
   "name": "python3"
  },
  "language_info": {
   "codemirror_mode": {
    "name": "ipython",
    "version": 2
   },
   "file_extension": ".py",
   "mimetype": "text/x-python",
   "name": "python",
   "nbconvert_exporter": "python",
   "pygments_lexer": "ipython2",
   "version": "2.7.6"
  }
 },
 "nbformat": 4,
 "nbformat_minor": 5
}
